{
 "cells": [
  {
   "cell_type": "markdown",
   "id": "180fdfae",
   "metadata": {},
   "source": [
    "### Flair Sentiment Analysis"
   ]
  },
  {
   "cell_type": "code",
   "execution_count": 1,
   "id": "646fbcff",
   "metadata": {},
   "outputs": [],
   "source": [
    "import pandas as pd\n",
    "import numpy as np"
   ]
  },
  {
   "cell_type": "code",
   "execution_count": 2,
   "id": "255d46ac",
   "metadata": {},
   "outputs": [],
   "source": [
    "from flair.models import TextClassifier\n",
    "from flair.data import Sentence"
   ]
  },
  {
   "cell_type": "code",
   "execution_count": 3,
   "id": "aac21cd4",
   "metadata": {},
   "outputs": [],
   "source": [
    "classifier = TextClassifier.load('en-sentiment')"
   ]
  },
  {
   "cell_type": "markdown",
   "id": "032bb7b5",
   "metadata": {},
   "source": [
    "#### Reading the excel created by us manually that contains data from Financial Reports for top 10 companies"
   ]
  },
  {
   "cell_type": "code",
   "execution_count": 4,
   "id": "30528a9f",
   "metadata": {},
   "outputs": [],
   "source": [
    "df = pd.read_excel(\"data_financial reports.xlsx\")"
   ]
  },
  {
   "cell_type": "code",
   "execution_count": 5,
   "id": "ebe47b62",
   "metadata": {},
   "outputs": [
    {
     "data": {
      "text/plain": [
       "3721"
      ]
     },
     "execution_count": 5,
     "metadata": {},
     "output_type": "execute_result"
    }
   ],
   "source": [
    "len(df)"
   ]
  },
  {
   "cell_type": "code",
   "execution_count": 38,
   "id": "0ff5cda2",
   "metadata": {},
   "outputs": [
    {
     "data": {
      "text/html": [
       "<div>\n",
       "<style scoped>\n",
       "    .dataframe tbody tr th:only-of-type {\n",
       "        vertical-align: middle;\n",
       "    }\n",
       "\n",
       "    .dataframe tbody tr th {\n",
       "        vertical-align: top;\n",
       "    }\n",
       "\n",
       "    .dataframe thead th {\n",
       "        text-align: right;\n",
       "    }\n",
       "</style>\n",
       "<table border=\"1\" class=\"dataframe\">\n",
       "  <thead>\n",
       "    <tr style=\"text-align: right;\">\n",
       "      <th></th>\n",
       "      <th>Date</th>\n",
       "      <th>Stock name</th>\n",
       "      <th>Report type</th>\n",
       "      <th>Report section</th>\n",
       "      <th>Content</th>\n",
       "      <th>Note</th>\n",
       "    </tr>\n",
       "  </thead>\n",
       "  <tbody>\n",
       "    <tr>\n",
       "      <th>0</th>\n",
       "      <td>2018-02-01</td>\n",
       "      <td>AAPL</td>\n",
       "      <td>8-K</td>\n",
       "      <td>8-K|2.02</td>\n",
       "      <td>On February 1, 2018, Apple Inc. (“Apple”) issu...</td>\n",
       "      <td>NaN</td>\n",
       "    </tr>\n",
       "  </tbody>\n",
       "</table>\n",
       "</div>"
      ],
      "text/plain": [
       "        Date Stock name Report type Report section  \\\n",
       "0 2018-02-01       AAPL         8-K       8-K|2.02   \n",
       "\n",
       "                                             Content Note  \n",
       "0  On February 1, 2018, Apple Inc. (“Apple”) issu...  NaN  "
      ]
     },
     "execution_count": 38,
     "metadata": {},
     "output_type": "execute_result"
    }
   ],
   "source": [
    "df[:1]"
   ]
  },
  {
   "cell_type": "code",
   "execution_count": 6,
   "id": "b10de0f9",
   "metadata": {},
   "outputs": [],
   "source": [
    "df_array = np.array(df)"
   ]
  },
  {
   "cell_type": "code",
   "execution_count": 41,
   "id": "2d56a597",
   "metadata": {},
   "outputs": [
    {
     "data": {
      "text/plain": [
       "array([[Timestamp('2018-02-01 00:00:00')]], dtype=object)"
      ]
     },
     "execution_count": 41,
     "metadata": {},
     "output_type": "execute_result"
    }
   ],
   "source": [
    "df_array[:1,:1]"
   ]
  },
  {
   "cell_type": "code",
   "execution_count": 9,
   "id": "1292d0ae",
   "metadata": {},
   "outputs": [
    {
     "data": {
      "text/plain": [
       "3040"
      ]
     },
     "execution_count": 9,
     "metadata": {},
     "output_type": "execute_result"
    }
   ],
   "source": [
    "len(df_array)"
   ]
  },
  {
   "cell_type": "code",
   "execution_count": 39,
   "id": "22587edd",
   "metadata": {},
   "outputs": [
    {
     "data": {
      "text/plain": [
       "'On May 1, 2018, Apple Inc. (“Apple”) issued a press release regarding Apple’s financial results for its second fiscal quarter ended March 31, 2018 and a related data sheet. A copy of Apple’s press release is attached hereto as Exhibit 99.1 and a copy of the related data sheet is attached hereto as Exhibit 99.2.\\nThe information contained in this Current Report shall not be deemed “filed” for purposes of Section 18 of the Securities Exchange Act of 1934, as amended (the “Exchange Act”), or incorporated by reference in any filing under the Securities Act of 1933, as amended, or the Exchange Act, except as shall be expressly set forth by specific reference in such a filing.'"
      ]
     },
     "execution_count": 39,
     "metadata": {},
     "output_type": "execute_result"
    }
   ],
   "source": [
    "# df_array[2,4]"
   ]
  },
  {
   "cell_type": "code",
   "execution_count": 7,
   "id": "50a4f980",
   "metadata": {},
   "outputs": [],
   "source": [
    "content_list = list(df_array[:, 4].astype(str))"
   ]
  },
  {
   "cell_type": "code",
   "execution_count": 8,
   "id": "9b83e056",
   "metadata": {},
   "outputs": [
    {
     "data": {
      "text/plain": [
       "3721"
      ]
     },
     "execution_count": 8,
     "metadata": {},
     "output_type": "execute_result"
    }
   ],
   "source": [
    "len(content_list)"
   ]
  },
  {
   "cell_type": "code",
   "execution_count": null,
   "id": "f8e0d062",
   "metadata": {},
   "outputs": [],
   "source": [
    "sentiment_list = []\n",
    "label_value = []\n",
    "label_score = []\n",
    "for i,j in enumerate(content_list):\n",
    "    sentence = Sentence(j)\n",
    "    classifier.predict(sentence)\n",
    "    for label in sentence.get_labels():\n",
    "        # print label value and score\n",
    "        label_value.append(label.value)\n",
    "        label_score.append(label.score)\n",
    "#         label = str(label.value)+\" \"+str(label.score)\n",
    "#         sentiment_list.append(label)\n",
    "#         print(\"Content: \",j,\"\\n\")\n",
    "#         print(\"Sentiment: \",label.value,label.score,\"\\n\")"
   ]
  },
  {
   "cell_type": "code",
   "execution_count": 16,
   "id": "1bc3938a",
   "metadata": {},
   "outputs": [
    {
     "data": {
      "text/plain": [
       "3027"
      ]
     },
     "execution_count": 16,
     "metadata": {},
     "output_type": "execute_result"
    }
   ],
   "source": [
    "len(label_score)"
   ]
  },
  {
   "cell_type": "code",
   "execution_count": 17,
   "id": "2c9dff60",
   "metadata": {},
   "outputs": [
    {
     "data": {
      "text/plain": [
       "3027"
      ]
     },
     "execution_count": 17,
     "metadata": {},
     "output_type": "execute_result"
    }
   ],
   "source": [
    "len(label_value)"
   ]
  },
  {
   "cell_type": "code",
   "execution_count": 23,
   "id": "eb782c9a",
   "metadata": {},
   "outputs": [],
   "source": [
    "df_tab = pd.DataFrame(df_array[:, :6], columns=['Date', 'Stock name', 'Report type', 'Report section', 'Content', 'Note'])"
   ]
  },
  {
   "cell_type": "code",
   "execution_count": 24,
   "id": "e6d26ded",
   "metadata": {},
   "outputs": [
    {
     "data": {
      "text/plain": [
       "3027"
      ]
     },
     "execution_count": 24,
     "metadata": {},
     "output_type": "execute_result"
    }
   ],
   "source": [
    "len(df_tab)"
   ]
  },
  {
   "cell_type": "code",
   "execution_count": 25,
   "id": "64152401",
   "metadata": {},
   "outputs": [],
   "source": [
    "df_tab['Sentiment value'] = label_value"
   ]
  },
  {
   "cell_type": "code",
   "execution_count": 26,
   "id": "3ce3ba4d",
   "metadata": {},
   "outputs": [],
   "source": [
    "df_tab['Sentiment score'] = label_score"
   ]
  },
  {
   "cell_type": "code",
   "execution_count": 35,
   "id": "5013d5b7",
   "metadata": {},
   "outputs": [
    {
     "data": {
      "text/plain": [
       "array([[Timestamp('2018-02-01 00:00:00')]], dtype=object)"
      ]
     },
     "execution_count": 35,
     "metadata": {},
     "output_type": "execute_result"
    }
   ],
   "source": [
    "df_array[:1,:1]"
   ]
  },
  {
   "cell_type": "code",
   "execution_count": null,
   "id": "0e4519ba",
   "metadata": {},
   "outputs": [],
   "source": [
    "df_tab['Date'] = pd.to_datetime(df_tab['Date'])"
   ]
  },
  {
   "cell_type": "code",
   "execution_count": null,
   "id": "583032b6",
   "metadata": {},
   "outputs": [],
   "source": [
    "df_tab['Date'] = df_tab['Date'].dt.date"
   ]
  },
  {
   "cell_type": "markdown",
   "id": "55761dc7",
   "metadata": {},
   "source": [
    "#### Sample result"
   ]
  },
  {
   "cell_type": "code",
   "execution_count": 51,
   "id": "7580ccbb",
   "metadata": {},
   "outputs": [],
   "source": [
    "df_tab.to_excel('Result_Flair_v1.xlsx', index=False)"
   ]
  },
  {
   "cell_type": "code",
   "execution_count": 52,
   "id": "c31a8c2f",
   "metadata": {},
   "outputs": [
    {
     "data": {
      "text/html": [
       "<div>\n",
       "<style scoped>\n",
       "    .dataframe tbody tr th:only-of-type {\n",
       "        vertical-align: middle;\n",
       "    }\n",
       "\n",
       "    .dataframe tbody tr th {\n",
       "        vertical-align: top;\n",
       "    }\n",
       "\n",
       "    .dataframe thead th {\n",
       "        text-align: right;\n",
       "    }\n",
       "</style>\n",
       "<table border=\"1\" class=\"dataframe\">\n",
       "  <thead>\n",
       "    <tr style=\"text-align: right;\">\n",
       "      <th></th>\n",
       "      <th>Date</th>\n",
       "      <th>Stock name</th>\n",
       "      <th>Report type</th>\n",
       "      <th>Report section</th>\n",
       "      <th>Content</th>\n",
       "      <th>Note</th>\n",
       "      <th>Sentiment value</th>\n",
       "      <th>Sentiment score</th>\n",
       "    </tr>\n",
       "  </thead>\n",
       "  <tbody>\n",
       "    <tr>\n",
       "      <th>0</th>\n",
       "      <td>2018-02-01</td>\n",
       "      <td>AAPL</td>\n",
       "      <td>8-K</td>\n",
       "      <td>8-K|2.02</td>\n",
       "      <td>On February 1, 2018, Apple Inc. (“Apple”) issu...</td>\n",
       "      <td>NaN</td>\n",
       "      <td>NEGATIVE</td>\n",
       "      <td>0.999213</td>\n",
       "    </tr>\n",
       "    <tr>\n",
       "      <th>1</th>\n",
       "      <td>2018-02-14</td>\n",
       "      <td>AAPL</td>\n",
       "      <td>8-K</td>\n",
       "      <td>8-K|5.07</td>\n",
       "      <td>The Annual Meeting of Shareholders of Apple In...</td>\n",
       "      <td>NaN</td>\n",
       "      <td>NEGATIVE</td>\n",
       "      <td>0.858020</td>\n",
       "    </tr>\n",
       "    <tr>\n",
       "      <th>2</th>\n",
       "      <td>2018-05-01</td>\n",
       "      <td>AAPL</td>\n",
       "      <td>8-K</td>\n",
       "      <td>8-K|2.02</td>\n",
       "      <td>On May 1, 2018, Apple Inc. (“Apple”) issued a ...</td>\n",
       "      <td>NaN</td>\n",
       "      <td>NEGATIVE</td>\n",
       "      <td>0.999293</td>\n",
       "    </tr>\n",
       "    <tr>\n",
       "      <th>3</th>\n",
       "      <td>2018-05-07</td>\n",
       "      <td>AAPL</td>\n",
       "      <td>8-K</td>\n",
       "      <td>8-K|8.01</td>\n",
       "      <td>On April 30, 2018, the Superior Court of the S...</td>\n",
       "      <td>NaN</td>\n",
       "      <td>NEGATIVE</td>\n",
       "      <td>0.700275</td>\n",
       "    </tr>\n",
       "    <tr>\n",
       "      <th>4</th>\n",
       "      <td>2018-05-08</td>\n",
       "      <td>AAPL</td>\n",
       "      <td>8-K</td>\n",
       "      <td>8-K|8.01</td>\n",
       "      <td>On May 7, 2018, Apple Inc. filed a Current Rep...</td>\n",
       "      <td>NaN</td>\n",
       "      <td>NEGATIVE</td>\n",
       "      <td>0.999356</td>\n",
       "    </tr>\n",
       "    <tr>\n",
       "      <th>5</th>\n",
       "      <td>2018-07-31</td>\n",
       "      <td>AAPL</td>\n",
       "      <td>8-K</td>\n",
       "      <td>8-K|2.02</td>\n",
       "      <td>On July 31, 2018, Apple Inc. (“Apple”) issued ...</td>\n",
       "      <td>NaN</td>\n",
       "      <td>NEGATIVE</td>\n",
       "      <td>0.999339</td>\n",
       "    </tr>\n",
       "    <tr>\n",
       "      <th>6</th>\n",
       "      <td>2018-11-01</td>\n",
       "      <td>AAPL</td>\n",
       "      <td>8-K</td>\n",
       "      <td>8-K|2.02</td>\n",
       "      <td>On November 1, 2018, Apple Inc. (“Apple”) issu...</td>\n",
       "      <td>NaN</td>\n",
       "      <td>NEGATIVE</td>\n",
       "      <td>0.999258</td>\n",
       "    </tr>\n",
       "    <tr>\n",
       "      <th>7</th>\n",
       "      <td>2019-01-02</td>\n",
       "      <td>AAPL</td>\n",
       "      <td>8-K</td>\n",
       "      <td>8-K|2.02</td>\n",
       "      <td>On January 2, 2019, Apple Inc. (“Apple”) issue...</td>\n",
       "      <td>NaN</td>\n",
       "      <td>NEGATIVE</td>\n",
       "      <td>0.999462</td>\n",
       "    </tr>\n",
       "    <tr>\n",
       "      <th>8</th>\n",
       "      <td>2019-01-29</td>\n",
       "      <td>AAPL</td>\n",
       "      <td>8-K</td>\n",
       "      <td>8-K|2.02</td>\n",
       "      <td>On January 29, 2019, Apple Inc. (“Apple”) issu...</td>\n",
       "      <td>NaN</td>\n",
       "      <td>NEGATIVE</td>\n",
       "      <td>0.998793</td>\n",
       "    </tr>\n",
       "    <tr>\n",
       "      <th>9</th>\n",
       "      <td>2019-02-06</td>\n",
       "      <td>AAPL</td>\n",
       "      <td>8-K</td>\n",
       "      <td>8-K|5.02</td>\n",
       "      <td>On February 5, 2019, Apple Inc. announced that...</td>\n",
       "      <td>NaN</td>\n",
       "      <td>NEGATIVE</td>\n",
       "      <td>0.986068</td>\n",
       "    </tr>\n",
       "    <tr>\n",
       "      <th>10</th>\n",
       "      <td>2019-03-04</td>\n",
       "      <td>AAPL</td>\n",
       "      <td>8-K</td>\n",
       "      <td>8-K|5.07</td>\n",
       "      <td>The Annual Meeting of Shareholders of Apple In...</td>\n",
       "      <td>NaN</td>\n",
       "      <td>NEGATIVE</td>\n",
       "      <td>0.874856</td>\n",
       "    </tr>\n",
       "    <tr>\n",
       "      <th>11</th>\n",
       "      <td>2019-04-30</td>\n",
       "      <td>AAPL</td>\n",
       "      <td>8-K</td>\n",
       "      <td>8-K|2.02</td>\n",
       "      <td>On April 30, 2019, Apple Inc. (“Apple”) issued...</td>\n",
       "      <td>NaN</td>\n",
       "      <td>NEGATIVE</td>\n",
       "      <td>0.998983</td>\n",
       "    </tr>\n",
       "    <tr>\n",
       "      <th>12</th>\n",
       "      <td>2019-07-30</td>\n",
       "      <td>AAPL</td>\n",
       "      <td>8-K</td>\n",
       "      <td>8-K|2.02</td>\n",
       "      <td>On July 30, 2019, Apple Inc. (“Apple”) issued ...</td>\n",
       "      <td>NaN</td>\n",
       "      <td>NEGATIVE</td>\n",
       "      <td>0.999046</td>\n",
       "    </tr>\n",
       "    <tr>\n",
       "      <th>13</th>\n",
       "      <td>2019-09-11</td>\n",
       "      <td>AAPL</td>\n",
       "      <td>8-K</td>\n",
       "      <td>8-K|8.01</td>\n",
       "      <td>On September 11, 2019, Apple Inc. (“Apple”) co...</td>\n",
       "      <td>NaN</td>\n",
       "      <td>NEGATIVE</td>\n",
       "      <td>0.626137</td>\n",
       "    </tr>\n",
       "    <tr>\n",
       "      <th>14</th>\n",
       "      <td>2019-09-13</td>\n",
       "      <td>AAPL</td>\n",
       "      <td>8-K</td>\n",
       "      <td>8-K|5.02</td>\n",
       "      <td>On September 10, 2019, Bob Iger resigned from ...</td>\n",
       "      <td>NaN</td>\n",
       "      <td>NEGATIVE</td>\n",
       "      <td>0.945219</td>\n",
       "    </tr>\n",
       "    <tr>\n",
       "      <th>15</th>\n",
       "      <td>2019-10-30</td>\n",
       "      <td>AAPL</td>\n",
       "      <td>8-K</td>\n",
       "      <td>8-K|2.02</td>\n",
       "      <td>On October 30, 2019, Apple Inc. (“Apple”) issu...</td>\n",
       "      <td>NaN</td>\n",
       "      <td>NEGATIVE</td>\n",
       "      <td>0.998892</td>\n",
       "    </tr>\n",
       "    <tr>\n",
       "      <th>16</th>\n",
       "      <td>2019-11-15</td>\n",
       "      <td>AAPL</td>\n",
       "      <td>8-K</td>\n",
       "      <td>8-K|8.01</td>\n",
       "      <td>On November 15, 2019, Apple Inc. (“Apple”) con...</td>\n",
       "      <td>NaN</td>\n",
       "      <td>POSITIVE</td>\n",
       "      <td>0.876710</td>\n",
       "    </tr>\n",
       "    <tr>\n",
       "      <th>17</th>\n",
       "      <td>2020-01-28</td>\n",
       "      <td>AAPL</td>\n",
       "      <td>8-K</td>\n",
       "      <td>8-K|2.02</td>\n",
       "      <td>On January 28, 2020, Apple Inc. (“Apple”) issu...</td>\n",
       "      <td>NaN</td>\n",
       "      <td>NEGATIVE</td>\n",
       "      <td>0.998475</td>\n",
       "    </tr>\n",
       "    <tr>\n",
       "      <th>18</th>\n",
       "      <td>2020-02-18</td>\n",
       "      <td>AAPL</td>\n",
       "      <td>8-K</td>\n",
       "      <td>8-K|7.01</td>\n",
       "      <td>On February 17, 2020, Apple Inc. (“Apple”) iss...</td>\n",
       "      <td>NaN</td>\n",
       "      <td>NEGATIVE</td>\n",
       "      <td>0.998454</td>\n",
       "    </tr>\n",
       "    <tr>\n",
       "      <th>19</th>\n",
       "      <td>2020-02-27</td>\n",
       "      <td>AAPL</td>\n",
       "      <td>8-K</td>\n",
       "      <td>8-K|5.07</td>\n",
       "      <td>The Annual Meeting of Shareholders of Apple In...</td>\n",
       "      <td>NaN</td>\n",
       "      <td>NEGATIVE</td>\n",
       "      <td>0.929617</td>\n",
       "    </tr>\n",
       "  </tbody>\n",
       "</table>\n",
       "</div>"
      ],
      "text/plain": [
       "          Date Stock name Report type Report section  \\\n",
       "0   2018-02-01       AAPL         8-K       8-K|2.02   \n",
       "1   2018-02-14       AAPL         8-K       8-K|5.07   \n",
       "2   2018-05-01       AAPL         8-K       8-K|2.02   \n",
       "3   2018-05-07       AAPL         8-K       8-K|8.01   \n",
       "4   2018-05-08       AAPL         8-K       8-K|8.01   \n",
       "5   2018-07-31       AAPL         8-K       8-K|2.02   \n",
       "6   2018-11-01       AAPL         8-K       8-K|2.02   \n",
       "7   2019-01-02       AAPL         8-K       8-K|2.02   \n",
       "8   2019-01-29       AAPL         8-K       8-K|2.02   \n",
       "9   2019-02-06       AAPL         8-K       8-K|5.02   \n",
       "10  2019-03-04       AAPL         8-K       8-K|5.07   \n",
       "11  2019-04-30       AAPL         8-K       8-K|2.02   \n",
       "12  2019-07-30       AAPL         8-K       8-K|2.02   \n",
       "13  2019-09-11       AAPL         8-K       8-K|8.01   \n",
       "14  2019-09-13       AAPL         8-K       8-K|5.02   \n",
       "15  2019-10-30       AAPL         8-K       8-K|2.02   \n",
       "16  2019-11-15       AAPL         8-K       8-K|8.01   \n",
       "17  2020-01-28       AAPL         8-K       8-K|2.02   \n",
       "18  2020-02-18       AAPL         8-K       8-K|7.01   \n",
       "19  2020-02-27       AAPL         8-K       8-K|5.07   \n",
       "\n",
       "                                              Content Note Sentiment value  \\\n",
       "0   On February 1, 2018, Apple Inc. (“Apple”) issu...  NaN        NEGATIVE   \n",
       "1   The Annual Meeting of Shareholders of Apple In...  NaN        NEGATIVE   \n",
       "2   On May 1, 2018, Apple Inc. (“Apple”) issued a ...  NaN        NEGATIVE   \n",
       "3   On April 30, 2018, the Superior Court of the S...  NaN        NEGATIVE   \n",
       "4   On May 7, 2018, Apple Inc. filed a Current Rep...  NaN        NEGATIVE   \n",
       "5   On July 31, 2018, Apple Inc. (“Apple”) issued ...  NaN        NEGATIVE   \n",
       "6   On November 1, 2018, Apple Inc. (“Apple”) issu...  NaN        NEGATIVE   \n",
       "7   On January 2, 2019, Apple Inc. (“Apple”) issue...  NaN        NEGATIVE   \n",
       "8   On January 29, 2019, Apple Inc. (“Apple”) issu...  NaN        NEGATIVE   \n",
       "9   On February 5, 2019, Apple Inc. announced that...  NaN        NEGATIVE   \n",
       "10  The Annual Meeting of Shareholders of Apple In...  NaN        NEGATIVE   \n",
       "11  On April 30, 2019, Apple Inc. (“Apple”) issued...  NaN        NEGATIVE   \n",
       "12  On July 30, 2019, Apple Inc. (“Apple”) issued ...  NaN        NEGATIVE   \n",
       "13  On September 11, 2019, Apple Inc. (“Apple”) co...  NaN        NEGATIVE   \n",
       "14  On September 10, 2019, Bob Iger resigned from ...  NaN        NEGATIVE   \n",
       "15  On October 30, 2019, Apple Inc. (“Apple”) issu...  NaN        NEGATIVE   \n",
       "16  On November 15, 2019, Apple Inc. (“Apple”) con...  NaN        POSITIVE   \n",
       "17  On January 28, 2020, Apple Inc. (“Apple”) issu...  NaN        NEGATIVE   \n",
       "18  On February 17, 2020, Apple Inc. (“Apple”) iss...  NaN        NEGATIVE   \n",
       "19  The Annual Meeting of Shareholders of Apple In...  NaN        NEGATIVE   \n",
       "\n",
       "    Sentiment score  \n",
       "0          0.999213  \n",
       "1          0.858020  \n",
       "2          0.999293  \n",
       "3          0.700275  \n",
       "4          0.999356  \n",
       "5          0.999339  \n",
       "6          0.999258  \n",
       "7          0.999462  \n",
       "8          0.998793  \n",
       "9          0.986068  \n",
       "10         0.874856  \n",
       "11         0.998983  \n",
       "12         0.999046  \n",
       "13         0.626137  \n",
       "14         0.945219  \n",
       "15         0.998892  \n",
       "16         0.876710  \n",
       "17         0.998475  \n",
       "18         0.998454  \n",
       "19         0.929617  "
      ]
     },
     "execution_count": 52,
     "metadata": {},
     "output_type": "execute_result"
    }
   ],
   "source": [
    "df_tab.head(20)"
   ]
  },
  {
   "cell_type": "code",
   "execution_count": 19,
   "id": "768454f3",
   "metadata": {},
   "outputs": [],
   "source": [
    "# table =  {'CONTENT':content_list,'SENTIMENT':sentiment_list}"
   ]
  },
  {
   "cell_type": "code",
   "execution_count": 20,
   "id": "907c5837",
   "metadata": {},
   "outputs": [],
   "source": [
    "# result_table = pd.DataFrame(table)"
   ]
  },
  {
   "cell_type": "code",
   "execution_count": 21,
   "id": "697e9583",
   "metadata": {},
   "outputs": [],
   "source": [
    "# result_table.to_csv('Result_Flair.xlsx', index=True, index_label='Index', sep='\\t')"
   ]
  },
  {
   "cell_type": "code",
   "execution_count": 30,
   "id": "6dc366d9",
   "metadata": {},
   "outputs": [],
   "source": [
    "# result_table.head(40)"
   ]
  },
  {
   "cell_type": "code",
   "execution_count": null,
   "id": "c10129e3",
   "metadata": {},
   "outputs": [],
   "source": []
  }
 ],
 "metadata": {
  "kernelspec": {
   "display_name": "Python 3 (ipykernel)",
   "language": "python",
   "name": "python3"
  },
  "language_info": {
   "codemirror_mode": {
    "name": "ipython",
    "version": 3
   },
   "file_extension": ".py",
   "mimetype": "text/x-python",
   "name": "python",
   "nbconvert_exporter": "python",
   "pygments_lexer": "ipython3",
   "version": "3.10.6"
  }
 },
 "nbformat": 4,
 "nbformat_minor": 5
}
