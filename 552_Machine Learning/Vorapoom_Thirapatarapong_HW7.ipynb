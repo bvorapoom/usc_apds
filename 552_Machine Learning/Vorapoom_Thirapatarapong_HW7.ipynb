{
 "cells": [
  {
   "cell_type": "markdown",
   "id": "8dd56bb8",
   "metadata": {},
   "source": [
    "<center><h1>DSCI-552 HOMEWORK 7</h1>\n",
    "<br>\n",
    "<font size=\"3\">Name: Vorapoom Thirapatarapong</font>\n",
    "<br>\n",
    "<font size=\"3\">USC ID: 4397330150 Github Username: bvorapoom</font></center>"
   ]
  },
  {
   "cell_type": "markdown",
   "id": "e1f2de39",
   "metadata": {},
   "source": [
    "#### import packages"
   ]
  },
  {
   "cell_type": "code",
   "execution_count": 1,
   "id": "4e95d503",
   "metadata": {},
   "outputs": [],
   "source": [
    "import pandas as pd\n",
    "import numpy as np\n",
    "import matplotlib.pyplot as plt\n",
    "import seaborn as sns\n",
    "from sklearn.model_selection import train_test_split, GridSearchCV\n",
    "from sklearn.preprocessing import StandardScaler\n",
    "from sklearn.svm import SVC, LinearSVC\n",
    "from sklearn.cluster import KMeans\n",
    "from sklearn.metrics import calinski_harabasz_score, accuracy_score\n",
    "from skmultilearn.problem_transform import LabelPowerset\n",
    "from collections import Counter\n",
    "from imblearn.over_sampling import SMOTE"
   ]
  },
  {
   "cell_type": "markdown",
   "id": "3c01e18c",
   "metadata": {},
   "source": [
    "# 1. Multi-class and Multi-Label Classification Using Support Vector Machines"
   ]
  },
  {
   "cell_type": "markdown",
   "id": "f9df1394",
   "metadata": {},
   "source": [
    "### 1-(a). Download the Anuran Calls (MFCCs) Data Set from: https://archive.ics.uci.edu/ml/datasets/Anuran+Calls+%28MFCCs%29. Choose 70% of the data randomly as the training set."
   ]
  },
  {
   "cell_type": "code",
   "execution_count": 2,
   "id": "d581a3b6",
   "metadata": {},
   "outputs": [],
   "source": [
    "# load dataset\n",
    "df_mfcc = pd.read_csv('../data/Frogs_MFCCs.csv')\n",
    "df_mfcc = df_mfcc.drop('RecordID', axis = 1)\n",
    "df_mfcc.head()\n",
    "\n",
    "# split dataset to 70% train 30% test\n",
    "label_cols = ['Family', 'Genus', 'Species']\n",
    "df_mfcc_X = df_mfcc.loc[:, [col for col in df_mfcc.columns if col not in label_cols]]\n",
    "df_mfcc_y = df_mfcc.loc[:, label_cols]\n",
    "df_mfcc_train_X, df_mfcc_test_X, df_mfcc_train_y, df_mfcc_test_y = train_test_split(df_mfcc_X, df_mfcc_y, \\\n",
    "                            test_size = 0.3, random_state = 0)\n"
   ]
  },
  {
   "cell_type": "markdown",
   "id": "0a552923",
   "metadata": {},
   "source": [
    "### 1-(b). Each instance has three labels: Families, Genus, and Species. Each of the labels has multiple classes. We wish to solve a multi-class and multi-label problem. One of the most important approaches to multi-label classification is to train a classifier for each label (binary relevance). We first try this approach:"
   ]
  },
  {
   "cell_type": "markdown",
   "id": "0a078f33",
   "metadata": {},
   "source": [
    "#### 1-(b)-i. Research exact match and hamming score/ loss methods for evaluating multi- label classification and use them in evaluating the classifiers in this problem."
   ]
  },
  {
   "cell_type": "code",
   "execution_count": 3,
   "id": "bb3d2ed7",
   "metadata": {},
   "outputs": [],
   "source": [
    "def predict_y_multilabel(cls_ml, df_test_X):\n",
    "    df_pred_y = None\n",
    "    for cls_this_label in cls_ml:\n",
    "        temp_pred_y = cls_this_label.predict(df_test_X)\n",
    "        if df_pred_y is None:\n",
    "            df_pred_y = pd.DataFrame(temp_pred_y)\n",
    "        else:\n",
    "            df_pred_y = pd.concat([df_pred_y, pd.DataFrame(temp_pred_y)], axis = 1)\n",
    "    return df_pred_y\n",
    "\n",
    "def exact_match_multilabel(cls_ml, df_test_X, df_test_y):\n",
    "    num_match = 0\n",
    "    cnt = 0\n",
    "    \n",
    "    y_pred = predict_y_multilabel(cls_ml, df_test_X)\n",
    "    for i, row in y_pred.iterrows():\n",
    "        if (row.values == df_test_y.iloc[i, :].values).all():\n",
    "            num_match += 1\n",
    "        cnt += 1\n",
    "            \n",
    "    return num_match / cnt\n",
    "\n",
    "def hamming_loss_multilabel(cls_ml, df_test_X, df_test_y):\n",
    "    y_pred = predict_y_multilabel(cls_ml, df_test_X)\n",
    "    return (y_pred.values != df_test_y.values).sum() / (y_pred.shape[0] * y_pred.shape[1])"
   ]
  },
  {
   "cell_type": "markdown",
   "id": "bb8619fb",
   "metadata": {},
   "source": [
    "#### 1-(b)-ii. Train a SVM for each of the labels, using Gaussian kernels and one versus all classifiers. Determine the weight of the SVM penalty and the width of the Gaussian Kernel using 10 fold cross validation.1 You are welcome to try to solve the problem with both standardized 2 and raw attributes and report the results."
   ]
  },
  {
   "cell_type": "code",
   "execution_count": 5,
   "id": "ff99ec24",
   "metadata": {},
   "outputs": [
    {
     "name": "stdout",
     "output_type": "stream",
     "text": [
      "0.991460364795355\n",
      "0.9906659250844143\n",
      "0.9894746599766482\n"
     ]
    }
   ],
   "source": [
    "# Train SVM using Gaussian Kernel (RBF Kernel)\n",
    "cls_svm_list = []\n",
    "for label in label_cols:\n",
    "    params = {\n",
    "        'C': [1e-4, 1e-2, 1, 1e2, 1e4],\n",
    "        'gamma': [1e-4, 1e-2, 1, 1e2, 1e4]\n",
    "    }\n",
    "    cls_svm = SVC(kernel = 'rbf', decision_function_shape = 'ovr',)\n",
    "    cls_svm_cv = GridSearchCV(cls_svm, params, cv = 10, scoring = 'accuracy')\n",
    "    \n",
    "    y_this_label = df_mfcc_train_y.loc[:, label]\n",
    "    cls_svm_cv.fit(df_mfcc_train_X, y_this_label)\n",
    "    print(cls_svm_cv.best_score_)\n",
    "    \n",
    "    # append the model for this label to the list\n",
    "    cls_svm_list.append(cls_svm_cv.best_estimator_)"
   ]
  },
  {
   "cell_type": "code",
   "execution_count": 6,
   "id": "21da7d1b",
   "metadata": {},
   "outputs": [
    {
     "name": "stdout",
     "output_type": "stream",
     "text": [
      "------ SVM with Gaussian Kernel ------\n",
      "Exact Match score: 98.7031%\n",
      "Hamming Loss: 0.8646%\n"
     ]
    }
   ],
   "source": [
    "# exact match and hamming loss score\n",
    "print('------ SVM with Gaussian Kernel ------')\n",
    "print('Exact Match score:', '{0:.4%}'.format(exact_match_multilabel(cls_svm_list, df_mfcc_test_X, df_mfcc_test_y)))\n",
    "print('Hamming Loss:', '{0:.4%}'.format(hamming_loss_multilabel(cls_svm_list, df_mfcc_test_X, df_mfcc_test_y)))\n"
   ]
  },
  {
   "cell_type": "code",
   "execution_count": 7,
   "id": "5fe97a37",
   "metadata": {},
   "outputs": [],
   "source": [
    "# standardize features\n",
    "scaler = StandardScaler()\n",
    "df_mfcc_train_X_std = scaler.fit_transform(df_mfcc_train_X)\n",
    "df_mfcc_test_X_std = scaler.transform(df_mfcc_test_X)"
   ]
  },
  {
   "cell_type": "code",
   "execution_count": 8,
   "id": "7cdfed8a",
   "metadata": {},
   "outputs": [
    {
     "name": "stdout",
     "output_type": "stream",
     "text": [
      "0.9886802202657075\n",
      "0.9870933131370506\n",
      "0.9874897440752312\n"
     ]
    }
   ],
   "source": [
    "# Train SVM using Gaussian Kernel (RBF Kernel) - using standardized features\n",
    "cls_svm_std_list = []\n",
    "for label in label_cols:\n",
    "    params = {\n",
    "        'C': [1e-4, 1e-2, 1, 1e2, 1e4],\n",
    "        'gamma': [1e-4, 1e-2, 1, 1e2, 1e4]\n",
    "    }\n",
    "    cls_svm_std = SVC(kernel = 'rbf', decision_function_shape = 'ovr',)\n",
    "    cls_svm_std_cv = GridSearchCV(cls_svm_std, params, cv = 10, scoring = 'accuracy')\n",
    "    \n",
    "    y_this_label = df_mfcc_train_y.loc[:, label]\n",
    "    cls_svm_std_cv.fit(df_mfcc_train_X_std, y_this_label)\n",
    "    print(cls_svm_std_cv.best_score_)\n",
    "    \n",
    "    # append the model for this label to the list\n",
    "    cls_svm_std_list.append(cls_svm_std_cv.best_estimator_)"
   ]
  },
  {
   "cell_type": "code",
   "execution_count": 9,
   "id": "d7540f42",
   "metadata": {},
   "outputs": [
    {
     "name": "stdout",
     "output_type": "stream",
     "text": [
      "------ SVM with Gaussian Kernel (Standardized Features) ------\n",
      "Exact Match score: 98.0547%\n",
      "Hamming Loss: 1.1116%\n"
     ]
    }
   ],
   "source": [
    "# exact match and hamming loss score\n",
    "print('------ SVM with Gaussian Kernel (Standardized Features) ------')\n",
    "print('Exact Match score:', '{0:.4%}'.format(exact_match_multilabel(cls_svm_std_list, df_mfcc_test_X_std, df_mfcc_test_y)))\n",
    "print('Hamming Loss:', '{0:.4%}'.format(hamming_loss_multilabel(cls_svm_std_list, df_mfcc_test_X_std, df_mfcc_test_y)))\n"
   ]
  },
  {
   "cell_type": "markdown",
   "id": "32041b85",
   "metadata": {},
   "source": [
    "> Training SVM with Gaussian Kernel for both non-standardized and standardized features give similarly good results where exact match score is high and hamming loss is low"
   ]
  },
  {
   "cell_type": "markdown",
   "id": "6b89503d",
   "metadata": {},
   "source": [
    "#### 1-(b)-iii. Repeat 1(b)ii with L1-penalized SVMs.3 Remember to standardize4 the at- tributes. Determine the weight of the SVM penalty using 10 fold cross vali- dation."
   ]
  },
  {
   "cell_type": "code",
   "execution_count": 10,
   "id": "57c83a75",
   "metadata": {},
   "outputs": [
    {
     "name": "stdout",
     "output_type": "stream",
     "text": [
      "0.9376510776610181\n",
      "0.9529367446116949\n",
      "0.9586954463694027\n"
     ]
    }
   ],
   "source": [
    "# training LinearSVC with L1 penalty\n",
    "cls_svm_l1_list = []\n",
    "\n",
    "for label in label_cols:\n",
    "    params = {'C': [1e-3, 1e-2, 1e-1, 1, 1e1, 1e2, 1e3, 1e4, 1e5, 1e6]}\n",
    "    cls_svm_l1 = LinearSVC(penalty = 'l1', multi_class = 'ovr', random_state = 0, dual = False, max_iter = 50000)\n",
    "    cls_svm_l1_cv = GridSearchCV(cls_svm_l1, params, cv = 10, scoring = 'accuracy')\n",
    "    \n",
    "    y_this_label = df_mfcc_train_y.loc[:, label]\n",
    "    cls_svm_l1_cv.fit(df_mfcc_train_X_std, y_this_label)\n",
    "    print(cls_svm_l1_cv.best_score_)\n",
    "    \n",
    "    # append the model for this label to the list\n",
    "    cls_svm_l1_list.append(cls_svm_l1_cv.best_estimator_)"
   ]
  },
  {
   "cell_type": "code",
   "execution_count": 11,
   "id": "816dac11",
   "metadata": {},
   "outputs": [
    {
     "name": "stdout",
     "output_type": "stream",
     "text": [
      "------ SVM with L1 penalty (Standardized Features) ------\n",
      "Exact Match score: 91.3386%\n",
      "Hamming Loss: 5.3883%\n"
     ]
    }
   ],
   "source": [
    "# exact match and hamming loss score\n",
    "print('------ SVM with L1 penalty (Standardized Features) ------')\n",
    "print('Exact Match score:', '{0:.4%}'.format(exact_match_multilabel(cls_svm_l1_list, df_mfcc_test_X_std, df_mfcc_test_y)))\n",
    "print('Hamming Loss:', '{0:.4%}'.format(hamming_loss_multilabel(cls_svm_l1_list, df_mfcc_test_X_std, df_mfcc_test_y)))\n"
   ]
  },
  {
   "cell_type": "markdown",
   "id": "16f6c2f8",
   "metadata": {},
   "source": [
    "> using SVM with L1 penalty (LinearSVC in sklearn) provides a slightly worse result compared to SVM with Gaussian Kernel"
   ]
  },
  {
   "cell_type": "markdown",
   "id": "e58e4a42",
   "metadata": {},
   "source": [
    "#### 1-(b)-iv. Repeat 1(b)iii by using SMOTE or any other method you know to remedy class imbalance. Report your conclusions about the classifiers you trained."
   ]
  },
  {
   "cell_type": "code",
   "execution_count": 12,
   "id": "d66fb819",
   "metadata": {},
   "outputs": [
    {
     "data": {
      "text/plain": [
       "Family           Genus          Species               \n",
       "Leptodactylidae  Adenomera      AdenomeraHylaedactylus    2449\n",
       "Hylidae          Hypsiboas      HypsiboasCordobae          786\n",
       "Leptodactylidae  Adenomera      AdenomeraAndre             461\n",
       "Dendrobatidae    Ameerega       Ameeregatrivittata         387\n",
       "Hylidae          Hypsiboas      HypsiboasCinerascens       321\n",
       "                 Dendropsophus  HylaMinuta                 214\n",
       "Leptodactylidae  Leptodactylus  LeptodactylusFuscus        183\n",
       "Hylidae          Scinax         ScinaxRuber                101\n",
       "                 Osteocephalus  OsteocephalusOophagus       86\n",
       "Bufonidae        Rhinella       Rhinellagranulosa           48\n",
       "dtype: int64"
      ]
     },
     "execution_count": 12,
     "metadata": {},
     "output_type": "execute_result"
    }
   ],
   "source": [
    "# check number of samples for each family&genus&species combination\n",
    "df_mfcc_train_y.value_counts()"
   ]
  },
  {
   "cell_type": "code",
   "execution_count": 13,
   "id": "15760372",
   "metadata": {},
   "outputs": [
    {
     "name": "stdout",
     "output_type": "stream",
     "text": [
      "Counter({'Leptodactylidae': 3093, 'Hylidae': 1508, 'Dendrobatidae': 387, 'Bufonidae': 48}) \n",
      "\n",
      "Counter({'Adenomera': 2910, 'Hypsiboas': 1107, 'Ameerega': 387, 'Dendropsophus': 214, 'Leptodactylus': 183, 'Scinax': 101, 'Osteocephalus': 86, 'Rhinella': 48}) \n",
      "\n",
      "Counter({'AdenomeraHylaedactylus': 2449, 'HypsiboasCordobae': 786, 'AdenomeraAndre': 461, 'Ameeregatrivittata': 387, 'HypsiboasCinerascens': 321, 'HylaMinuta': 214, 'LeptodactylusFuscus': 183, 'ScinaxRuber': 101, 'OsteocephalusOophagus': 86, 'Rhinellagranulosa': 48}) \n",
      "\n"
     ]
    }
   ],
   "source": [
    "# check distribution of each of the 3 labels\n",
    "for col in df_mfcc_train_y.columns:\n",
    "    print(Counter(df_mfcc_train_y[col]), '\\n')"
   ]
  },
  {
   "cell_type": "code",
   "execution_count": 14,
   "id": "39080c9c",
   "metadata": {},
   "outputs": [],
   "source": [
    "# specify numbers of values of each label to oversample \n",
    "cnt_after_family = {'Dendrobatidae': 1000, 'Bufonidae': 1000}\n",
    "cnt_after_genus = {'Ameerega': 1000, 'Dendropsophus': 1000, 'Leptodactylus': 1000, 'Scinax': 1000, \\\n",
    "                   'Osteocephalus': 1000, 'Rhinella': 1000}\n",
    "cnt_after_species = {'AdenomeraAndre': 500, 'Ameeregatrivittata': 500, 'HypsiboasCinerascens': 500, \\\n",
    "                     'HylaMinuta': 500, 'LeptodactylusFuscus': 500, 'ScinaxRuber': 500, \\\n",
    "                     'OsteocephalusOophagus': 500, 'Rhinellagranulosa': 500}\n",
    "cnt_after = [cnt_after_family, cnt_after_genus, cnt_after_species]"
   ]
  },
  {
   "cell_type": "code",
   "execution_count": 15,
   "id": "11d98107",
   "metadata": {},
   "outputs": [
    {
     "name": "stdout",
     "output_type": "stream",
     "text": [
      "0.9398590290193921\n",
      "0.9492884361147833\n",
      "0.9567433117076638\n"
     ]
    }
   ],
   "source": [
    "# train LinearSVC with L1 penalty - SMOTE\n",
    "\n",
    "cls_svm_l1_smote_list = []\n",
    "\n",
    "for i, label in enumerate(label_cols):\n",
    "    # oversample using SMOTE\n",
    "    y_this_label = df_mfcc_train_y.loc[:, label]\n",
    "    sm = SMOTE(sampling_strategy = cnt_after[i])\n",
    "    df_mfcc_train_X_std_smote, y_this_label_smote = sm.fit_resample(df_mfcc_train_X_std, y_this_label)\n",
    "    \n",
    "    params = {'C': [1e-6, 1e-4, 1e-2, 1, 1e2, 1e4, 1e6]}\n",
    "    cls_svm_l1_smote = LinearSVC(penalty = 'l1', multi_class = 'ovr', random_state = 0, dual = False, max_iter = 50000)\n",
    "    cls_svm_l1_smote_cv = GridSearchCV(cls_svm_l1_smote, params, cv = 10, scoring = 'accuracy')\n",
    "    \n",
    "    cls_svm_l1_smote_cv.fit(df_mfcc_train_X_std_smote, y_this_label_smote)\n",
    "    print(cls_svm_l1_smote_cv.best_score_)\n",
    "    \n",
    "    # append the model for this label to the list\n",
    "    cls_svm_l1_smote_list.append(cls_svm_l1_smote_cv.best_estimator_)\n",
    "    "
   ]
  },
  {
   "cell_type": "code",
   "execution_count": 16,
   "id": "bb9d86ed",
   "metadata": {},
   "outputs": [
    {
     "name": "stdout",
     "output_type": "stream",
     "text": [
      "------ SVM with L1 penalty (SMOTE Oversampling) ------\n",
      "Exact Match score: 88.6985%\n",
      "Hamming Loss: 6.4227%\n"
     ]
    }
   ],
   "source": [
    "# exact match and hamming loss score\n",
    "print('------ SVM with L1 penalty (SMOTE Oversampling) ------')\n",
    "print('Exact Match score:', '{0:.4%}'.format(exact_match_multilabel(cls_svm_l1_smote_list, df_mfcc_test_X_std, df_mfcc_test_y)))\n",
    "print('Hamming Loss:', '{0:.4%}'.format(hamming_loss_multilabel(cls_svm_l1_smote_list, df_mfcc_test_X_std, df_mfcc_test_y)))\n"
   ]
  },
  {
   "cell_type": "markdown",
   "id": "2e969658",
   "metadata": {},
   "source": [
    "> After using SMOTE to oversample minority classes, it turned out that the performance is slightly worse as the exact match score reduced from 91% to 88% and hamming loss increased from 5% to 6%"
   ]
  },
  {
   "cell_type": "markdown",
   "id": "27fb46eb",
   "metadata": {},
   "source": [
    "#### 1-(b)-v. Extra Practice: Study the Classifier Chain method and apply it to the above problem."
   ]
  },
  {
   "cell_type": "code",
   "execution_count": 45,
   "id": "cecb369f",
   "metadata": {},
   "outputs": [],
   "source": [
    "# # use classifier chain on SVM with L1 Penalty\n",
    "# cls_svm_chain_list = []\n",
    "\n",
    "# for label in range(df_mfcc_train_y.shape[1]):\n",
    "#     params = {'C': [1e-3, 1e-2, 1e-1, 1, 1e1, 1e2, 1e3, 1e4, 1e5, 1e6]}\n",
    "#     cls_svm_chain = LinearSVC(penalty = 'l1', multi_class = 'ovr', random_state = 0, dual = False, max_iter = 50000)\n",
    "#     cls_svm_chain_cv = GridSearchCV(cls_svm_chain, params, cv = 10, scoring = 'accuracy')\n",
    "    \n",
    "#     temp_merge = pd.concat([pd.DataFrame(df_mfcc_train_X_std), df_mfcc_train_y.reset_index(drop = True)], axis = 1)\n",
    "#     ind_x = df_mfcc_train_X_std.shape[1] + label\n",
    "#     x_this_label = temp_merge.iloc[:, :ind_x]\n",
    "#     # get dummy variable as Y that will be used to train is categorical\n",
    "#     x_this_label = pd.get_dummies(x_this_label, drop_first = True)\n",
    "#     y_this_label = df_mfcc_train_y.iloc[:, label]\n",
    "#     cls_svm_chain_cv.fit(x_this_label, y_this_label)\n",
    "#     print(cls_svm_chain_cv.best_score_)\n",
    "    \n",
    "#     # append the model for this label to the list\n",
    "#     cls_svm_chain_list.append(cls_svm_chain_cv.best_estimator_)\n",
    "    "
   ]
  },
  {
   "cell_type": "code",
   "execution_count": null,
   "id": "1d5a9569",
   "metadata": {},
   "outputs": [],
   "source": [
    "# # functions for Classifier Chain\n",
    "# def predict_y_multilabel_chain(cls_ml, df_test_X, df_test_y):\n",
    "#     df_pred_y = None\n",
    "#     for i, cls_this_label in enumerate(cls_ml):\n",
    "#         temp_test_X = pd.concat([df_test_X, df_test_y], axis = 1)\n",
    "#         ind_x = df_test_X.shape[1] + i\n",
    "#         test_X_this_label = temp_test_X.iloc[:, :ind_x]\n",
    "#         temp_pred_y = cls_this_label.predict(test_X_this_label)\n",
    "#         if df_pred_y is None:\n",
    "#             df_pred_y = pd.DataFrame(temp_pred_y)\n",
    "#         else:\n",
    "#             df_pred_y = pd.concat([df_pred_y, pd.DataFrame(temp_pred_y)], axis = 1)\n",
    "#     return df_pred_y\n",
    "\n",
    "# def exact_match_multilabel_chain(cls_ml, df_test_X, df_test_y):\n",
    "#     num_match = 0\n",
    "#     cnt = 0\n",
    "    \n",
    "#     y_pred = predict_y_multilabel_chain(cls_ml, df_test_X, df_test_y)\n",
    "#     for i, row in y_pred.iterrows():\n",
    "#         if (row.values == df_test_y.iloc[i, :].values).all():\n",
    "#             num_match += 1\n",
    "#         cnt += 1\n",
    "            \n",
    "#     return num_match / cnt\n",
    "\n",
    "# def hamming_loss_multilabel_chain(cls_ml, df_test_X, df_test_y):\n",
    "#     y_pred = predict_y_multilabel_chain(cls_ml, df_test_X, df_test_y)\n",
    "#     return (y_pred.values != df_test_y.values).sum() / (y_pred.shape[0] * y_pred.shape[1])"
   ]
  },
  {
   "cell_type": "code",
   "execution_count": null,
   "id": "e61a7232",
   "metadata": {},
   "outputs": [],
   "source": [
    "# # exact match and hamming loss score\n",
    "# print('------ SVM with L1 penalty (Classifier Chain) ------')\n",
    "# print('Exact Match score:', '{0:.4%}'.format(exact_match_multilabel_chain(cls_svm_chain_list, df_mfcc_test_X_std, df_mfcc_test_y)))\n",
    "# print('Hamming Loss:', '{0:.4%}'.format(hamming_loss_multilabel_chain(cls_svm_chain_list, df_mfcc_test_X_std, df_mfcc_test_y)))\n"
   ]
  },
  {
   "cell_type": "markdown",
   "id": "9e15b3c0",
   "metadata": {},
   "source": [
    "#### 1-(b)-vi. Extra Practice: Research how confusion matrices, precision, recall, ROC, and AUC are defined for multi-label classification and compute them for the classifiers you trained in above."
   ]
  },
  {
   "cell_type": "code",
   "execution_count": null,
   "id": "77a75732",
   "metadata": {},
   "outputs": [],
   "source": []
  },
  {
   "cell_type": "markdown",
   "id": "763f7dab",
   "metadata": {},
   "source": [
    "# 2. K-Means Clustering on a Multi-Class and Multi-Label Data Set\n",
    "### Monte-Carlo Simulation: Perform the following procedures 50 times, and report the average and standard deviation of the 50 Hamming Distances that you calculate."
   ]
  },
  {
   "cell_type": "code",
   "execution_count": 25,
   "id": "01ff8e86",
   "metadata": {},
   "outputs": [],
   "source": [
    "# define functions\n",
    "def hamming_distance(y_true, y_pred):\n",
    "    hmm_dist_list = []\n",
    "    for i in range(len(y_pred)):\n",
    "        hmm_dist = 0\n",
    "        for j in range(3):\n",
    "            if y_pred.iloc[i, j] != y_true.iloc[i, j]:\n",
    "                hmm_dist += 1\n",
    "        hmm_dist_list.append(hmm_dist)\n",
    "    return np.mean(hmm_dist_list)\n",
    "\n",
    "def hamming_score(y_true, y_pred):\n",
    "    hmm_score_list = []\n",
    "    for i in range(len(y_pred)):\n",
    "        set_y_true = set(y_true.loc[i, :])\n",
    "        set_y_pred = set(y_pred.loc[i, :])\n",
    "        hmm_score = len(set_y_true.intersection(set_y_pred)) / len(set_y_true.union(set_y_pred))\n",
    "        hmm_score_list.append(hmm_score)\n",
    "    return np.mean(hmm_score_list)\n",
    "\n",
    "def hamming_loss(y_true, y_pred):\n",
    "    return (y_pred.values != y_true.values).sum() / (y_pred.shape[0] * y_pred.shape[1])"
   ]
  },
  {
   "cell_type": "markdown",
   "id": "fe684b2d",
   "metadata": {},
   "source": [
    "> - hamming distance calculation is referred from https://ailab.ijs.si/dunja/SiKDD2011/Papers/Gjorgjioski_Multilabel.pdf where it is explained to be the number of positions two strings mismatch (in string dissimilarity context). The same concept is applied to multilabel classification where hamming distance is the number of labels that the prediction mismatches true value.\n",
    "> - hamming score calculation is referred from the comment of Franck Dernoncourt from https://stats.stackexchange.com/questions/233275/multilabel-classification-metrics-on-scikit where it is explained as: the ratio of (the intersection of prediction and true labels) and (the union of prediction and true labels), average across all instances. The formula is adapted to fit the multiclass & multilabel problem in this context.\n",
    "> - hamming loss calculation is adapted from sklearn package https://scikit-learn.org/stable/modules/generated/sklearn.metrics.hamming_loss.html since the package doesn't support multilabel multiclass problem but the metric is defined as the proportion of the misclassified labels (take into account the partially correct cases)"
   ]
  },
  {
   "cell_type": "code",
   "execution_count": 27,
   "id": "08650c44",
   "metadata": {},
   "outputs": [
    {
     "name": "stdout",
     "output_type": "stream",
     "text": [
      "Iteration # 5\n",
      "Iteration # 10\n",
      "Iteration # 15\n",
      "Iteration # 20\n",
      "Iteration # 25\n",
      "Iteration # 30\n",
      "Iteration # 35\n",
      "Iteration # 40\n",
      "Iteration # 45\n",
      "Iteration # 50\n"
     ]
    }
   ],
   "source": [
    "# perform 50 iterations of K-Means clustering\n",
    "df_result_kmeans = pd.DataFrame(columns = ['iteration', 'optimal_num_cluster', 'optimal_ch_score', \\\n",
    "                                           'hamming_dist', 'hamming_loss'])\n",
    "\n",
    "scaler = StandardScaler()\n",
    "df_mfcc_X_std = scaler.fit_transform(df_mfcc_X)\n",
    "\n",
    "for i in range(1, 51):\n",
    "    if i % 5 == 0:\n",
    "        print('Iteration #', i)\n",
    "    \n",
    "    # perform k-means clustering 49 times - k from 2 to 50\n",
    "    list_num_clusters = np.arange(2, 51, 1)\n",
    "    \n",
    "    best_km = None\n",
    "    best_ch_score = 0\n",
    "    best_num_cluster = 0\n",
    "    \n",
    "    for num_cluster in list_num_clusters:\n",
    "        # make random_state different for the 50 iterations \n",
    "        km = KMeans(n_clusters = num_cluster, init = 'random', random_state = i)\n",
    "        km.fit(df_mfcc_X_std)\n",
    "        ch_score = calinski_harabasz_score(df_mfcc_X_std, km.labels_)\n",
    "        \n",
    "        if ch_score > best_ch_score:\n",
    "            best_km = km\n",
    "            best_num_cluster = num_cluster\n",
    "            best_ch_score = ch_score\n",
    "        \n",
    "    # assign clusters to data from best KMeans\n",
    "    df_mfcc_kmean = df_mfcc.copy()\n",
    "    df_mfcc_kmean['cluster_no'] = best_km.labels_\n",
    "\n",
    "    # each cluster's majority true labels - family, genus, species\n",
    "    df_mfcc_kmean_majority_label = df_mfcc_kmean.groupby('cluster_no')[label_cols].agg(pd.Series.mode)\n",
    "    \n",
    "    y_true = df_mfcc_kmean[label_cols]\n",
    "    y_pred = df_mfcc_kmean.merge(df_mfcc_kmean_majority_label, on = 'cluster_no', suffixes = ['_true', ''])\n",
    "    y_pred = y_pred[label_cols]\n",
    "    \n",
    "    hmm_dist = hamming_distance(y_true, y_pred)\n",
    "    hmm_loss = hamming_loss(y_true, y_pred)\n",
    "    \n",
    "    df_result_kmeans.loc[len(df_result_kmeans), :] = [i, best_num_cluster, best_ch_score, hmm_dist, hmm_loss]"
   ]
  },
  {
   "cell_type": "code",
   "execution_count": 28,
   "id": "37992d83",
   "metadata": {},
   "outputs": [
    {
     "data": {
      "text/html": [
       "<div>\n",
       "<style scoped>\n",
       "    .dataframe tbody tr th:only-of-type {\n",
       "        vertical-align: middle;\n",
       "    }\n",
       "\n",
       "    .dataframe tbody tr th {\n",
       "        vertical-align: top;\n",
       "    }\n",
       "\n",
       "    .dataframe thead th {\n",
       "        text-align: right;\n",
       "    }\n",
       "</style>\n",
       "<table border=\"1\" class=\"dataframe\">\n",
       "  <thead>\n",
       "    <tr style=\"text-align: right;\">\n",
       "      <th></th>\n",
       "      <th>iteration</th>\n",
       "      <th>optimal_num_cluster</th>\n",
       "      <th>optimal_ch_score</th>\n",
       "      <th>hamming_dist</th>\n",
       "      <th>hamming_loss</th>\n",
       "    </tr>\n",
       "  </thead>\n",
       "  <tbody>\n",
       "    <tr>\n",
       "      <th>0</th>\n",
       "      <td>1</td>\n",
       "      <td>2</td>\n",
       "      <td>3284.605925</td>\n",
       "      <td>2.518833</td>\n",
       "      <td>0.839611</td>\n",
       "    </tr>\n",
       "    <tr>\n",
       "      <th>1</th>\n",
       "      <td>2</td>\n",
       "      <td>2</td>\n",
       "      <td>3284.605925</td>\n",
       "      <td>2.518833</td>\n",
       "      <td>0.839611</td>\n",
       "    </tr>\n",
       "    <tr>\n",
       "      <th>2</th>\n",
       "      <td>3</td>\n",
       "      <td>2</td>\n",
       "      <td>3284.605925</td>\n",
       "      <td>2.518833</td>\n",
       "      <td>0.839611</td>\n",
       "    </tr>\n",
       "    <tr>\n",
       "      <th>3</th>\n",
       "      <td>4</td>\n",
       "      <td>2</td>\n",
       "      <td>3284.605925</td>\n",
       "      <td>2.518833</td>\n",
       "      <td>0.839611</td>\n",
       "    </tr>\n",
       "    <tr>\n",
       "      <th>4</th>\n",
       "      <td>5</td>\n",
       "      <td>2</td>\n",
       "      <td>3284.605925</td>\n",
       "      <td>2.518833</td>\n",
       "      <td>0.839611</td>\n",
       "    </tr>\n",
       "    <tr>\n",
       "      <th>5</th>\n",
       "      <td>6</td>\n",
       "      <td>2</td>\n",
       "      <td>3284.605925</td>\n",
       "      <td>2.518833</td>\n",
       "      <td>0.839611</td>\n",
       "    </tr>\n",
       "    <tr>\n",
       "      <th>6</th>\n",
       "      <td>7</td>\n",
       "      <td>2</td>\n",
       "      <td>3284.605925</td>\n",
       "      <td>2.518833</td>\n",
       "      <td>0.839611</td>\n",
       "    </tr>\n",
       "    <tr>\n",
       "      <th>7</th>\n",
       "      <td>8</td>\n",
       "      <td>2</td>\n",
       "      <td>3284.605925</td>\n",
       "      <td>2.518833</td>\n",
       "      <td>0.839611</td>\n",
       "    </tr>\n",
       "    <tr>\n",
       "      <th>8</th>\n",
       "      <td>9</td>\n",
       "      <td>2</td>\n",
       "      <td>3284.605925</td>\n",
       "      <td>2.518833</td>\n",
       "      <td>0.839611</td>\n",
       "    </tr>\n",
       "    <tr>\n",
       "      <th>9</th>\n",
       "      <td>10</td>\n",
       "      <td>2</td>\n",
       "      <td>3284.605925</td>\n",
       "      <td>2.518833</td>\n",
       "      <td>0.839611</td>\n",
       "    </tr>\n",
       "    <tr>\n",
       "      <th>10</th>\n",
       "      <td>11</td>\n",
       "      <td>2</td>\n",
       "      <td>3284.605925</td>\n",
       "      <td>2.518833</td>\n",
       "      <td>0.839611</td>\n",
       "    </tr>\n",
       "    <tr>\n",
       "      <th>11</th>\n",
       "      <td>12</td>\n",
       "      <td>2</td>\n",
       "      <td>3284.605925</td>\n",
       "      <td>2.518833</td>\n",
       "      <td>0.839611</td>\n",
       "    </tr>\n",
       "    <tr>\n",
       "      <th>12</th>\n",
       "      <td>13</td>\n",
       "      <td>2</td>\n",
       "      <td>3284.605925</td>\n",
       "      <td>2.518833</td>\n",
       "      <td>0.839611</td>\n",
       "    </tr>\n",
       "    <tr>\n",
       "      <th>13</th>\n",
       "      <td>14</td>\n",
       "      <td>2</td>\n",
       "      <td>3284.605925</td>\n",
       "      <td>2.518833</td>\n",
       "      <td>0.839611</td>\n",
       "    </tr>\n",
       "    <tr>\n",
       "      <th>14</th>\n",
       "      <td>15</td>\n",
       "      <td>2</td>\n",
       "      <td>3284.605925</td>\n",
       "      <td>2.518833</td>\n",
       "      <td>0.839611</td>\n",
       "    </tr>\n",
       "    <tr>\n",
       "      <th>15</th>\n",
       "      <td>16</td>\n",
       "      <td>2</td>\n",
       "      <td>3284.605925</td>\n",
       "      <td>2.518833</td>\n",
       "      <td>0.839611</td>\n",
       "    </tr>\n",
       "    <tr>\n",
       "      <th>16</th>\n",
       "      <td>17</td>\n",
       "      <td>2</td>\n",
       "      <td>3284.605925</td>\n",
       "      <td>2.518833</td>\n",
       "      <td>0.839611</td>\n",
       "    </tr>\n",
       "    <tr>\n",
       "      <th>17</th>\n",
       "      <td>18</td>\n",
       "      <td>2</td>\n",
       "      <td>3284.605925</td>\n",
       "      <td>2.518833</td>\n",
       "      <td>0.839611</td>\n",
       "    </tr>\n",
       "    <tr>\n",
       "      <th>18</th>\n",
       "      <td>19</td>\n",
       "      <td>2</td>\n",
       "      <td>3284.605925</td>\n",
       "      <td>2.518833</td>\n",
       "      <td>0.839611</td>\n",
       "    </tr>\n",
       "    <tr>\n",
       "      <th>19</th>\n",
       "      <td>20</td>\n",
       "      <td>2</td>\n",
       "      <td>3284.605925</td>\n",
       "      <td>2.518833</td>\n",
       "      <td>0.839611</td>\n",
       "    </tr>\n",
       "    <tr>\n",
       "      <th>20</th>\n",
       "      <td>21</td>\n",
       "      <td>2</td>\n",
       "      <td>3284.605925</td>\n",
       "      <td>2.518833</td>\n",
       "      <td>0.839611</td>\n",
       "    </tr>\n",
       "    <tr>\n",
       "      <th>21</th>\n",
       "      <td>22</td>\n",
       "      <td>2</td>\n",
       "      <td>3284.605925</td>\n",
       "      <td>2.518833</td>\n",
       "      <td>0.839611</td>\n",
       "    </tr>\n",
       "    <tr>\n",
       "      <th>22</th>\n",
       "      <td>23</td>\n",
       "      <td>2</td>\n",
       "      <td>3284.605925</td>\n",
       "      <td>2.518833</td>\n",
       "      <td>0.839611</td>\n",
       "    </tr>\n",
       "    <tr>\n",
       "      <th>23</th>\n",
       "      <td>24</td>\n",
       "      <td>2</td>\n",
       "      <td>3284.605925</td>\n",
       "      <td>2.518833</td>\n",
       "      <td>0.839611</td>\n",
       "    </tr>\n",
       "    <tr>\n",
       "      <th>24</th>\n",
       "      <td>25</td>\n",
       "      <td>2</td>\n",
       "      <td>3284.605925</td>\n",
       "      <td>2.518833</td>\n",
       "      <td>0.839611</td>\n",
       "    </tr>\n",
       "    <tr>\n",
       "      <th>25</th>\n",
       "      <td>26</td>\n",
       "      <td>2</td>\n",
       "      <td>3284.605925</td>\n",
       "      <td>2.518833</td>\n",
       "      <td>0.839611</td>\n",
       "    </tr>\n",
       "    <tr>\n",
       "      <th>26</th>\n",
       "      <td>27</td>\n",
       "      <td>2</td>\n",
       "      <td>3284.605925</td>\n",
       "      <td>2.518833</td>\n",
       "      <td>0.839611</td>\n",
       "    </tr>\n",
       "    <tr>\n",
       "      <th>27</th>\n",
       "      <td>28</td>\n",
       "      <td>2</td>\n",
       "      <td>3284.605925</td>\n",
       "      <td>2.518833</td>\n",
       "      <td>0.839611</td>\n",
       "    </tr>\n",
       "    <tr>\n",
       "      <th>28</th>\n",
       "      <td>29</td>\n",
       "      <td>2</td>\n",
       "      <td>3284.605925</td>\n",
       "      <td>2.518833</td>\n",
       "      <td>0.839611</td>\n",
       "    </tr>\n",
       "    <tr>\n",
       "      <th>29</th>\n",
       "      <td>30</td>\n",
       "      <td>2</td>\n",
       "      <td>3284.605925</td>\n",
       "      <td>2.518833</td>\n",
       "      <td>0.839611</td>\n",
       "    </tr>\n",
       "    <tr>\n",
       "      <th>30</th>\n",
       "      <td>31</td>\n",
       "      <td>2</td>\n",
       "      <td>3284.605925</td>\n",
       "      <td>2.518833</td>\n",
       "      <td>0.839611</td>\n",
       "    </tr>\n",
       "    <tr>\n",
       "      <th>31</th>\n",
       "      <td>32</td>\n",
       "      <td>2</td>\n",
       "      <td>3284.605925</td>\n",
       "      <td>2.518833</td>\n",
       "      <td>0.839611</td>\n",
       "    </tr>\n",
       "    <tr>\n",
       "      <th>32</th>\n",
       "      <td>33</td>\n",
       "      <td>2</td>\n",
       "      <td>3284.605925</td>\n",
       "      <td>2.518833</td>\n",
       "      <td>0.839611</td>\n",
       "    </tr>\n",
       "    <tr>\n",
       "      <th>33</th>\n",
       "      <td>34</td>\n",
       "      <td>2</td>\n",
       "      <td>3284.605925</td>\n",
       "      <td>2.518833</td>\n",
       "      <td>0.839611</td>\n",
       "    </tr>\n",
       "    <tr>\n",
       "      <th>34</th>\n",
       "      <td>35</td>\n",
       "      <td>2</td>\n",
       "      <td>3284.605925</td>\n",
       "      <td>2.518833</td>\n",
       "      <td>0.839611</td>\n",
       "    </tr>\n",
       "    <tr>\n",
       "      <th>35</th>\n",
       "      <td>36</td>\n",
       "      <td>2</td>\n",
       "      <td>3284.605925</td>\n",
       "      <td>2.518833</td>\n",
       "      <td>0.839611</td>\n",
       "    </tr>\n",
       "    <tr>\n",
       "      <th>36</th>\n",
       "      <td>37</td>\n",
       "      <td>2</td>\n",
       "      <td>3284.605925</td>\n",
       "      <td>2.518833</td>\n",
       "      <td>0.839611</td>\n",
       "    </tr>\n",
       "    <tr>\n",
       "      <th>37</th>\n",
       "      <td>38</td>\n",
       "      <td>2</td>\n",
       "      <td>3284.605925</td>\n",
       "      <td>2.518833</td>\n",
       "      <td>0.839611</td>\n",
       "    </tr>\n",
       "    <tr>\n",
       "      <th>38</th>\n",
       "      <td>39</td>\n",
       "      <td>2</td>\n",
       "      <td>3284.605925</td>\n",
       "      <td>2.518833</td>\n",
       "      <td>0.839611</td>\n",
       "    </tr>\n",
       "    <tr>\n",
       "      <th>39</th>\n",
       "      <td>40</td>\n",
       "      <td>2</td>\n",
       "      <td>3284.605925</td>\n",
       "      <td>2.518833</td>\n",
       "      <td>0.839611</td>\n",
       "    </tr>\n",
       "    <tr>\n",
       "      <th>40</th>\n",
       "      <td>41</td>\n",
       "      <td>2</td>\n",
       "      <td>3284.605925</td>\n",
       "      <td>2.518833</td>\n",
       "      <td>0.839611</td>\n",
       "    </tr>\n",
       "    <tr>\n",
       "      <th>41</th>\n",
       "      <td>42</td>\n",
       "      <td>2</td>\n",
       "      <td>3284.605925</td>\n",
       "      <td>2.518833</td>\n",
       "      <td>0.839611</td>\n",
       "    </tr>\n",
       "    <tr>\n",
       "      <th>42</th>\n",
       "      <td>43</td>\n",
       "      <td>2</td>\n",
       "      <td>3284.605925</td>\n",
       "      <td>2.518833</td>\n",
       "      <td>0.839611</td>\n",
       "    </tr>\n",
       "    <tr>\n",
       "      <th>43</th>\n",
       "      <td>44</td>\n",
       "      <td>2</td>\n",
       "      <td>3284.605925</td>\n",
       "      <td>2.518833</td>\n",
       "      <td>0.839611</td>\n",
       "    </tr>\n",
       "    <tr>\n",
       "      <th>44</th>\n",
       "      <td>45</td>\n",
       "      <td>2</td>\n",
       "      <td>3284.605925</td>\n",
       "      <td>2.518833</td>\n",
       "      <td>0.839611</td>\n",
       "    </tr>\n",
       "    <tr>\n",
       "      <th>45</th>\n",
       "      <td>46</td>\n",
       "      <td>2</td>\n",
       "      <td>3284.605925</td>\n",
       "      <td>2.518833</td>\n",
       "      <td>0.839611</td>\n",
       "    </tr>\n",
       "    <tr>\n",
       "      <th>46</th>\n",
       "      <td>47</td>\n",
       "      <td>2</td>\n",
       "      <td>3284.605925</td>\n",
       "      <td>2.518833</td>\n",
       "      <td>0.839611</td>\n",
       "    </tr>\n",
       "    <tr>\n",
       "      <th>47</th>\n",
       "      <td>48</td>\n",
       "      <td>2</td>\n",
       "      <td>3284.605925</td>\n",
       "      <td>2.518833</td>\n",
       "      <td>0.839611</td>\n",
       "    </tr>\n",
       "    <tr>\n",
       "      <th>48</th>\n",
       "      <td>49</td>\n",
       "      <td>2</td>\n",
       "      <td>3284.605925</td>\n",
       "      <td>2.518833</td>\n",
       "      <td>0.839611</td>\n",
       "    </tr>\n",
       "    <tr>\n",
       "      <th>49</th>\n",
       "      <td>50</td>\n",
       "      <td>2</td>\n",
       "      <td>3284.605925</td>\n",
       "      <td>2.518833</td>\n",
       "      <td>0.839611</td>\n",
       "    </tr>\n",
       "  </tbody>\n",
       "</table>\n",
       "</div>"
      ],
      "text/plain": [
       "   iteration optimal_num_cluster optimal_ch_score hamming_dist hamming_loss\n",
       "0          1                   2      3284.605925     2.518833     0.839611\n",
       "1          2                   2      3284.605925     2.518833     0.839611\n",
       "2          3                   2      3284.605925     2.518833     0.839611\n",
       "3          4                   2      3284.605925     2.518833     0.839611\n",
       "4          5                   2      3284.605925     2.518833     0.839611\n",
       "5          6                   2      3284.605925     2.518833     0.839611\n",
       "6          7                   2      3284.605925     2.518833     0.839611\n",
       "7          8                   2      3284.605925     2.518833     0.839611\n",
       "8          9                   2      3284.605925     2.518833     0.839611\n",
       "9         10                   2      3284.605925     2.518833     0.839611\n",
       "10        11                   2      3284.605925     2.518833     0.839611\n",
       "11        12                   2      3284.605925     2.518833     0.839611\n",
       "12        13                   2      3284.605925     2.518833     0.839611\n",
       "13        14                   2      3284.605925     2.518833     0.839611\n",
       "14        15                   2      3284.605925     2.518833     0.839611\n",
       "15        16                   2      3284.605925     2.518833     0.839611\n",
       "16        17                   2      3284.605925     2.518833     0.839611\n",
       "17        18                   2      3284.605925     2.518833     0.839611\n",
       "18        19                   2      3284.605925     2.518833     0.839611\n",
       "19        20                   2      3284.605925     2.518833     0.839611\n",
       "20        21                   2      3284.605925     2.518833     0.839611\n",
       "21        22                   2      3284.605925     2.518833     0.839611\n",
       "22        23                   2      3284.605925     2.518833     0.839611\n",
       "23        24                   2      3284.605925     2.518833     0.839611\n",
       "24        25                   2      3284.605925     2.518833     0.839611\n",
       "25        26                   2      3284.605925     2.518833     0.839611\n",
       "26        27                   2      3284.605925     2.518833     0.839611\n",
       "27        28                   2      3284.605925     2.518833     0.839611\n",
       "28        29                   2      3284.605925     2.518833     0.839611\n",
       "29        30                   2      3284.605925     2.518833     0.839611\n",
       "30        31                   2      3284.605925     2.518833     0.839611\n",
       "31        32                   2      3284.605925     2.518833     0.839611\n",
       "32        33                   2      3284.605925     2.518833     0.839611\n",
       "33        34                   2      3284.605925     2.518833     0.839611\n",
       "34        35                   2      3284.605925     2.518833     0.839611\n",
       "35        36                   2      3284.605925     2.518833     0.839611\n",
       "36        37                   2      3284.605925     2.518833     0.839611\n",
       "37        38                   2      3284.605925     2.518833     0.839611\n",
       "38        39                   2      3284.605925     2.518833     0.839611\n",
       "39        40                   2      3284.605925     2.518833     0.839611\n",
       "40        41                   2      3284.605925     2.518833     0.839611\n",
       "41        42                   2      3284.605925     2.518833     0.839611\n",
       "42        43                   2      3284.605925     2.518833     0.839611\n",
       "43        44                   2      3284.605925     2.518833     0.839611\n",
       "44        45                   2      3284.605925     2.518833     0.839611\n",
       "45        46                   2      3284.605925     2.518833     0.839611\n",
       "46        47                   2      3284.605925     2.518833     0.839611\n",
       "47        48                   2      3284.605925     2.518833     0.839611\n",
       "48        49                   2      3284.605925     2.518833     0.839611\n",
       "49        50                   2      3284.605925     2.518833     0.839611"
      ]
     },
     "execution_count": 28,
     "metadata": {},
     "output_type": "execute_result"
    }
   ],
   "source": [
    "df_result_kmeans"
   ]
  },
  {
   "cell_type": "code",
   "execution_count": 29,
   "id": "6a465d5e",
   "metadata": {},
   "outputs": [
    {
     "name": "stdout",
     "output_type": "stream",
     "text": [
      "Hamming Distance average: 2.5188325225851287\n",
      "Hamming Distance standard deviation: 0.0\n"
     ]
    }
   ],
   "source": [
    "# average and SD of hamming distances from 50 iterations\n",
    "print('Hamming Distance average:', df_result_kmeans['hamming_dist'].mean())\n",
    "print('Hamming Distance standard deviation:', df_result_kmeans['hamming_dist'].std())\n"
   ]
  },
  {
   "cell_type": "markdown",
   "id": "0335fd94",
   "metadata": {},
   "source": [
    "> For the 50 iterations of K-means, it is noticed that the optimal number of clusters are the same (n_clusters = 2) as well as the hamming distance (sd = 0). It could be inferred that the clusters we got is global optima."
   ]
  },
  {
   "cell_type": "markdown",
   "id": "fca6c57f",
   "metadata": {},
   "source": [
    "#### 2-(a). Use k-means clustering on the whole Anuran Calls (MFCCs) Data Set (do not split the data into train and test, as we are not performing supervised learning in this exercise). Choose k ∈ {1, 2, . . . , 50} automatically based on one of the methods provided in the slides (CH or Gap Statistics or scree plots or Silhouettes) or any other method you know."
   ]
  },
  {
   "cell_type": "code",
   "execution_count": 30,
   "id": "a4a138fb",
   "metadata": {},
   "outputs": [],
   "source": [
    "# perform k-means clustering 49 times - k from 2 to 50\n",
    "df_ch_score = pd.DataFrame(columns = ['num_clusters', 'CH_score'])\n",
    "list_num_clusters = np.arange(2, 51, 1)\n",
    "\n",
    "for num_cluster in list_num_clusters:\n",
    "    km = KMeans(n_clusters = num_cluster, random_state = 0)\n",
    "    km.fit(df_mfcc_X_std)\n",
    "    ch_score = calinski_harabasz_score(df_mfcc_X_std, km.labels_)\n",
    "    df_ch_score.loc[len(df_ch_score), :] = [num_cluster, ch_score]"
   ]
  },
  {
   "cell_type": "code",
   "execution_count": 31,
   "id": "3c8a3880",
   "metadata": {},
   "outputs": [
    {
     "data": {
      "image/png": "[encoded data removed]",
      "text/plain": [
       "<Figure size 432x288 with 1 Axes>"
      ]
     },
     "metadata": {
      "needs_background": "light"
     },
     "output_type": "display_data"
    }
   ],
   "source": [
    "# plot ch_score for different n_clusters\n",
    "df_ch_score.plot(x = 'num_clusters', y = 'CH_score')\n",
    "plt.show()"
   ]
  },
  {
   "cell_type": "code",
   "execution_count": 32,
   "id": "e9d8bdae",
   "metadata": {},
   "outputs": [
    {
     "data": {
      "text/html": [
       "<div>\n",
       "<style scoped>\n",
       "    .dataframe tbody tr th:only-of-type {\n",
       "        vertical-align: middle;\n",
       "    }\n",
       "\n",
       "    .dataframe tbody tr th {\n",
       "        vertical-align: top;\n",
       "    }\n",
       "\n",
       "    .dataframe thead th {\n",
       "        text-align: right;\n",
       "    }\n",
       "</style>\n",
       "<table border=\"1\" class=\"dataframe\">\n",
       "  <thead>\n",
       "    <tr style=\"text-align: right;\">\n",
       "      <th></th>\n",
       "      <th>num_clusters</th>\n",
       "      <th>CH_score</th>\n",
       "    </tr>\n",
       "  </thead>\n",
       "  <tbody>\n",
       "    <tr>\n",
       "      <th>0</th>\n",
       "      <td>2</td>\n",
       "      <td>3284.605925</td>\n",
       "    </tr>\n",
       "  </tbody>\n",
       "</table>\n",
       "</div>"
      ],
      "text/plain": [
       "  num_clusters     CH_score\n",
       "0            2  3284.605925"
      ]
     },
     "execution_count": 32,
     "metadata": {},
     "output_type": "execute_result"
    }
   ],
   "source": [
    "# max CH_score\n",
    "df_ch_score[df_ch_score['CH_score'] == df_ch_score['CH_score'].max()]"
   ]
  },
  {
   "cell_type": "markdown",
   "id": "38916591",
   "metadata": {},
   "source": [
    "> number of clusters = 2 gives the highest CH score"
   ]
  },
  {
   "cell_type": "markdown",
   "id": "9bde02b9",
   "metadata": {},
   "source": [
    "#### 2-(b). In each cluster, determine which family is the majority by reading the true labels. Repeat for genus and species."
   ]
  },
  {
   "cell_type": "code",
   "execution_count": 33,
   "id": "065feb75",
   "metadata": {},
   "outputs": [],
   "source": [
    "# K-Mean with 2 clusters\n",
    "km_2cluster = KMeans(n_clusters = 2, random_state = 0)\n",
    "km_2cluster.fit(df_mfcc_X_std)\n",
    "\n",
    "# add cluster label to the data\n",
    "df_mfcc_kmean_2 = df_mfcc.copy()\n",
    "df_mfcc_kmean_2['cluster_no'] = km_2cluster.labels_\n",
    "\n",
    "# each cluster's majority true labels - family, genus, species\n",
    "df_mfcc_kmean_2_majority_label = df_mfcc_kmean_2.groupby('cluster_no')[label_cols].agg(pd.Series.mode)"
   ]
  },
  {
   "cell_type": "code",
   "execution_count": 34,
   "id": "171069ba",
   "metadata": {},
   "outputs": [
    {
     "data": {
      "text/html": [
       "<div>\n",
       "<style scoped>\n",
       "    .dataframe tbody tr th:only-of-type {\n",
       "        vertical-align: middle;\n",
       "    }\n",
       "\n",
       "    .dataframe tbody tr th {\n",
       "        vertical-align: top;\n",
       "    }\n",
       "\n",
       "    .dataframe thead th {\n",
       "        text-align: right;\n",
       "    }\n",
       "</style>\n",
       "<table border=\"1\" class=\"dataframe\">\n",
       "  <thead>\n",
       "    <tr style=\"text-align: right;\">\n",
       "      <th></th>\n",
       "      <th>Family</th>\n",
       "      <th>Genus</th>\n",
       "      <th>Species</th>\n",
       "    </tr>\n",
       "    <tr>\n",
       "      <th>cluster_no</th>\n",
       "      <th></th>\n",
       "      <th></th>\n",
       "      <th></th>\n",
       "    </tr>\n",
       "  </thead>\n",
       "  <tbody>\n",
       "    <tr>\n",
       "      <th>0</th>\n",
       "      <td>Leptodactylidae</td>\n",
       "      <td>Adenomera</td>\n",
       "      <td>AdenomeraHylaedactylus</td>\n",
       "    </tr>\n",
       "    <tr>\n",
       "      <th>1</th>\n",
       "      <td>Hylidae</td>\n",
       "      <td>Hypsiboas</td>\n",
       "      <td>HypsiboasCordobae</td>\n",
       "    </tr>\n",
       "  </tbody>\n",
       "</table>\n",
       "</div>"
      ],
      "text/plain": [
       "                     Family      Genus                 Species\n",
       "cluster_no                                                    \n",
       "0           Leptodactylidae  Adenomera  AdenomeraHylaedactylus\n",
       "1                   Hylidae  Hypsiboas       HypsiboasCordobae"
      ]
     },
     "execution_count": 34,
     "metadata": {},
     "output_type": "execute_result"
    }
   ],
   "source": [
    "df_mfcc_kmean_2_majority_label"
   ]
  },
  {
   "cell_type": "markdown",
   "id": "8d5659d7",
   "metadata": {},
   "source": [
    "#### 2-(c). Now for each cluster you have a majority label triplet (family, genus, species). Calculate the average Hamming distance, Hamming score, and Hamming loss5 between the true labels and the labels assigned by clusters."
   ]
  },
  {
   "cell_type": "code",
   "execution_count": 35,
   "id": "4f4fc5f4",
   "metadata": {},
   "outputs": [],
   "source": [
    "y_true = df_mfcc_kmean_2[label_cols]\n",
    "y_pred = df_mfcc_kmean_2.merge(df_mfcc_kmean_2_majority_label, on = 'cluster_no', suffixes = ['_true', ''])\n",
    "y_pred = y_pred[label_cols]"
   ]
  },
  {
   "cell_type": "code",
   "execution_count": 36,
   "id": "6aef359c",
   "metadata": {},
   "outputs": [
    {
     "name": "stdout",
     "output_type": "stream",
     "text": [
      "Hamming distance: 2.5188325225851287\n"
     ]
    }
   ],
   "source": [
    "print('Hamming distance:', hamming_distance(y_true, y_pred))"
   ]
  },
  {
   "cell_type": "code",
   "execution_count": 37,
   "id": "1cf01887",
   "metadata": {},
   "outputs": [
    {
     "name": "stdout",
     "output_type": "stream",
     "text": [
      "Hamming score: 0.15538568450312717\n"
     ]
    }
   ],
   "source": [
    "print('Hamming score:', hamming_score(y_true, y_pred))"
   ]
  },
  {
   "cell_type": "code",
   "execution_count": 38,
   "id": "e9f5a3f6",
   "metadata": {},
   "outputs": [
    {
     "name": "stdout",
     "output_type": "stream",
     "text": [
      "Hamming Loss: 0.8396108408617096\n"
     ]
    }
   ],
   "source": [
    "print('Hamming Loss:', hamming_loss(y_true, y_pred))"
   ]
  },
  {
   "cell_type": "markdown",
   "id": "9ddc6411",
   "metadata": {},
   "source": [
    "> It can be seen that using the majority label as a prediction after doing K-Means clustering provides poor results since the hamming distance and hamming loss are high and hamming score is low."
   ]
  },
  {
   "cell_type": "markdown",
   "id": "bfe74467",
   "metadata": {},
   "source": [
    "# 3. ISLR 12.6.2"
   ]
  },
  {
   "cell_type": "code",
   "execution_count": 39,
   "id": "82f72997",
   "metadata": {},
   "outputs": [],
   "source": [
    "from scipy.cluster.hierarchy import dendrogram, linkage\n",
    "from matplotlib import pyplot as plt"
   ]
  },
  {
   "cell_type": "code",
   "execution_count": 40,
   "id": "3ed94f7e",
   "metadata": {},
   "outputs": [],
   "source": [
    "X = [0.3, 0.4, 0.5, 0.7, 0.8, 0.45]"
   ]
  },
  {
   "cell_type": "markdown",
   "id": "daeb46d2",
   "metadata": {},
   "source": [
    "#### a) Dendrogram for complete linkage"
   ]
  },
  {
   "cell_type": "code",
   "execution_count": 41,
   "id": "8a4dd2f9",
   "metadata": {},
   "outputs": [
    {
     "data": {
      "image/png": "[encoded data removed]",
      "text/plain": [
       "<Figure size 720x360 with 1 Axes>"
      ]
     },
     "metadata": {
      "needs_background": "light"
     },
     "output_type": "display_data"
    }
   ],
   "source": [
    "Z = linkage(X, 'complete')\n",
    "fig = plt.figure(figsize=(10, 5))\n",
    "dn = dendrogram(Z, labels = [1, 2, 3, 4])\n",
    "plt.suptitle('Dendrogram - Complete Linkage', fontsize = 'xx-large')\n",
    "plt.show()"
   ]
  },
  {
   "cell_type": "markdown",
   "id": "d25bb7ec",
   "metadata": {},
   "source": [
    "#### b) Dendrogram for single linkage"
   ]
  },
  {
   "cell_type": "code",
   "execution_count": 42,
   "id": "1835c507",
   "metadata": {},
   "outputs": [
    {
     "data": {
      "image/png": "[encoded data removed]",
      "text/plain": [
       "<Figure size 720x360 with 1 Axes>"
      ]
     },
     "metadata": {
      "needs_background": "light"
     },
     "output_type": "display_data"
    }
   ],
   "source": [
    "Z = linkage(X, 'single')\n",
    "fig = plt.figure(figsize=(10, 5))\n",
    "dn = dendrogram(Z, labels = [1, 2, 3, 4])\n",
    "plt.suptitle('Dendrogram - Complete Linkage', fontsize = 'xx-large')\n",
    "plt.show()"
   ]
  },
  {
   "cell_type": "markdown",
   "id": "7bdd0515",
   "metadata": {},
   "source": [
    "#### c) Two clusters of Complete linkage will be a cluster of (point 1 and 2) and (point 3 and 4)"
   ]
  },
  {
   "cell_type": "markdown",
   "id": "58110fe6",
   "metadata": {},
   "source": [
    "#### d) Two clusters of Single linkage will be a cluster of (1, 2, and 3) and (point 4)"
   ]
  },
  {
   "cell_type": "markdown",
   "id": "b68145a5",
   "metadata": {},
   "source": [
    "#### e) If the points are repositioned, dendrograms are still the same"
   ]
  },
  {
   "cell_type": "code",
   "execution_count": 43,
   "id": "da708675",
   "metadata": {},
   "outputs": [
    {
     "data": {
      "image/png": "[encoded data removed]",
      "text/plain": [
       "<Figure size 720x360 with 1 Axes>"
      ]
     },
     "metadata": {
      "needs_background": "light"
     },
     "output_type": "display_data"
    }
   ],
   "source": [
    "Z = linkage(X, 'complete')\n",
    "fig = plt.figure(figsize=(10, 5))\n",
    "dn = dendrogram(Z, labels = [2, 3, 4, 1])\n",
    "plt.suptitle('Dendrogram - Complete Linkage', fontsize = 'xx-large')\n",
    "plt.show()"
   ]
  },
  {
   "cell_type": "code",
   "execution_count": 44,
   "id": "df0f4ee9",
   "metadata": {},
   "outputs": [
    {
     "data": {
      "image/png": "[encoded data removed]",
      "text/plain": [
       "<Figure size 720x360 with 1 Axes>"
      ]
     },
     "metadata": {
      "needs_background": "light"
     },
     "output_type": "display_data"
    }
   ],
   "source": [
    "Z = linkage(X, 'single')\n",
    "fig = plt.figure(figsize=(10, 5))\n",
    "dn = dendrogram(Z, labels = [2, 3, 4, 1])\n",
    "plt.suptitle('Dendrogram - Complete Linkage', fontsize = 'xx-large')\n",
    "plt.show()"
   ]
  }
 ],
 "metadata": {
  "kernelspec": {
   "display_name": "Python 3",
   "language": "python",
   "name": "python3"
  },
  "language_info": {
   "codemirror_mode": {
    "name": "ipython",
    "version": 3
   },
   "file_extension": ".py",
   "mimetype": "text/x-python",
   "name": "python",
   "nbconvert_exporter": "python",
   "pygments_lexer": "ipython3",
   "version": "3.8.8"
  }
 },
 "nbformat": 4,
 "nbformat_minor": 5
}
