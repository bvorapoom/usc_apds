{
 "cells": [
  {
   "cell_type": "markdown",
   "id": "41c41ee2",
   "metadata": {},
   "source": [
    "<center><h1>DSCI-552 FINAL PROJECT</h1>\n",
    "<br>\n",
    "<font size=\"3\">Name: Vorapoom Thirapatarapong</font>\n",
    "<br>\n",
    "<font size=\"3\">USC ID: 4397330150 Github Username: bvorapoom</font></center>"
   ]
  },
  {
   "cell_type": "markdown",
   "id": "f9a23667",
   "metadata": {},
   "source": [
    "> <b>references:</b><br>\n",
    "reference of resources used for the project is mainly from Keras documentation (https://keras.io/api/).  The idea of removing stop words to improve sentiment analysis performance is from reading the article on analyticsvidhya (https://www.analyticsvidhya.com/blog/2015/10/6-practices-enhance-performance-text-classification-model/). Several coding issues solved by looking at several blogs on stackoverflow (e.g. https://stackoverflow.com/questions/51956000/what-does-keras-tokenizer-method-exactly-do, https://stackoverflow.com/questions/48851558/tensorflow-estimator-valueerror-logits-and-labels-must-have-the-same-shape)"
   ]
  },
  {
   "cell_type": "markdown",
   "id": "5b483540",
   "metadata": {},
   "source": [
    "#### import packages"
   ]
  },
  {
   "cell_type": "code",
   "execution_count": 1,
   "id": "2faa27aa",
   "metadata": {},
   "outputs": [],
   "source": [
    "import pandas as pd\n",
    "import numpy as np\n",
    "import matplotlib.pyplot as plt\n",
    "import seaborn as sns\n",
    "from tensorflow import keras\n",
    "import tensorflow as tf\n",
    "import os\n",
    "import re\n",
    "import nltk\n",
    "from nltk.corpus import stopwords"
   ]
  },
  {
   "cell_type": "markdown",
   "id": "fc5fc123",
   "metadata": {},
   "source": [
    "# 1. Text Classification"
   ]
  },
  {
   "cell_type": "markdown",
   "id": "93153e83",
   "metadata": {},
   "source": [
    "#### import data (positive: y = 1, negative: y = -1)"
   ]
  },
  {
   "cell_type": "code",
   "execution_count": 2,
   "id": "0c2dfa7b",
   "metadata": {},
   "outputs": [],
   "source": [
    "# import all data to dataframe\n",
    "\n",
    "# import negative reviews\n",
    "path_neg = \"../data/neg\"\n",
    "list_file = sorted([file for file in os.listdir(path_neg)])\n",
    "df_raw_neg = pd.DataFrame(columns = ['file_no', 'text_reviews', 'class'])\n",
    "\n",
    "for file in list_file:\n",
    "    file_path = str(path_neg + \"/\" + file)\n",
    "    file_no = int(re.search(r'cv(\\d{3})_', file)[1])\n",
    "    with open(file_path, 'r', encoding = 'utf-8') as f:\n",
    "        text = ''.join(f.read().split('\\n'))\n",
    "    df_raw_neg.loc[len(df_raw_neg), :] = [file_no, text, 0]\n",
    "    \n",
    "# import positive reviews\n",
    "path_pos = \"../data/pos\"\n",
    "list_file = sorted([file for file in os.listdir(path_pos)])\n",
    "df_raw_pos = pd.DataFrame(columns = ['file_no', 'text_reviews', 'class'])\n",
    "\n",
    "for file in list_file:\n",
    "    file_path = str(path_pos + \"/\" + file)\n",
    "    file_no = int(re.search(r'cv(\\d{3})_', file)[1])\n",
    "    with open(file_path, 'r', encoding = 'utf-8') as f:\n",
    "        text = ''.join(f.read().split('\\n'))\n",
    "    df_raw_pos.loc[len(df_raw_pos), :] = [file_no, text, 1]\n",
    "    \n",
    "    \n",
    "# concat both dfs\n",
    "df_raw = pd.concat([df_raw_neg, df_raw_pos], axis = 0).reset_index(drop = True)"
   ]
  },
  {
   "cell_type": "code",
   "execution_count": 3,
   "id": "b93048a1",
   "metadata": {},
   "outputs": [
    {
     "data": {
      "text/html": [
       "<div>\n",
       "<style scoped>\n",
       "    .dataframe tbody tr th:only-of-type {\n",
       "        vertical-align: middle;\n",
       "    }\n",
       "\n",
       "    .dataframe tbody tr th {\n",
       "        vertical-align: top;\n",
       "    }\n",
       "\n",
       "    .dataframe thead th {\n",
       "        text-align: right;\n",
       "    }\n",
       "</style>\n",
       "<table border=\"1\" class=\"dataframe\">\n",
       "  <thead>\n",
       "    <tr style=\"text-align: right;\">\n",
       "      <th></th>\n",
       "      <th>file_no</th>\n",
       "      <th>text_reviews</th>\n",
       "      <th>class</th>\n",
       "    </tr>\n",
       "  </thead>\n",
       "  <tbody>\n",
       "    <tr>\n",
       "      <th>0</th>\n",
       "      <td>0</td>\n",
       "      <td>plot : two teen couples go to a church party ,...</td>\n",
       "      <td>0</td>\n",
       "    </tr>\n",
       "    <tr>\n",
       "      <th>1</th>\n",
       "      <td>1</td>\n",
       "      <td>the happy bastard's quick movie review damn th...</td>\n",
       "      <td>0</td>\n",
       "    </tr>\n",
       "    <tr>\n",
       "      <th>2</th>\n",
       "      <td>2</td>\n",
       "      <td>it is movies like these that make a jaded movi...</td>\n",
       "      <td>0</td>\n",
       "    </tr>\n",
       "    <tr>\n",
       "      <th>3</th>\n",
       "      <td>3</td>\n",
       "      <td>\" quest for camelot \" is warner bros . ' firs...</td>\n",
       "      <td>0</td>\n",
       "    </tr>\n",
       "    <tr>\n",
       "      <th>4</th>\n",
       "      <td>4</td>\n",
       "      <td>synopsis : a mentally unstable man undergoing ...</td>\n",
       "      <td>0</td>\n",
       "    </tr>\n",
       "    <tr>\n",
       "      <th>...</th>\n",
       "      <td>...</td>\n",
       "      <td>...</td>\n",
       "      <td>...</td>\n",
       "    </tr>\n",
       "    <tr>\n",
       "      <th>1995</th>\n",
       "      <td>995</td>\n",
       "      <td>wow ! what a movie . it's everything a movie c...</td>\n",
       "      <td>1</td>\n",
       "    </tr>\n",
       "    <tr>\n",
       "      <th>1996</th>\n",
       "      <td>996</td>\n",
       "      <td>richard gere can be a commanding actor , but h...</td>\n",
       "      <td>1</td>\n",
       "    </tr>\n",
       "    <tr>\n",
       "      <th>1997</th>\n",
       "      <td>997</td>\n",
       "      <td>glory--starring matthew broderick , denzel was...</td>\n",
       "      <td>1</td>\n",
       "    </tr>\n",
       "    <tr>\n",
       "      <th>1998</th>\n",
       "      <td>998</td>\n",
       "      <td>steven spielberg's second epic film on world w...</td>\n",
       "      <td>1</td>\n",
       "    </tr>\n",
       "    <tr>\n",
       "      <th>1999</th>\n",
       "      <td>999</td>\n",
       "      <td>truman ( \" true-man \" ) burbank is the perfect...</td>\n",
       "      <td>1</td>\n",
       "    </tr>\n",
       "  </tbody>\n",
       "</table>\n",
       "<p>2000 rows × 3 columns</p>\n",
       "</div>"
      ],
      "text/plain": [
       "     file_no                                       text_reviews class\n",
       "0          0  plot : two teen couples go to a church party ,...     0\n",
       "1          1  the happy bastard's quick movie review damn th...     0\n",
       "2          2  it is movies like these that make a jaded movi...     0\n",
       "3          3   \" quest for camelot \" is warner bros . ' firs...     0\n",
       "4          4  synopsis : a mentally unstable man undergoing ...     0\n",
       "...      ...                                                ...   ...\n",
       "1995     995  wow ! what a movie . it's everything a movie c...     1\n",
       "1996     996  richard gere can be a commanding actor , but h...     1\n",
       "1997     997  glory--starring matthew broderick , denzel was...     1\n",
       "1998     998  steven spielberg's second epic film on world w...     1\n",
       "1999     999  truman ( \" true-man \" ) burbank is the perfect...     1\n",
       "\n",
       "[2000 rows x 3 columns]"
      ]
     },
     "execution_count": 3,
     "metadata": {},
     "output_type": "execute_result"
    }
   ],
   "source": [
    "df_raw"
   ]
  },
  {
   "cell_type": "markdown",
   "id": "b040f968",
   "metadata": {},
   "source": [
    "## (b) Data Exploration and Pre-processing"
   ]
  },
  {
   "cell_type": "markdown",
   "id": "cb185361",
   "metadata": {},
   "source": [
    "#### (b)-ii. The data are pretty clean. Remove the punctuation and numbers from the data."
   ]
  },
  {
   "cell_type": "code",
   "execution_count": 4,
   "id": "fdb6f2ee",
   "metadata": {},
   "outputs": [
    {
     "name": "stderr",
     "output_type": "stream",
     "text": [
      "<ipython-input-4-e6e4854b7d9b>:2: FutureWarning: The default value of regex will change from True to False in a future version.\n",
      "  df_raw.loc[:, 'cleaned_text_reviews'] =  df_raw.loc[:, 'text_reviews'].str.replace(r'[^\\w\\s]','')\n",
      "<ipython-input-4-e6e4854b7d9b>:3: FutureWarning: The default value of regex will change from True to False in a future version.\n",
      "  df_raw.loc[:, 'cleaned_text_reviews'] =  df_raw.loc[:, 'cleaned_text_reviews'].str.replace(r'[\\d]','')\n"
     ]
    }
   ],
   "source": [
    "# remove punctuation and numbers\n",
    "df_raw.loc[:, 'cleaned_text_reviews'] =  df_raw.loc[:, 'text_reviews'].str.replace(r'[^\\w\\s]','')\n",
    "df_raw.loc[:, 'cleaned_text_reviews'] =  df_raw.loc[:, 'cleaned_text_reviews'].str.replace(r'[\\d]','')\n",
    "\n",
    "# some other cleanings\n",
    "df_raw.loc[:, 'cleaned_text_reviews'] = df_raw.loc[:, 'cleaned_text_reviews'].str.lower()\n",
    "df_raw.loc[:, 'cleaned_text_reviews'] = df_raw.loc[:, 'cleaned_text_reviews'].replace(r'\\s+', ' ', regex = True)"
   ]
  },
  {
   "cell_type": "code",
   "execution_count": 5,
   "id": "417ac09f",
   "metadata": {},
   "outputs": [
    {
     "name": "stderr",
     "output_type": "stream",
     "text": [
      "[nltk_data] Downloading package stopwords to /Users/boom/nltk_data...\n",
      "[nltk_data]   Package stopwords is already up-to-date!\n",
      "[nltk_data] Downloading package punkt to /Users/boom/nltk_data...\n",
      "[nltk_data]   Package punkt is already up-to-date!\n"
     ]
    }
   ],
   "source": [
    "# remove stop words for better acc\n",
    "nltk.download('stopwords')\n",
    "nltk.download('punkt')\n",
    "stop = stopwords.words('english')\n",
    "df_raw.loc[:, 'cleaned_text_reviews_non_sw'] = df_raw.loc[:, 'cleaned_text_reviews'].apply(lambda x: ' '.join([word for word in x.split() if word not in (stop)]))\n"
   ]
  },
  {
   "cell_type": "markdown",
   "id": "c9b83c01",
   "metadata": {},
   "source": [
    "#### (b)-iii. The name of each text file starts with cv number. Use text files 0-699 in each class for training and 700-999 for testing."
   ]
  },
  {
   "cell_type": "code",
   "execution_count": 6,
   "id": "5fa49da6",
   "metadata": {},
   "outputs": [],
   "source": [
    "df_raw_train = df_raw[df_raw.file_no < 700]\n",
    "df_raw_test = df_raw[df_raw.file_no >= 700]"
   ]
  },
  {
   "cell_type": "markdown",
   "id": "e22a8a12",
   "metadata": {},
   "source": [
    "#### (b)-iv. Count the number of unique words in the whole dataset (train + test) and print it out."
   ]
  },
  {
   "cell_type": "code",
   "execution_count": 7,
   "id": "4b12904d",
   "metadata": {},
   "outputs": [
    {
     "name": "stdout",
     "output_type": "stream",
     "text": [
      "Number of unique words in the whole dataset = 47037\n"
     ]
    }
   ],
   "source": [
    "unique_words = set()\n",
    "df_raw.loc[:, 'cleaned_text_reviews'].str.split().apply(unique_words.update)\n",
    "print('Number of unique words in the whole dataset =', len(unique_words))"
   ]
  },
  {
   "cell_type": "code",
   "execution_count": 8,
   "id": "05914f91",
   "metadata": {},
   "outputs": [
    {
     "name": "stdout",
     "output_type": "stream",
     "text": [
      "Number of unique words in the whole dataset (no stop words) = 46895\n"
     ]
    }
   ],
   "source": [
    "# after removing stop words\n",
    "unique_words_non_sw = set()\n",
    "df_raw.loc[:, 'cleaned_text_reviews_non_sw'].str.split().apply(unique_words_non_sw.update)\n",
    "print('Number of unique words in the whole dataset (no stop words) =', len(unique_words_non_sw))"
   ]
  },
  {
   "cell_type": "markdown",
   "id": "f001f0a0",
   "metadata": {},
   "source": [
    "#### (b)-v. Calculate the average review length and the standard deviation of review lengths. Report the results.\n"
   ]
  },
  {
   "cell_type": "code",
   "execution_count": 9,
   "id": "d9fc8c1a",
   "metadata": {},
   "outputs": [
    {
     "name": "stderr",
     "output_type": "stream",
     "text": [
      "/opt/anaconda3/lib/python3.8/site-packages/pandas/core/indexing.py:1597: SettingWithCopyWarning: \n",
      "A value is trying to be set on a copy of a slice from a DataFrame.\n",
      "Try using .loc[row_indexer,col_indexer] = value instead\n",
      "\n",
      "See the caveats in the documentation: https://pandas.pydata.org/pandas-docs/stable/user_guide/indexing.html#returning-a-view-versus-a-copy\n",
      "  self.obj[key] = value\n",
      "/opt/anaconda3/lib/python3.8/site-packages/pandas/core/indexing.py:1676: SettingWithCopyWarning: \n",
      "A value is trying to be set on a copy of a slice from a DataFrame.\n",
      "Try using .loc[row_indexer,col_indexer] = value instead\n",
      "\n",
      "See the caveats in the documentation: https://pandas.pydata.org/pandas-docs/stable/user_guide/indexing.html#returning-a-view-versus-a-copy\n",
      "  self._setitem_single_column(ilocs[0], value, pi)\n"
     ]
    }
   ],
   "source": [
    "df_raw.loc[:, 'review_length'] = df_raw['cleaned_text_reviews'].str.split().str.len()\n",
    "df_raw_train.loc[:, 'review_length'] = df_raw_train['cleaned_text_reviews'].str.split().str.len()"
   ]
  },
  {
   "cell_type": "code",
   "execution_count": 10,
   "id": "ae7d70e6",
   "metadata": {},
   "outputs": [
    {
     "name": "stdout",
     "output_type": "stream",
     "text": [
      "Average review length (whole dataset) = 644.3575\n",
      "SD of review length (whole dataset) = 285.0513950898525\n"
     ]
    }
   ],
   "source": [
    "# average and SD of review length - whole dataset\n",
    "print('Average review length (whole dataset) =', df_raw.loc[:, 'review_length'].mean())\n",
    "print('SD of review length (whole dataset) =', df_raw.loc[:, 'review_length'].std())"
   ]
  },
  {
   "cell_type": "code",
   "execution_count": 11,
   "id": "47d784f6",
   "metadata": {},
   "outputs": [
    {
     "name": "stdout",
     "output_type": "stream",
     "text": [
      "Average review length (whole dataset) = 641.4142857142857\n",
      "SD of review length (whole dataset) = 285.19952224185164\n"
     ]
    }
   ],
   "source": [
    "# average and SD of review length - training dataset\n",
    "print('Average review length (whole dataset) =', df_raw_train.loc[:, 'review_length'].mean())\n",
    "print('SD of review length (whole dataset) =', df_raw_train.loc[:, 'review_length'].std())\n"
   ]
  },
  {
   "cell_type": "code",
   "execution_count": 12,
   "id": "587be565",
   "metadata": {},
   "outputs": [
    {
     "name": "stdout",
     "output_type": "stream",
     "text": [
      "Average review length (whole dataset, no stop words) = 352.5125\n",
      "SD of review length (whole dataset, no stop words) = 152.2744121382384\n"
     ]
    }
   ],
   "source": [
    "# without stop words\n",
    "df_raw.loc[:, 'review_length_non_sw'] = df_raw['cleaned_text_reviews_non_sw'].str.split().str.len()\n",
    "df_raw_train.loc[:, 'review_length_non_sw'] = df_raw_train['cleaned_text_reviews_non_sw'].str.split().str.len()\n",
    "\n",
    "print('Average review length (whole dataset, no stop words) =', df_raw.loc[:, 'review_length_non_sw'].mean())\n",
    "print('SD of review length (whole dataset, no stop words) =', df_raw.loc[:, 'review_length_non_sw'].std())"
   ]
  },
  {
   "cell_type": "markdown",
   "id": "fcb78e85",
   "metadata": {},
   "source": [
    "#### (b)-vi. Plot the histogram of review lengths."
   ]
  },
  {
   "cell_type": "code",
   "execution_count": 13,
   "id": "71085342",
   "metadata": {},
   "outputs": [
    {
     "data": {
      "image/png": "[encoded data removed]",
      "text/plain": [
       "<Figure size 432x288 with 1 Axes>"
      ]
     },
     "metadata": {
      "needs_background": "light"
     },
     "output_type": "display_data"
    }
   ],
   "source": [
    "# histogram of review length - whole dataset\n",
    "df_raw.loc[:, 'review_length'].hist()\n",
    "plt.title('histogram of review length - whole dataset')\n",
    "plt.xlabel('Review Length')\n",
    "plt.ylabel('Frequency')\n",
    "plt.show()"
   ]
  },
  {
   "cell_type": "code",
   "execution_count": 14,
   "id": "e15fefd5",
   "metadata": {},
   "outputs": [
    {
     "data": {
      "image/png": "[encoded data removed]",
      "text/plain": [
       "<Figure size 432x288 with 1 Axes>"
      ]
     },
     "metadata": {
      "needs_background": "light"
     },
     "output_type": "display_data"
    }
   ],
   "source": [
    "# histogram of review length - training dataset\n",
    "df_raw.loc[df_raw[df_raw.file_no < 700].index, 'review_length'].hist()\n",
    "plt.title('histogram of review length - training dataset')\n",
    "plt.xlabel('Review Length')\n",
    "plt.ylabel('Frequency')\n",
    "plt.show()"
   ]
  },
  {
   "cell_type": "code",
   "execution_count": 15,
   "id": "3591d7b2",
   "metadata": {},
   "outputs": [
    {
     "data": {
      "image/png": "[encoded data removed]",
      "text/plain": [
       "<Figure size 432x288 with 1 Axes>"
      ]
     },
     "metadata": {
      "needs_background": "light"
     },
     "output_type": "display_data"
    }
   ],
   "source": [
    "# histogram of review length - whole dataset - no stop words\n",
    "df_raw.loc[:, 'review_length_non_sw'].hist()\n",
    "plt.title('histogram of review length - whole dataset, no stop words')\n",
    "plt.xlabel('Review Length')\n",
    "plt.ylabel('Frequency')\n",
    "plt.show()"
   ]
  },
  {
   "cell_type": "markdown",
   "id": "0da4e592",
   "metadata": {},
   "source": [
    "#### (b)-vii. To represent each text (= data point), there are many ways. In NLP/Deep Learning terminology, this task is called tokenization. It is common to rep- resent text using popularity/ rank of words in text. The most common word in the text will be represented as 1, the second most common word will be represented as 2, etc. Tokenize each text document using this method."
   ]
  },
  {
   "cell_type": "code",
   "execution_count": 16,
   "id": "b018597d",
   "metadata": {},
   "outputs": [],
   "source": [
    "# tokenize training and testing text reviews, setting max words to 5000\n",
    "# use text after removing stop words\n",
    "tokenizer = keras.preprocessing.text.Tokenizer(num_words = 5000)\n",
    "tokenizer.fit_on_texts(df_raw_train.loc[:, 'cleaned_text_reviews_non_sw'])\n",
    "\n",
    "X_train_tkn = tokenizer.texts_to_sequences(df_raw_train.loc[:, 'cleaned_text_reviews_non_sw'])\n",
    "X_test_tkn = tokenizer.texts_to_sequences(df_raw_test.loc[:, 'cleaned_text_reviews_non_sw'])"
   ]
  },
  {
   "cell_type": "markdown",
   "id": "b605144d",
   "metadata": {},
   "source": [
    "#### (b)-viii. Select a review length L that 70% of the reviews have a length below it. If you feel more adventurous, set the threshold to 90%."
   ]
  },
  {
   "cell_type": "code",
   "execution_count": 17,
   "id": "16874361",
   "metadata": {},
   "outputs": [
    {
     "name": "stdout",
     "output_type": "stream",
     "text": [
      "review length threshold L at 70th percentile = 730\n",
      "review length threshold L at 70th percentile (remove stop words) = 398\n"
     ]
    }
   ],
   "source": [
    "# select review length threshold L (70th percentile) based on training set reviews\n",
    "max_length = int(df_raw_train.loc[:, 'review_length'].quantile(0.7))\n",
    "print('review length threshold L at 70th percentile =', max_length)\n",
    "\n",
    "max_length = int(df_raw_train.loc[:, 'review_length_non_sw'].quantile(0.7))\n",
    "print('review length threshold L at 70th percentile (remove stop words) =', max_length)"
   ]
  },
  {
   "cell_type": "markdown",
   "id": "0a5c7d0f",
   "metadata": {},
   "source": [
    "#### (b)-ix. Truncate reviews longer than L words and zero-pad reviews shorter than L so that all texts (= data points) are of length L"
   ]
  },
  {
   "cell_type": "code",
   "execution_count": 18,
   "id": "50ff8c9b",
   "metadata": {},
   "outputs": [],
   "source": [
    "# truncate reviews longer than L\n",
    "X_train_truncate = [i[:max_length] for i in X_train_tkn]\n",
    "X_test_truncate = [i[:max_length] for i in X_test_tkn]\n",
    "\n",
    "# zero-pad reviews shorter than L\n",
    "X_train = keras.preprocessing.sequence.pad_sequences(X_train_truncate, padding = 'post', maxlen = max_length)\n",
    "X_test = keras.preprocessing.sequence.pad_sequences(X_test_truncate, padding = 'post', maxlen = max_length)"
   ]
  },
  {
   "cell_type": "code",
   "execution_count": 19,
   "id": "e02dcf2f",
   "metadata": {},
   "outputs": [],
   "source": [
    "# define y_train and y_test\n",
    "y_train = df_raw_train.loc[:, 'class'].astype(int).values\n",
    "y_test = df_raw_test.loc[:, 'class'].astype(int).values"
   ]
  },
  {
   "cell_type": "markdown",
   "id": "38b0ff34",
   "metadata": {},
   "source": [
    "## (c) Word Embeddings"
   ]
  },
  {
   "cell_type": "markdown",
   "id": "3cbebc3e",
   "metadata": {},
   "source": [
    "#### (c)-i. One can use tokenized text as inputs to a deep neural network. However, a re- cent breakthrough in NLP suggests that more sophisticated representations of text yield better results. These sophisticated representations are called word embeddings. “Word embedding is a term used for representation of words for text analysis, typically in the form of a real-valued vector that encodes the meaning of the word such that the words that are closer in the vector space are expected to be similar in meaning.”4. Most deep learning modules (including Keras) provide a convenient way to convert positive integer rep- resentations of words into a word embedding by an “Embedding layer.” The layer accepts arguments that define the mapping of words into embeddings, including the maximum number of expected words also called the vocabulary size (e.g. the largest integer value). The layer also allows you to specify the dimension for each word vector, called the “output dimension.” We would like to use a word embedding layer for this project. Assume that we are inter- ested in the top 5,000 words. This means that in each integer sequence that represents each document, we set to zero those integers that represent words that are not among the top 5,000 words in the document.5 If you feel more adventurous, use all the words that appear in this corpus. Choose the length of the embedding vector for each word to be 32. Hence, each document is represented as a 32 × L matrix."
   ]
  },
  {
   "cell_type": "code",
   "execution_count": 20,
   "id": "0da666b5",
   "metadata": {},
   "outputs": [],
   "source": [
    "# set seed\n",
    "seed = 1\n",
    "tf.random.set_seed(seed)\n",
    "\n",
    "top_words = 5000\n",
    "embedding_dim = 32"
   ]
  },
  {
   "cell_type": "code",
   "execution_count": 21,
   "id": "9739455a",
   "metadata": {},
   "outputs": [
    {
     "name": "stdout",
     "output_type": "stream",
     "text": [
      "Model: \"sequential\"\n",
      "_________________________________________________________________\n",
      " Layer (type)                Output Shape              Param #   \n",
      "=================================================================\n",
      " embedding (Embedding)       (None, 398, 32)           160032    \n",
      "                                                                 \n",
      "=================================================================\n",
      "Total params: 160,032\n",
      "Trainable params: 160,032\n",
      "Non-trainable params: 0\n",
      "_________________________________________________________________\n"
     ]
    }
   ],
   "source": [
    "model_mlp = keras.models.Sequential()\n",
    "model_mlp.add(keras.layers.Embedding(input_dim = top_words + 1, \n",
    "                           output_dim = embedding_dim, \n",
    "                           input_length = max_length))\n",
    "model_mlp.summary()"
   ]
  },
  {
   "cell_type": "markdown",
   "id": "11e24514",
   "metadata": {},
   "source": [
    "#### (c)-ii. Flatten the matrix of each document to a vector."
   ]
  },
  {
   "cell_type": "code",
   "execution_count": 22,
   "id": "996115ca",
   "metadata": {},
   "outputs": [
    {
     "name": "stdout",
     "output_type": "stream",
     "text": [
      "Model: \"sequential\"\n",
      "_________________________________________________________________\n",
      " Layer (type)                Output Shape              Param #   \n",
      "=================================================================\n",
      " embedding (Embedding)       (None, 398, 32)           160032    \n",
      "                                                                 \n",
      " flatten (Flatten)           (None, 12736)             0         \n",
      "                                                                 \n",
      "=================================================================\n",
      "Total params: 160,032\n",
      "Trainable params: 160,032\n",
      "Non-trainable params: 0\n",
      "_________________________________________________________________\n"
     ]
    }
   ],
   "source": [
    "model_mlp.add(keras.layers.Flatten())\n",
    "model_mlp.summary()"
   ]
  },
  {
   "cell_type": "markdown",
   "id": "7c66ad45",
   "metadata": {},
   "source": [
    "## (d) Multi-Layer Perceptron"
   ]
  },
  {
   "cell_type": "markdown",
   "id": "da80d87e",
   "metadata": {},
   "source": [
    "#### (d)-i. Train a MLP with three (dense) hidden layers each of which has 50 ReLUs and one output layer with a single sigmoid neuron. Use a dropout rate of 20% for the first layer and 50% for the other layers. Use ADAM optimizer and binary cross entropy loss (which is equivalent to having a softmax in the output). To avoid overfitting, just set the number of epochs as 2. Use a batch size of 10."
   ]
  },
  {
   "cell_type": "code",
   "execution_count": 23,
   "id": "ccb817e7",
   "metadata": {},
   "outputs": [
    {
     "name": "stdout",
     "output_type": "stream",
     "text": [
      "Model: \"sequential\"\n",
      "_________________________________________________________________\n",
      " Layer (type)                Output Shape              Param #   \n",
      "=================================================================\n",
      " embedding (Embedding)       (None, 398, 32)           160032    \n",
      "                                                                 \n",
      " flatten (Flatten)           (None, 12736)             0         \n",
      "                                                                 \n",
      " dropout (Dropout)           (None, 12736)             0         \n",
      "                                                                 \n",
      " dense (Dense)               (None, 50)                636850    \n",
      "                                                                 \n",
      " dropout_1 (Dropout)         (None, 50)                0         \n",
      "                                                                 \n",
      " dense_1 (Dense)             (None, 50)                2550      \n",
      "                                                                 \n",
      " dropout_2 (Dropout)         (None, 50)                0         \n",
      "                                                                 \n",
      " dense_2 (Dense)             (None, 50)                2550      \n",
      "                                                                 \n",
      " dense_3 (Dense)             (None, 1)                 51        \n",
      "                                                                 \n",
      "=================================================================\n",
      "Total params: 802,033\n",
      "Trainable params: 802,033\n",
      "Non-trainable params: 0\n",
      "_________________________________________________________________\n"
     ]
    }
   ],
   "source": [
    "# add 3 dense hidden layers with 50 ReLUs each\n",
    "model_mlp.add(keras.layers.Dropout(0.2))\n",
    "model_mlp.add(keras.layers.Dense(50, activation = 'relu'))\n",
    "model_mlp.add(keras.layers.Dropout(0.5))\n",
    "model_mlp.add(keras.layers.Dense(50, activation = 'relu'))\n",
    "model_mlp.add(keras.layers.Dropout(0.5))\n",
    "model_mlp.add(keras.layers.Dense(50, activation = 'relu'))\n",
    "\n",
    "# add 1 output layer with sigmoid function\n",
    "model_mlp.add(keras.layers.Dense(1, activation = 'sigmoid'))\n",
    "\n",
    "model_mlp.summary()"
   ]
  },
  {
   "cell_type": "code",
   "execution_count": 24,
   "id": "a9c3fda6",
   "metadata": {},
   "outputs": [
    {
     "name": "stdout",
     "output_type": "stream",
     "text": [
      "Epoch 1/2\n",
      "140/140 [==============================] - 1s 4ms/step - loss: 0.6967 - accuracy: 0.5021\n",
      "Epoch 2/2\n",
      "140/140 [==============================] - 1s 4ms/step - loss: 0.6637 - accuracy: 0.6086\n"
     ]
    },
    {
     "data": {
      "text/plain": [
       "<keras.callbacks.History at 0x7fad18209730>"
      ]
     },
     "execution_count": 24,
     "metadata": {},
     "output_type": "execute_result"
    }
   ],
   "source": [
    "# train MLP with ADAM optimizer and binary cross entropy loss\n",
    "model_mlp.compile(optimizer = 'adam', loss = 'binary_crossentropy', metrics = ['accuracy'])\n",
    "model_mlp.fit(X_train, y_train, epochs = 2, batch_size = 10)"
   ]
  },
  {
   "cell_type": "markdown",
   "id": "45b278c2",
   "metadata": {},
   "source": [
    "#### (d)-ii. Report the train and test accuracies of this model."
   ]
  },
  {
   "cell_type": "code",
   "execution_count": 25,
   "id": "04fbebd0",
   "metadata": {},
   "outputs": [
    {
     "name": "stdout",
     "output_type": "stream",
     "text": [
      "MLP - Training Accuracy: 0.8700\n",
      "MLP - Testing Accuracy:  0.6367\n"
     ]
    }
   ],
   "source": [
    "train_loss_mlp, train_accuracy_mlp = model_mlp.evaluate(X_train, y_train, verbose = False)\n",
    "print(\"MLP - Training Accuracy: {:.4f}\".format(train_accuracy_mlp))\n",
    "test_loss_mlp, test_accuracy_mlp = model_mlp.evaluate(X_test, y_test, verbose = False)\n",
    "print(\"MLP - Testing Accuracy:  {:.4f}\".format(test_accuracy_mlp))"
   ]
  },
  {
   "cell_type": "markdown",
   "id": "137ce843",
   "metadata": {},
   "source": [
    "> Using just 2 epochs give very low accuracy - train with more epochs and see the training loss curve in order to select a better number of epochs"
   ]
  },
  {
   "cell_type": "markdown",
   "id": "80dced45",
   "metadata": {},
   "source": [
    "#### train with a few more epochs and see accuracy graph"
   ]
  },
  {
   "cell_type": "code",
   "execution_count": 26,
   "id": "e7dc1469",
   "metadata": {},
   "outputs": [],
   "source": [
    "model_mlp_full = keras.models.Sequential()\n",
    "\n",
    "# embed\n",
    "model_mlp_full.add(keras.layers.Embedding(input_dim = top_words + 1, \n",
    "                           output_dim = embedding_dim, \n",
    "                           input_length = max_length))\n",
    "# flatten\n",
    "model_mlp_full.add(keras.layers.Flatten())\n",
    "\n",
    "# add 3 dense hidden layers with 50 ReLUs each\n",
    "model_mlp_full.add(keras.layers.Dropout(0.2))\n",
    "model_mlp_full.add(keras.layers.Dense(50, activation = 'relu'))\n",
    "model_mlp_full.add(keras.layers.Dropout(0.5))\n",
    "model_mlp_full.add(keras.layers.Dense(50, activation = 'relu'))\n",
    "model_mlp_full.add(keras.layers.Dropout(0.5))\n",
    "model_mlp_full.add(keras.layers.Dense(50, activation = 'relu'))\n",
    "\n",
    "# add 1 output layer with sigmoid function\n",
    "model_mlp_full.add(keras.layers.Dense(1, activation = 'sigmoid'))\n"
   ]
  },
  {
   "cell_type": "code",
   "execution_count": 27,
   "id": "a7cbcd6a",
   "metadata": {},
   "outputs": [
    {
     "name": "stdout",
     "output_type": "stream",
     "text": [
      "Epoch 1/30\n",
      "140/140 [==============================] - 1s 4ms/step - loss: 0.6960 - accuracy: 0.5279\n",
      "Epoch 2/30\n",
      "140/140 [==============================] - 1s 4ms/step - loss: 0.6648 - accuracy: 0.5893\n",
      "Epoch 3/30\n",
      "140/140 [==============================] - 1s 4ms/step - loss: 0.3644 - accuracy: 0.8429\n",
      "Epoch 4/30\n",
      "140/140 [==============================] - 1s 4ms/step - loss: 0.0499 - accuracy: 0.9850\n",
      "Epoch 5/30\n",
      "140/140 [==============================] - 1s 5ms/step - loss: 0.0198 - accuracy: 0.9950\n",
      "Epoch 6/30\n",
      "140/140 [==============================] - 1s 5ms/step - loss: 0.0093 - accuracy: 0.9964\n",
      "Epoch 7/30\n",
      "140/140 [==============================] - 1s 5ms/step - loss: 0.0028 - accuracy: 1.0000\n",
      "Epoch 8/30\n",
      "140/140 [==============================] - 1s 5ms/step - loss: 0.0118 - accuracy: 0.9971\n",
      "Epoch 9/30\n",
      "140/140 [==============================] - 1s 5ms/step - loss: 0.0049 - accuracy: 0.9986\n",
      "Epoch 10/30\n",
      "140/140 [==============================] - 1s 5ms/step - loss: 0.0051 - accuracy: 0.9986\n",
      "Epoch 11/30\n",
      "140/140 [==============================] - 1s 5ms/step - loss: 0.0025 - accuracy: 0.9993\n",
      "Epoch 12/30\n",
      "140/140 [==============================] - 1s 4ms/step - loss: 0.0064 - accuracy: 0.9986\n",
      "Epoch 13/30\n",
      "140/140 [==============================] - 1s 4ms/step - loss: 0.0019 - accuracy: 0.9993\n",
      "Epoch 14/30\n",
      "140/140 [==============================] - 1s 5ms/step - loss: 0.0017 - accuracy: 1.0000\n",
      "Epoch 15/30\n",
      "140/140 [==============================] - 1s 5ms/step - loss: 0.0023 - accuracy: 0.9993\n",
      "Epoch 16/30\n",
      "140/140 [==============================] - 1s 5ms/step - loss: 0.0073 - accuracy: 0.9986\n",
      "Epoch 17/30\n",
      "140/140 [==============================] - 1s 5ms/step - loss: 0.0026 - accuracy: 0.9993\n",
      "Epoch 18/30\n",
      "140/140 [==============================] - 1s 5ms/step - loss: 0.0125 - accuracy: 0.9957\n",
      "Epoch 19/30\n",
      "140/140 [==============================] - 1s 4ms/step - loss: 0.0084 - accuracy: 0.9971\n",
      "Epoch 20/30\n",
      "140/140 [==============================] - 1s 4ms/step - loss: 0.0113 - accuracy: 0.9971\n",
      "Epoch 21/30\n",
      "140/140 [==============================] - 1s 5ms/step - loss: 0.0139 - accuracy: 0.9957\n",
      "Epoch 22/30\n",
      "140/140 [==============================] - 1s 5ms/step - loss: 0.0035 - accuracy: 0.9993\n",
      "Epoch 23/30\n",
      "140/140 [==============================] - 1s 4ms/step - loss: 0.0072 - accuracy: 0.9979\n",
      "Epoch 24/30\n",
      "140/140 [==============================] - 1s 4ms/step - loss: 0.0084 - accuracy: 0.9979\n",
      "Epoch 25/30\n",
      "140/140 [==============================] - 1s 4ms/step - loss: 0.0055 - accuracy: 0.9986\n",
      "Epoch 26/30\n",
      "140/140 [==============================] - 1s 4ms/step - loss: 6.1813e-04 - accuracy: 1.0000\n",
      "Epoch 27/30\n",
      "140/140 [==============================] - 1s 5ms/step - loss: 0.0044 - accuracy: 0.9979\n",
      "Epoch 28/30\n",
      "140/140 [==============================] - 1s 5ms/step - loss: 0.0187 - accuracy: 0.9964\n",
      "Epoch 29/30\n",
      "140/140 [==============================] - 1s 4ms/step - loss: 0.0057 - accuracy: 0.9979\n",
      "Epoch 30/30\n",
      "140/140 [==============================] - 1s 4ms/step - loss: 0.0020 - accuracy: 0.9993\n"
     ]
    }
   ],
   "source": [
    "# train MLP with ADAM optimizer and binary cross entropy loss\n",
    "model_mlp_full.compile(optimizer = 'adam', loss = 'binary_crossentropy', metrics = ['accuracy'])\n",
    "results_mlp = model_mlp_full.fit(X_train, y_train, epochs = 30, batch_size = 10)"
   ]
  },
  {
   "cell_type": "code",
   "execution_count": 28,
   "id": "af5012d4",
   "metadata": {},
   "outputs": [
    {
     "data": {
      "image/png": "[encoded data removed]",
      "text/plain": [
       "<Figure size 432x288 with 1 Axes>"
      ]
     },
     "metadata": {
      "needs_background": "light"
     },
     "output_type": "display_data"
    }
   ],
   "source": [
    "# plot training loss vs epochs\n",
    "\n",
    "training_loss_mlp = results_mlp.history['loss']\n",
    "epochs_mlp = range(1, len(training_loss_mlp) + 1)\n",
    "\n",
    "plt.plot(epochs_mlp, training_loss_mlp, 'r')\n",
    "plt.title('Training loss - MLP')\n",
    "plt.show()"
   ]
  },
  {
   "cell_type": "markdown",
   "id": "a1dac5ae",
   "metadata": {},
   "source": [
    "> plotting the curve between training loss and number of epochs show that there's an elbow at around 5 epochs, which also yielded almost zero training loss. Hence, we'll use 5 epochs to train the MLP once again."
   ]
  },
  {
   "cell_type": "code",
   "execution_count": 29,
   "id": "e6c47844",
   "metadata": {},
   "outputs": [],
   "source": [
    "# use 5 epochs to train\n",
    "model_mlp_best = keras.models.Sequential()\n",
    "\n",
    "# embed\n",
    "model_mlp_best.add(keras.layers.Embedding(input_dim = top_words + 1, \n",
    "                           output_dim = embedding_dim, \n",
    "                           input_length = max_length))\n",
    "# flatten\n",
    "model_mlp_best.add(keras.layers.Flatten())\n",
    "\n",
    "# add 3 dense hidden layers with 50 ReLUs each\n",
    "model_mlp_best.add(keras.layers.Dropout(0.2))\n",
    "model_mlp_best.add(keras.layers.Dense(50, activation = 'relu'))\n",
    "model_mlp_best.add(keras.layers.Dropout(0.5))\n",
    "model_mlp_best.add(keras.layers.Dense(50, activation = 'relu'))\n",
    "model_mlp_best.add(keras.layers.Dropout(0.5))\n",
    "model_mlp_best.add(keras.layers.Dense(50, activation = 'relu'))\n",
    "\n",
    "# add 1 output layer with sigmoid function\n",
    "model_mlp_best.add(keras.layers.Dense(1, activation = 'sigmoid'))\n"
   ]
  },
  {
   "cell_type": "code",
   "execution_count": 30,
   "id": "589f70ae",
   "metadata": {},
   "outputs": [
    {
     "name": "stdout",
     "output_type": "stream",
     "text": [
      "Epoch 1/5\n",
      "140/140 [==============================] - 1s 4ms/step - loss: 0.6960 - accuracy: 0.5207\n",
      "Epoch 2/5\n",
      "140/140 [==============================] - 1s 4ms/step - loss: 0.6404 - accuracy: 0.6443\n",
      "Epoch 3/5\n",
      "140/140 [==============================] - 1s 4ms/step - loss: 0.2943 - accuracy: 0.8864\n",
      "Epoch 4/5\n",
      "140/140 [==============================] - 1s 4ms/step - loss: 0.0441 - accuracy: 0.9879\n",
      "Epoch 5/5\n",
      "140/140 [==============================] - 1s 4ms/step - loss: 0.0130 - accuracy: 0.9971\n"
     ]
    },
    {
     "data": {
      "text/plain": [
       "<keras.callbacks.History at 0x7fad19be5df0>"
      ]
     },
     "execution_count": 30,
     "metadata": {},
     "output_type": "execute_result"
    }
   ],
   "source": [
    "# train MLP with ADAM optimizer and binary cross entropy loss - 5 epochs\n",
    "model_mlp_best.compile(optimizer = 'adam', loss = 'binary_crossentropy', metrics = ['accuracy'])\n",
    "model_mlp_best.fit(X_train, y_train, epochs = 5, batch_size = 10)"
   ]
  },
  {
   "cell_type": "code",
   "execution_count": 31,
   "id": "dfaf55de",
   "metadata": {},
   "outputs": [
    {
     "name": "stdout",
     "output_type": "stream",
     "text": [
      "Best > MLP - Training Accuracy: 1.0000\n",
      "Best > MLP - Testing Accuracy:  0.7150\n"
     ]
    }
   ],
   "source": [
    "train_loss_mlp_best, train_accuracy_mlp_best = model_mlp_best.evaluate(X_train, y_train, verbose = False)\n",
    "print(\"Best > MLP - Training Accuracy: {:.4f}\".format(train_accuracy_mlp_best))\n",
    "test_loss_mlp_best, test_accuracy_mlp_best = model_mlp_best.evaluate(X_test, y_test, verbose = False)\n",
    "print(\"Best > MLP - Testing Accuracy:  {:.4f}\".format(test_accuracy_mlp_best))"
   ]
  },
  {
   "cell_type": "markdown",
   "id": "bf12f6cd",
   "metadata": {},
   "source": [
    "> It can be seen that the testing accuracy improves to 71.5% on MLP with 5 epochs"
   ]
  },
  {
   "cell_type": "markdown",
   "id": "4973e1c3",
   "metadata": {},
   "source": [
    "## (e) One-Dimensional Convolutional Neural Network\n",
    "Although CNNs are mainly used for image data, they can also be applied to text data, as text also has adjacency information. Keras supports one-dimensional convolutions and pooling by the Conv1D and MaxPooling1D classes respectively."
   ]
  },
  {
   "cell_type": "markdown",
   "id": "96e69e1b",
   "metadata": {},
   "source": [
    "#### (e)-i. After the embedding layer, insert a Conv1D layer. This convolutional layer has 32 feature maps , and each of the 32 kernels has size 3, i.e. reads embedded word representations 3 vector elements of the word embedding at a time. The convolutional layer is followed by a 1D max pooling layer with a length and stride of 2 that halves the size of the feature maps from the convolutional layer. The rest of the network is the same as the neural network above."
   ]
  },
  {
   "cell_type": "code",
   "execution_count": 32,
   "id": "67a72041",
   "metadata": {},
   "outputs": [
    {
     "name": "stdout",
     "output_type": "stream",
     "text": [
      "Model: \"sequential_3\"\n",
      "_________________________________________________________________\n",
      " Layer (type)                Output Shape              Param #   \n",
      "=================================================================\n",
      " embedding_3 (Embedding)     (None, 398, 32)           160032    \n",
      "                                                                 \n",
      " conv1d (Conv1D)             (None, 396, 32)           3104      \n",
      "                                                                 \n",
      " max_pooling1d (MaxPooling1D  (None, 198, 32)          0         \n",
      " )                                                               \n",
      "                                                                 \n",
      " flatten_3 (Flatten)         (None, 6336)              0         \n",
      "                                                                 \n",
      " dropout_9 (Dropout)         (None, 6336)              0         \n",
      "                                                                 \n",
      " dense_12 (Dense)            (None, 50)                316850    \n",
      "                                                                 \n",
      " dropout_10 (Dropout)        (None, 50)                0         \n",
      "                                                                 \n",
      " dense_13 (Dense)            (None, 50)                2550      \n",
      "                                                                 \n",
      " dropout_11 (Dropout)        (None, 50)                0         \n",
      "                                                                 \n",
      " dense_14 (Dense)            (None, 50)                2550      \n",
      "                                                                 \n",
      " dense_15 (Dense)            (None, 1)                 51        \n",
      "                                                                 \n",
      "=================================================================\n",
      "Total params: 485,137\n",
      "Trainable params: 485,137\n",
      "Non-trainable params: 0\n",
      "_________________________________________________________________\n"
     ]
    }
   ],
   "source": [
    "model_cnn = keras.models.Sequential()\n",
    "\n",
    "# word embedding\n",
    "model_cnn.add(keras.layers.Embedding(input_dim = top_words + 1, \n",
    "                           output_dim = embedding_dim, \n",
    "                           input_length = max_length))\n",
    "\n",
    "# add 1 Conv1D layer\n",
    "model_cnn.add(keras.layers.Conv1D(filters = 32, kernel_size = 3))\n",
    "\n",
    "# add 1D max pooling layer\n",
    "model_cnn.add(keras.layers.MaxPooling1D(pool_size = 2, strides = 2))\n",
    "\n",
    "# flatten\n",
    "model_cnn.add(keras.layers.Flatten())\n",
    "\n",
    "# add 3 dense hidden layers with 50 ReLUs each\n",
    "model_cnn.add(keras.layers.Dropout(0.2))\n",
    "model_cnn.add(keras.layers.Dense(50, activation = 'relu'))\n",
    "model_cnn.add(keras.layers.Dropout(0.5))\n",
    "model_cnn.add(keras.layers.Dense(50, activation = 'relu'))\n",
    "model_cnn.add(keras.layers.Dropout(0.5))\n",
    "model_cnn.add(keras.layers.Dense(50, activation = 'relu'))\n",
    "\n",
    "# add 1 output layer with sigmoid function\n",
    "model_cnn.add(keras.layers.Dense(1, activation = 'sigmoid'))\n",
    "\n",
    "model_cnn.summary()"
   ]
  },
  {
   "cell_type": "code",
   "execution_count": 33,
   "id": "6abb236e",
   "metadata": {},
   "outputs": [
    {
     "name": "stdout",
     "output_type": "stream",
     "text": [
      "Epoch 1/2\n",
      "140/140 [==============================] - 1s 5ms/step - loss: 0.6971 - accuracy: 0.5086\n",
      "Epoch 2/2\n",
      "140/140 [==============================] - 1s 5ms/step - loss: 0.6877 - accuracy: 0.5314\n"
     ]
    },
    {
     "data": {
      "text/plain": [
       "<keras.callbacks.History at 0x7fad199d30a0>"
      ]
     },
     "execution_count": 33,
     "metadata": {},
     "output_type": "execute_result"
    }
   ],
   "source": [
    "# train CNN with ADAM optimizer and binary cross entropy loss\n",
    "model_cnn.compile(optimizer = 'adam', loss = 'binary_crossentropy', metrics = ['accuracy'])\n",
    "model_cnn.fit(X_train, y_train.reshape(-1,1), epochs = 2, batch_size = 10)"
   ]
  },
  {
   "cell_type": "markdown",
   "id": "bf9de4af",
   "metadata": {},
   "source": [
    "> Similarly to normal MLP in (d), using just 2 epochs give poor accuracy. Will try in the next step to see if increasing number of epochs improve performance "
   ]
  },
  {
   "cell_type": "markdown",
   "id": "804efade",
   "metadata": {},
   "source": [
    "#### (e)-ii. Report the train and test accuracies of this model."
   ]
  },
  {
   "cell_type": "code",
   "execution_count": 34,
   "id": "d993cf89",
   "metadata": {},
   "outputs": [
    {
     "name": "stdout",
     "output_type": "stream",
     "text": [
      "CNN - Training Accuracy: 0.7536\n",
      "CNN - Testing Accuracy:  0.5700\n"
     ]
    }
   ],
   "source": [
    "train_loss_cnn, train_accuracy_cnn = model_cnn.evaluate(X_train, y_train.reshape(-1,1), verbose = False)\n",
    "print(\"CNN - Training Accuracy: {:.4f}\".format(train_accuracy_cnn))\n",
    "test_loss_cnn, test_accuracy_cnn = model_cnn.evaluate(X_test, y_test.reshape(-1,1), verbose = False)\n",
    "print(\"CNN - Testing Accuracy:  {:.4f}\".format(test_accuracy_cnn))"
   ]
  },
  {
   "cell_type": "markdown",
   "id": "9101340c",
   "metadata": {},
   "source": [
    "#### try more number of epochs"
   ]
  },
  {
   "cell_type": "code",
   "execution_count": 35,
   "id": "b619cec9",
   "metadata": {},
   "outputs": [],
   "source": [
    "model_cnn_full = keras.models.Sequential()\n",
    "\n",
    "# word embedding\n",
    "model_cnn_full.add(keras.layers.Embedding(input_dim = top_words + 1, \n",
    "                           output_dim = embedding_dim, \n",
    "                           input_length = max_length))\n",
    "\n",
    "# add 1 Conv1D layer\n",
    "model_cnn_full.add(keras.layers.Conv1D(filters = 32, kernel_size = 3))\n",
    "\n",
    "# add 1D max pooling layer\n",
    "model_cnn_full.add(keras.layers.MaxPooling1D(pool_size = 2, strides = 2))\n",
    "\n",
    "# flatten\n",
    "model_cnn_full.add(keras.layers.Flatten())\n",
    "\n",
    "# add 3 dense hidden layers with 50 ReLUs each\n",
    "model_cnn_full.add(keras.layers.Dropout(0.2))\n",
    "model_cnn_full.add(keras.layers.Dense(50, activation = 'relu'))\n",
    "model_cnn_full.add(keras.layers.Dropout(0.5))\n",
    "model_cnn_full.add(keras.layers.Dense(50, activation = 'relu'))\n",
    "model_cnn_full.add(keras.layers.Dropout(0.5))\n",
    "model_cnn_full.add(keras.layers.Dense(50, activation = 'relu'))\n",
    "\n",
    "# add 1 output layer with sigmoid function\n",
    "model_cnn_full.add(keras.layers.Dense(1, activation = 'sigmoid'))"
   ]
  },
  {
   "cell_type": "code",
   "execution_count": 36,
   "id": "590b4230",
   "metadata": {},
   "outputs": [
    {
     "name": "stdout",
     "output_type": "stream",
     "text": [
      "Epoch 1/30\n",
      "140/140 [==============================] - 1s 4ms/step - loss: 0.0028 - accuracy: 0.9993\n",
      "Epoch 2/30\n",
      "140/140 [==============================] - 1s 5ms/step - loss: 3.1510e-04 - accuracy: 1.0000\n",
      "Epoch 3/30\n",
      "140/140 [==============================] - 1s 4ms/step - loss: 6.4898e-04 - accuracy: 0.9993\n",
      "Epoch 4/30\n",
      "140/140 [==============================] - 1s 5ms/step - loss: 2.5805e-05 - accuracy: 1.0000\n",
      "Epoch 5/30\n",
      "140/140 [==============================] - 1s 5ms/step - loss: 2.1335e-04 - accuracy: 1.0000\n",
      "Epoch 6/30\n",
      "140/140 [==============================] - 1s 5ms/step - loss: 1.0995e-04 - accuracy: 1.0000\n",
      "Epoch 7/30\n",
      "140/140 [==============================] - 1s 5ms/step - loss: 0.0052 - accuracy: 0.9979\n",
      "Epoch 8/30\n",
      "140/140 [==============================] - 1s 5ms/step - loss: 0.0058 - accuracy: 0.9986\n",
      "Epoch 9/30\n",
      "140/140 [==============================] - 1s 5ms/step - loss: 0.0025 - accuracy: 0.9986\n",
      "Epoch 10/30\n",
      "140/140 [==============================] - 1s 5ms/step - loss: 0.0248 - accuracy: 0.9957\n",
      "Epoch 11/30\n",
      "140/140 [==============================] - 1s 5ms/step - loss: 0.0031 - accuracy: 0.9993\n",
      "Epoch 12/30\n",
      "140/140 [==============================] - 1s 5ms/step - loss: 0.0044 - accuracy: 0.9979\n",
      "Epoch 13/30\n",
      "140/140 [==============================] - 1s 5ms/step - loss: 8.4007e-04 - accuracy: 1.0000\n",
      "Epoch 14/30\n",
      "140/140 [==============================] - 1s 5ms/step - loss: 0.0035 - accuracy: 0.9986\n",
      "Epoch 15/30\n",
      "140/140 [==============================] - 1s 5ms/step - loss: 2.4253e-04 - accuracy: 1.0000\n",
      "Epoch 16/30\n",
      "140/140 [==============================] - 1s 5ms/step - loss: 3.7471e-04 - accuracy: 1.0000\n",
      "Epoch 17/30\n",
      "140/140 [==============================] - 1s 5ms/step - loss: 3.9959e-04 - accuracy: 1.0000\n",
      "Epoch 18/30\n",
      "140/140 [==============================] - 1s 5ms/step - loss: 1.2808e-04 - accuracy: 1.0000\n",
      "Epoch 19/30\n",
      "140/140 [==============================] - 1s 5ms/step - loss: 4.2094e-05 - accuracy: 1.0000\n",
      "Epoch 20/30\n",
      "140/140 [==============================] - 1s 5ms/step - loss: 1.1169e-04 - accuracy: 1.0000\n",
      "Epoch 21/30\n",
      "140/140 [==============================] - 1s 5ms/step - loss: 5.8506e-05 - accuracy: 1.0000\n",
      "Epoch 22/30\n",
      "140/140 [==============================] - 1s 6ms/step - loss: 2.8457e-05 - accuracy: 1.0000\n",
      "Epoch 23/30\n",
      "140/140 [==============================] - 1s 6ms/step - loss: 5.4848e-05 - accuracy: 1.0000\n",
      "Epoch 24/30\n",
      "140/140 [==============================] - 1s 5ms/step - loss: 3.9407e-05 - accuracy: 1.0000\n",
      "Epoch 25/30\n",
      "140/140 [==============================] - 1s 5ms/step - loss: 7.2677e-05 - accuracy: 1.0000\n",
      "Epoch 26/30\n",
      "140/140 [==============================] - 1s 5ms/step - loss: 9.3300e-05 - accuracy: 1.0000\n",
      "Epoch 27/30\n",
      "140/140 [==============================] - 1s 5ms/step - loss: 2.4078e-05 - accuracy: 1.0000\n",
      "Epoch 28/30\n",
      "140/140 [==============================] - 1s 5ms/step - loss: 5.7406e-06 - accuracy: 1.0000\n",
      "Epoch 29/30\n",
      "140/140 [==============================] - 1s 5ms/step - loss: 1.1972e-04 - accuracy: 1.0000\n",
      "Epoch 30/30\n",
      "140/140 [==============================] - 1s 5ms/step - loss: 1.9572e-05 - accuracy: 1.0000\n"
     ]
    }
   ],
   "source": [
    "# train MLP with ADAM optimizer and binary cross entropy loss\n",
    "model_cnn_full.compile(optimizer = 'adam', loss = 'binary_crossentropy', metrics = ['accuracy'])\n",
    "results_cnn = model_mlp_full.fit(X_train, y_train.reshape(-1,1), epochs = 30, batch_size = 10)"
   ]
  },
  {
   "cell_type": "code",
   "execution_count": 37,
   "id": "dedfea1b",
   "metadata": {},
   "outputs": [
    {
     "data": {
      "image/png": "[encoded data removed]",
      "text/plain": [
       "<Figure size 432x288 with 1 Axes>"
      ]
     },
     "metadata": {
      "needs_background": "light"
     },
     "output_type": "display_data"
    }
   ],
   "source": [
    "# plot training loss vs epochs\n",
    "\n",
    "training_loss_cnn = results_mlp.history['loss']\n",
    "epochs_cnn = range(1, len(training_loss_cnn) + 1)\n",
    "\n",
    "plt.plot(epochs_cnn, training_loss_cnn, 'r')\n",
    "plt.title('Training loss - CNN')\n",
    "plt.show()"
   ]
  },
  {
   "cell_type": "markdown",
   "id": "2ee4c08f",
   "metadata": {},
   "source": [
    "> It can be seen from the curve that the elbow is around 5 epochs where training error almost reaches 0. Will use 5 epochs to retrain the model"
   ]
  },
  {
   "cell_type": "markdown",
   "id": "fb9453ad",
   "metadata": {},
   "source": [
    "#### train the model again with 5 epochs"
   ]
  },
  {
   "cell_type": "code",
   "execution_count": 38,
   "id": "d84e7018",
   "metadata": {},
   "outputs": [],
   "source": [
    "model_cnn_best = keras.models.Sequential()\n",
    "\n",
    "# word embedding\n",
    "model_cnn_best.add(keras.layers.Embedding(input_dim = top_words + 1, \n",
    "                           output_dim = embedding_dim, \n",
    "                           input_length = max_length))\n",
    "\n",
    "# add 1 Conv1D layer\n",
    "model_cnn_best.add(keras.layers.Conv1D(filters = 32, kernel_size = 3))\n",
    "\n",
    "# add 1D max pooling layer\n",
    "model_cnn_best.add(keras.layers.MaxPooling1D(pool_size = 2, strides = 2))\n",
    "\n",
    "# flatten\n",
    "model_cnn_best.add(keras.layers.Flatten())\n",
    "\n",
    "# add 3 dense hidden layers with 50 ReLUs each\n",
    "model_cnn_best.add(keras.layers.Dropout(0.2))\n",
    "model_cnn_best.add(keras.layers.Dense(50, activation = 'relu'))\n",
    "model_cnn_best.add(keras.layers.Dropout(0.5))\n",
    "model_cnn_best.add(keras.layers.Dense(50, activation = 'relu'))\n",
    "model_cnn_best.add(keras.layers.Dropout(0.5))\n",
    "model_cnn_best.add(keras.layers.Dense(50, activation = 'relu'))\n",
    "\n",
    "# add 1 output layer with sigmoid function\n",
    "model_cnn_best.add(keras.layers.Dense(1, activation = 'sigmoid'))"
   ]
  },
  {
   "cell_type": "code",
   "execution_count": 39,
   "id": "68e6bc3f",
   "metadata": {},
   "outputs": [
    {
     "name": "stdout",
     "output_type": "stream",
     "text": [
      "Epoch 1/5\n",
      "140/140 [==============================] - 1s 6ms/step - loss: 0.6955 - accuracy: 0.5043\n",
      "Epoch 2/5\n",
      "140/140 [==============================] - 1s 6ms/step - loss: 0.6846 - accuracy: 0.5707\n",
      "Epoch 3/5\n",
      "140/140 [==============================] - 1s 5ms/step - loss: 0.4624 - accuracy: 0.7821\n",
      "Epoch 4/5\n",
      "140/140 [==============================] - 1s 6ms/step - loss: 0.1408 - accuracy: 0.9579\n",
      "Epoch 5/5\n",
      "140/140 [==============================] - 1s 6ms/step - loss: 0.0313 - accuracy: 0.9893\n"
     ]
    },
    {
     "data": {
      "text/plain": [
       "<keras.callbacks.History at 0x7fad17466e50>"
      ]
     },
     "execution_count": 39,
     "metadata": {},
     "output_type": "execute_result"
    }
   ],
   "source": [
    "# train CNN with ADAM optimizer and binary cross entropy loss\n",
    "model_cnn_best.compile(optimizer = 'adam', loss = 'binary_crossentropy', metrics = ['accuracy'])\n",
    "model_cnn_best.fit(X_train, y_train.reshape(-1,1), epochs = 5, batch_size = 10)"
   ]
  },
  {
   "cell_type": "code",
   "execution_count": 40,
   "id": "5b3adcda",
   "metadata": {},
   "outputs": [
    {
     "name": "stdout",
     "output_type": "stream",
     "text": [
      "Best > CNN - Training Accuracy: 1.0000\n",
      "Best > CNN - Testing Accuracy:  0.8083\n"
     ]
    }
   ],
   "source": [
    "train_loss_cnn, train_accuracy_cnn = model_cnn_best.evaluate(X_train, y_train.reshape(-1,1), verbose = False)\n",
    "print(\"Best > CNN - Training Accuracy: {:.4f}\".format(train_accuracy_cnn))\n",
    "test_loss_cnn, test_accuracy_cnn = model_cnn_best.evaluate(X_test, y_test.reshape(-1,1), verbose = False)\n",
    "print(\"Best > CNN - Testing Accuracy:  {:.4f}\".format(test_accuracy_cnn))"
   ]
  },
  {
   "cell_type": "markdown",
   "id": "aa6aeab7",
   "metadata": {},
   "source": [
    "> Similarly to MLP, it can be seen that increasing number of epochs improved testing accuracy to 80.8%"
   ]
  },
  {
   "cell_type": "markdown",
   "id": "56e44de4",
   "metadata": {},
   "source": [
    "## (f) Long Short-Term Memory Recurrent Neural Network\n",
    "The structure of the LSTM we are going to use is shown in the following figure"
   ]
  },
  {
   "cell_type": "markdown",
   "id": "7af13ba2",
   "metadata": {},
   "source": [
    "#### (f)-i. Each word is represented to LSTM as a vector of 32 elements and the LSTM is followed by a dense layer of 256 ReLUs. Use a dropout rate of 0.2 for both LSTM and the dense layer. Train the model using 10-50 epochs and batch size of 10."
   ]
  },
  {
   "cell_type": "code",
   "execution_count": 41,
   "id": "47b6b5a1",
   "metadata": {},
   "outputs": [
    {
     "name": "stdout",
     "output_type": "stream",
     "text": [
      "Model: \"sequential_6\"\n",
      "_________________________________________________________________\n",
      " Layer (type)                Output Shape              Param #   \n",
      "=================================================================\n",
      " embedding_6 (Embedding)     (None, 398, 32)           160032    \n",
      "                                                                 \n",
      " lstm (LSTM)                 (None, 398, 32)           8320      \n",
      "                                                                 \n",
      " flatten_6 (Flatten)         (None, 12736)             0         \n",
      "                                                                 \n",
      " dropout_18 (Dropout)        (None, 12736)             0         \n",
      "                                                                 \n",
      " dense_24 (Dense)            (None, 256)               3260672   \n",
      "                                                                 \n",
      " dense_25 (Dense)            (None, 1)                 257       \n",
      "                                                                 \n",
      "=================================================================\n",
      "Total params: 3,429,281\n",
      "Trainable params: 3,429,281\n",
      "Non-trainable params: 0\n",
      "_________________________________________________________________\n"
     ]
    }
   ],
   "source": [
    "model_lstm = keras.models.Sequential()\n",
    "\n",
    "# word embedding\n",
    "model_lstm.add(keras.layers.Embedding(input_dim = top_words + 1, \n",
    "                           output_dim = embedding_dim, \n",
    "                           input_length = max_length))\n",
    "\n",
    "# add LSTM\n",
    "model_lstm.add(keras.layers.LSTM(units = 32, dropout = 0.2, return_sequences = True))\n",
    "\n",
    "model_lstm.add(keras.layers.Flatten())\n",
    "\n",
    "# add 3 dense hidden layers with 50 ReLUs each\n",
    "model_lstm.add(keras.layers.Dropout(0.2))\n",
    "model_lstm.add(keras.layers.Dense(256, activation = 'relu'))\n",
    "\n",
    "# add 1 output layer with sigmoid function\n",
    "model_lstm.add(keras.layers.Dense(1, activation = 'sigmoid'))\n",
    "\n",
    "model_lstm.summary()"
   ]
  },
  {
   "cell_type": "code",
   "execution_count": 42,
   "id": "c1b9baaf",
   "metadata": {},
   "outputs": [
    {
     "name": "stdout",
     "output_type": "stream",
     "text": [
      "Epoch 1/10\n",
      "140/140 [==============================] - 11s 71ms/step - loss: 0.6505 - accuracy: 0.5914\n",
      "Epoch 2/10\n",
      "140/140 [==============================] - 10s 68ms/step - loss: 0.2978 - accuracy: 0.8786\n",
      "Epoch 3/10\n",
      "140/140 [==============================] - 9s 66ms/step - loss: 0.0597 - accuracy: 0.9793\n",
      "Epoch 4/10\n",
      "140/140 [==============================] - 9s 63ms/step - loss: 0.0080 - accuracy: 0.9964\n",
      "Epoch 5/10\n",
      "140/140 [==============================] - 9s 64ms/step - loss: 0.0021 - accuracy: 1.0000\n",
      "Epoch 6/10\n",
      "140/140 [==============================] - 10s 69ms/step - loss: 0.0103 - accuracy: 0.9964\n",
      "Epoch 7/10\n",
      "140/140 [==============================] - 10s 68ms/step - loss: 0.0027 - accuracy: 1.0000\n",
      "Epoch 8/10\n",
      "140/140 [==============================] - 10s 73ms/step - loss: 0.0038 - accuracy: 0.9986\n",
      "Epoch 9/10\n",
      "140/140 [==============================] - 9s 65ms/step - loss: 4.2714e-04 - accuracy: 1.0000\n",
      "Epoch 10/10\n",
      "140/140 [==============================] - 9s 63ms/step - loss: 5.5753e-04 - accuracy: 1.0000\n"
     ]
    },
    {
     "data": {
      "text/plain": [
       "<keras.callbacks.History at 0x7fad17fa3910>"
      ]
     },
     "execution_count": 42,
     "metadata": {},
     "output_type": "execute_result"
    }
   ],
   "source": [
    "# train LSTM with ADAM optimizer and binary cross entropy loss\n",
    "model_lstm.compile(optimizer = 'adam', loss = 'binary_crossentropy', metrics = ['accuracy'])\n",
    "model_lstm.fit(X_train, y_train.reshape(-1,1), epochs = 10, batch_size = 10)"
   ]
  },
  {
   "cell_type": "markdown",
   "id": "608ebac3",
   "metadata": {},
   "source": [
    "> It can be seen that using just 10 epochs already reach the training accuracy of 100%. Therefore, 10 epochs will be used for this LSTM model as there's a risk of overfitting if the number of epochs is increased further"
   ]
  },
  {
   "cell_type": "markdown",
   "id": "f6397605",
   "metadata": {},
   "source": [
    "#### (f)-ii. Report the train and test accuracies of this model."
   ]
  },
  {
   "cell_type": "code",
   "execution_count": 43,
   "id": "ce94cdd5",
   "metadata": {},
   "outputs": [
    {
     "name": "stdout",
     "output_type": "stream",
     "text": [
      "LSTM - Training Accuracy: 1.0000\n",
      "LSTM - Testing Accuracy:  0.8200\n"
     ]
    }
   ],
   "source": [
    "train_loss_lstm, train_accuracy_lstm = model_lstm.evaluate(X_train, y_train.reshape(-1,1), verbose = False)\n",
    "print(\"LSTM - Training Accuracy: {:.4f}\".format(train_accuracy_lstm))\n",
    "test_loss_lstm, test_accuracy_lstm = model_lstm.evaluate(X_test, y_test.reshape(-1,1), verbose = False)\n",
    "print(\"LSTM - Testing Accuracy:  {:.4f}\".format(test_accuracy_lstm))"
   ]
  },
  {
   "cell_type": "markdown",
   "id": "2ca17e15",
   "metadata": {},
   "source": [
    "> <b>Performance Summary</b>\n",
    "> - Training MLP for this sentiment analysis, the best accuracy achieved (using 5 epochs) is at 71.5%\n",
    "> - With CNN and LSTM layers included, the testing accuracy improved from the previous MLP. CNN is able to achieved 80.8% test accuracy while LSTM is able to achieve 82.0% accuracy."
   ]
  }
 ],
 "metadata": {
  "kernelspec": {
   "display_name": "Python 3",
   "language": "python",
   "name": "python3"
  },
  "language_info": {
   "codemirror_mode": {
    "name": "ipython",
    "version": 3
   },
   "file_extension": ".py",
   "mimetype": "text/x-python",
   "name": "python",
   "nbconvert_exporter": "python",
   "pygments_lexer": "ipython3",
   "version": "3.8.8"
  }
 },
 "nbformat": 4,
 "nbformat_minor": 5
}
