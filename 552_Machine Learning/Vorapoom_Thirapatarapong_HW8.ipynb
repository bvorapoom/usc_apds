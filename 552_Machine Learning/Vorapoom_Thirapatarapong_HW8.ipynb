{
 "cells": [
  {
   "cell_type": "markdown",
   "id": "b255b1e6",
   "metadata": {},
   "source": [
    "<center><h1>DSCI-552 HOMEWORK 8</h1>\n",
    "<br>\n",
    "<font size=\"3\">Name: Vorapoom Thirapatarapong</font>\n",
    "<br>\n",
    "<font size=\"3\">USC ID: 4397330150 Github Username: bvorapoom</font></center>"
   ]
  },
  {
   "cell_type": "markdown",
   "id": "81cceb8c",
   "metadata": {},
   "source": [
    "#### import packages"
   ]
  },
  {
   "cell_type": "code",
   "execution_count": 1,
   "id": "a54198d7",
   "metadata": {},
   "outputs": [],
   "source": [
    "import pandas as pd\n",
    "import numpy as np\n",
    "import matplotlib.pyplot as plt\n",
    "import seaborn as sns\n",
    "from sklearn.model_selection import train_test_split, GridSearchCV, StratifiedKFold\n",
    "from sklearn.preprocessing import StandardScaler\n",
    "from sklearn.svm import SVC, LinearSVC\n",
    "from sklearn.metrics import accuracy_score, roc_auc_score, roc_curve, f1_score, precision_score, recall_score, confusion_matrix, calinski_harabasz_score\n",
    "from sklearn.calibration import CalibratedClassifierCV\n",
    "from sklearn.cluster import KMeans, SpectralClustering\n",
    "from scipy.special import softmax\n",
    "from sklearn.exceptions import FitFailedWarning\n",
    "import warnings\n",
    "from collections import Counter\n",
    "from sklearn.neighbors import KNeighborsClassifier\n"
   ]
  },
  {
   "cell_type": "markdown",
   "id": "6941ad03",
   "metadata": {},
   "source": [
    "# 1. Supervised, Semi-Supervised, and Unsupervised Learning"
   ]
  },
  {
   "cell_type": "markdown",
   "id": "6a63f47c",
   "metadata": {},
   "source": [
    "#### 1-(a). Download the Breast Cancer Wisconsin (Diagnostic) Data Set from: https://archive.ics.uci.edu/ml/datasets/Breast+Cancer+Wisconsin+ %28Diagnostic%29. Download the data in https://archive.ics.uci.edu/ml/ machine-learning-databases/breast-cancer-wisconsin/wdbc.data, which has IDs, classes (Benign=B, Malignant=M), and 30 attributes. This data has two output classes."
   ]
  },
  {
   "cell_type": "code",
   "execution_count": 2,
   "id": "19e08e1e",
   "metadata": {},
   "outputs": [],
   "source": [
    "# column names for dataset\n",
    "col_name_wdbc = ['id', 'class']\n",
    "temp_col = ['radius', 'texture', 'perimeter', 'area', 'smoothness', 'compactness', 'concavity', \\\n",
    "            'concave_points', 'symmetry', 'fractal_dimension']\n",
    "col_name_wdbc = col_name_wdbc + [col + '_' + str(i) for i in range(1, 4) for col in temp_col]"
   ]
  },
  {
   "cell_type": "code",
   "execution_count": 3,
   "id": "37d4fda0",
   "metadata": {},
   "outputs": [
    {
     "data": {
      "text/html": [
       "<div>\n",
       "<style scoped>\n",
       "    .dataframe tbody tr th:only-of-type {\n",
       "        vertical-align: middle;\n",
       "    }\n",
       "\n",
       "    .dataframe tbody tr th {\n",
       "        vertical-align: top;\n",
       "    }\n",
       "\n",
       "    .dataframe thead th {\n",
       "        text-align: right;\n",
       "    }\n",
       "</style>\n",
       "<table border=\"1\" class=\"dataframe\">\n",
       "  <thead>\n",
       "    <tr style=\"text-align: right;\">\n",
       "      <th></th>\n",
       "      <th>id</th>\n",
       "      <th>class</th>\n",
       "      <th>radius_1</th>\n",
       "      <th>texture_1</th>\n",
       "      <th>perimeter_1</th>\n",
       "      <th>area_1</th>\n",
       "      <th>smoothness_1</th>\n",
       "      <th>compactness_1</th>\n",
       "      <th>concavity_1</th>\n",
       "      <th>concave_points_1</th>\n",
       "      <th>...</th>\n",
       "      <th>radius_3</th>\n",
       "      <th>texture_3</th>\n",
       "      <th>perimeter_3</th>\n",
       "      <th>area_3</th>\n",
       "      <th>smoothness_3</th>\n",
       "      <th>compactness_3</th>\n",
       "      <th>concavity_3</th>\n",
       "      <th>concave_points_3</th>\n",
       "      <th>symmetry_3</th>\n",
       "      <th>fractal_dimension_3</th>\n",
       "    </tr>\n",
       "  </thead>\n",
       "  <tbody>\n",
       "    <tr>\n",
       "      <th>0</th>\n",
       "      <td>842302</td>\n",
       "      <td>M</td>\n",
       "      <td>17.99</td>\n",
       "      <td>10.38</td>\n",
       "      <td>122.8</td>\n",
       "      <td>1001</td>\n",
       "      <td>0.1184</td>\n",
       "      <td>0.2776</td>\n",
       "      <td>0.3001</td>\n",
       "      <td>0.1471</td>\n",
       "      <td>...</td>\n",
       "      <td>25.38</td>\n",
       "      <td>17.33</td>\n",
       "      <td>184.6</td>\n",
       "      <td>2019</td>\n",
       "      <td>0.1622</td>\n",
       "      <td>0.6656</td>\n",
       "      <td>0.7119</td>\n",
       "      <td>0.2654</td>\n",
       "      <td>0.4601</td>\n",
       "      <td>0.1189</td>\n",
       "    </tr>\n",
       "    <tr>\n",
       "      <th>1</th>\n",
       "      <td>842517</td>\n",
       "      <td>M</td>\n",
       "      <td>20.57</td>\n",
       "      <td>17.77</td>\n",
       "      <td>132.9</td>\n",
       "      <td>1326</td>\n",
       "      <td>0.08474</td>\n",
       "      <td>0.07864</td>\n",
       "      <td>0.0869</td>\n",
       "      <td>0.07017</td>\n",
       "      <td>...</td>\n",
       "      <td>24.99</td>\n",
       "      <td>23.41</td>\n",
       "      <td>158.8</td>\n",
       "      <td>1956</td>\n",
       "      <td>0.1238</td>\n",
       "      <td>0.1866</td>\n",
       "      <td>0.2416</td>\n",
       "      <td>0.186</td>\n",
       "      <td>0.275</td>\n",
       "      <td>0.08902</td>\n",
       "    </tr>\n",
       "    <tr>\n",
       "      <th>2</th>\n",
       "      <td>84300903</td>\n",
       "      <td>M</td>\n",
       "      <td>19.69</td>\n",
       "      <td>21.25</td>\n",
       "      <td>130</td>\n",
       "      <td>1203</td>\n",
       "      <td>0.1096</td>\n",
       "      <td>0.1599</td>\n",
       "      <td>0.1974</td>\n",
       "      <td>0.1279</td>\n",
       "      <td>...</td>\n",
       "      <td>23.57</td>\n",
       "      <td>25.53</td>\n",
       "      <td>152.5</td>\n",
       "      <td>1709</td>\n",
       "      <td>0.1444</td>\n",
       "      <td>0.4245</td>\n",
       "      <td>0.4504</td>\n",
       "      <td>0.243</td>\n",
       "      <td>0.3613</td>\n",
       "      <td>0.08758</td>\n",
       "    </tr>\n",
       "    <tr>\n",
       "      <th>3</th>\n",
       "      <td>84348301</td>\n",
       "      <td>M</td>\n",
       "      <td>11.42</td>\n",
       "      <td>20.38</td>\n",
       "      <td>77.58</td>\n",
       "      <td>386.1</td>\n",
       "      <td>0.1425</td>\n",
       "      <td>0.2839</td>\n",
       "      <td>0.2414</td>\n",
       "      <td>0.1052</td>\n",
       "      <td>...</td>\n",
       "      <td>14.91</td>\n",
       "      <td>26.5</td>\n",
       "      <td>98.87</td>\n",
       "      <td>567.7</td>\n",
       "      <td>0.2098</td>\n",
       "      <td>0.8663</td>\n",
       "      <td>0.6869</td>\n",
       "      <td>0.2575</td>\n",
       "      <td>0.6638</td>\n",
       "      <td>0.173</td>\n",
       "    </tr>\n",
       "    <tr>\n",
       "      <th>4</th>\n",
       "      <td>84358402</td>\n",
       "      <td>M</td>\n",
       "      <td>20.29</td>\n",
       "      <td>14.34</td>\n",
       "      <td>135.1</td>\n",
       "      <td>1297</td>\n",
       "      <td>0.1003</td>\n",
       "      <td>0.1328</td>\n",
       "      <td>0.198</td>\n",
       "      <td>0.1043</td>\n",
       "      <td>...</td>\n",
       "      <td>22.54</td>\n",
       "      <td>16.67</td>\n",
       "      <td>152.2</td>\n",
       "      <td>1575</td>\n",
       "      <td>0.1374</td>\n",
       "      <td>0.205</td>\n",
       "      <td>0.4</td>\n",
       "      <td>0.1625</td>\n",
       "      <td>0.2364</td>\n",
       "      <td>0.07678</td>\n",
       "    </tr>\n",
       "    <tr>\n",
       "      <th>...</th>\n",
       "      <td>...</td>\n",
       "      <td>...</td>\n",
       "      <td>...</td>\n",
       "      <td>...</td>\n",
       "      <td>...</td>\n",
       "      <td>...</td>\n",
       "      <td>...</td>\n",
       "      <td>...</td>\n",
       "      <td>...</td>\n",
       "      <td>...</td>\n",
       "      <td>...</td>\n",
       "      <td>...</td>\n",
       "      <td>...</td>\n",
       "      <td>...</td>\n",
       "      <td>...</td>\n",
       "      <td>...</td>\n",
       "      <td>...</td>\n",
       "      <td>...</td>\n",
       "      <td>...</td>\n",
       "      <td>...</td>\n",
       "      <td>...</td>\n",
       "    </tr>\n",
       "    <tr>\n",
       "      <th>564</th>\n",
       "      <td>926424</td>\n",
       "      <td>M</td>\n",
       "      <td>21.56</td>\n",
       "      <td>22.39</td>\n",
       "      <td>142</td>\n",
       "      <td>1479</td>\n",
       "      <td>0.111</td>\n",
       "      <td>0.1159</td>\n",
       "      <td>0.2439</td>\n",
       "      <td>0.1389</td>\n",
       "      <td>...</td>\n",
       "      <td>25.45</td>\n",
       "      <td>26.4</td>\n",
       "      <td>166.1</td>\n",
       "      <td>2027</td>\n",
       "      <td>0.141</td>\n",
       "      <td>0.2113</td>\n",
       "      <td>0.4107</td>\n",
       "      <td>0.2216</td>\n",
       "      <td>0.206</td>\n",
       "      <td>0.07115</td>\n",
       "    </tr>\n",
       "    <tr>\n",
       "      <th>565</th>\n",
       "      <td>926682</td>\n",
       "      <td>M</td>\n",
       "      <td>20.13</td>\n",
       "      <td>28.25</td>\n",
       "      <td>131.2</td>\n",
       "      <td>1261</td>\n",
       "      <td>0.0978</td>\n",
       "      <td>0.1034</td>\n",
       "      <td>0.144</td>\n",
       "      <td>0.09791</td>\n",
       "      <td>...</td>\n",
       "      <td>23.69</td>\n",
       "      <td>38.25</td>\n",
       "      <td>155</td>\n",
       "      <td>1731</td>\n",
       "      <td>0.1166</td>\n",
       "      <td>0.1922</td>\n",
       "      <td>0.3215</td>\n",
       "      <td>0.1628</td>\n",
       "      <td>0.2572</td>\n",
       "      <td>0.06637</td>\n",
       "    </tr>\n",
       "    <tr>\n",
       "      <th>566</th>\n",
       "      <td>926954</td>\n",
       "      <td>M</td>\n",
       "      <td>16.6</td>\n",
       "      <td>28.08</td>\n",
       "      <td>108.3</td>\n",
       "      <td>858.1</td>\n",
       "      <td>0.08455</td>\n",
       "      <td>0.1023</td>\n",
       "      <td>0.09251</td>\n",
       "      <td>0.05302</td>\n",
       "      <td>...</td>\n",
       "      <td>18.98</td>\n",
       "      <td>34.12</td>\n",
       "      <td>126.7</td>\n",
       "      <td>1124</td>\n",
       "      <td>0.1139</td>\n",
       "      <td>0.3094</td>\n",
       "      <td>0.3403</td>\n",
       "      <td>0.1418</td>\n",
       "      <td>0.2218</td>\n",
       "      <td>0.0782</td>\n",
       "    </tr>\n",
       "    <tr>\n",
       "      <th>567</th>\n",
       "      <td>927241</td>\n",
       "      <td>M</td>\n",
       "      <td>20.6</td>\n",
       "      <td>29.33</td>\n",
       "      <td>140.1</td>\n",
       "      <td>1265</td>\n",
       "      <td>0.1178</td>\n",
       "      <td>0.277</td>\n",
       "      <td>0.3514</td>\n",
       "      <td>0.152</td>\n",
       "      <td>...</td>\n",
       "      <td>25.74</td>\n",
       "      <td>39.42</td>\n",
       "      <td>184.6</td>\n",
       "      <td>1821</td>\n",
       "      <td>0.165</td>\n",
       "      <td>0.8681</td>\n",
       "      <td>0.9387</td>\n",
       "      <td>0.265</td>\n",
       "      <td>0.4087</td>\n",
       "      <td>0.124</td>\n",
       "    </tr>\n",
       "    <tr>\n",
       "      <th>568</th>\n",
       "      <td>92751</td>\n",
       "      <td>B</td>\n",
       "      <td>7.76</td>\n",
       "      <td>24.54</td>\n",
       "      <td>47.92</td>\n",
       "      <td>181</td>\n",
       "      <td>0.05263</td>\n",
       "      <td>0.04362</td>\n",
       "      <td>0</td>\n",
       "      <td>0</td>\n",
       "      <td>...</td>\n",
       "      <td>9.456</td>\n",
       "      <td>30.37</td>\n",
       "      <td>59.16</td>\n",
       "      <td>268.6</td>\n",
       "      <td>0.08996</td>\n",
       "      <td>0.06444</td>\n",
       "      <td>0</td>\n",
       "      <td>0</td>\n",
       "      <td>0.2871</td>\n",
       "      <td>0.07039</td>\n",
       "    </tr>\n",
       "  </tbody>\n",
       "</table>\n",
       "<p>569 rows × 32 columns</p>\n",
       "</div>"
      ],
      "text/plain": [
       "           id class radius_1 texture_1 perimeter_1 area_1 smoothness_1  \\\n",
       "0      842302     M    17.99     10.38       122.8   1001       0.1184   \n",
       "1      842517     M    20.57     17.77       132.9   1326      0.08474   \n",
       "2    84300903     M    19.69     21.25         130   1203       0.1096   \n",
       "3    84348301     M    11.42     20.38       77.58  386.1       0.1425   \n",
       "4    84358402     M    20.29     14.34       135.1   1297       0.1003   \n",
       "..        ...   ...      ...       ...         ...    ...          ...   \n",
       "564    926424     M    21.56     22.39         142   1479        0.111   \n",
       "565    926682     M    20.13     28.25       131.2   1261       0.0978   \n",
       "566    926954     M     16.6     28.08       108.3  858.1      0.08455   \n",
       "567    927241     M     20.6     29.33       140.1   1265       0.1178   \n",
       "568     92751     B     7.76     24.54       47.92    181      0.05263   \n",
       "\n",
       "    compactness_1 concavity_1 concave_points_1  ... radius_3 texture_3  \\\n",
       "0          0.2776      0.3001           0.1471  ...    25.38     17.33   \n",
       "1         0.07864      0.0869          0.07017  ...    24.99     23.41   \n",
       "2          0.1599      0.1974           0.1279  ...    23.57     25.53   \n",
       "3          0.2839      0.2414           0.1052  ...    14.91      26.5   \n",
       "4          0.1328       0.198           0.1043  ...    22.54     16.67   \n",
       "..            ...         ...              ...  ...      ...       ...   \n",
       "564        0.1159      0.2439           0.1389  ...    25.45      26.4   \n",
       "565        0.1034       0.144          0.09791  ...    23.69     38.25   \n",
       "566        0.1023     0.09251          0.05302  ...    18.98     34.12   \n",
       "567         0.277      0.3514            0.152  ...    25.74     39.42   \n",
       "568       0.04362           0                0  ...    9.456     30.37   \n",
       "\n",
       "    perimeter_3 area_3 smoothness_3 compactness_3 concavity_3  \\\n",
       "0         184.6   2019       0.1622        0.6656      0.7119   \n",
       "1         158.8   1956       0.1238        0.1866      0.2416   \n",
       "2         152.5   1709       0.1444        0.4245      0.4504   \n",
       "3         98.87  567.7       0.2098        0.8663      0.6869   \n",
       "4         152.2   1575       0.1374         0.205         0.4   \n",
       "..          ...    ...          ...           ...         ...   \n",
       "564       166.1   2027        0.141        0.2113      0.4107   \n",
       "565         155   1731       0.1166        0.1922      0.3215   \n",
       "566       126.7   1124       0.1139        0.3094      0.3403   \n",
       "567       184.6   1821        0.165        0.8681      0.9387   \n",
       "568       59.16  268.6      0.08996       0.06444           0   \n",
       "\n",
       "    concave_points_3 symmetry_3 fractal_dimension_3  \n",
       "0             0.2654     0.4601              0.1189  \n",
       "1              0.186      0.275             0.08902  \n",
       "2              0.243     0.3613             0.08758  \n",
       "3             0.2575     0.6638               0.173  \n",
       "4             0.1625     0.2364             0.07678  \n",
       "..               ...        ...                 ...  \n",
       "564           0.2216      0.206             0.07115  \n",
       "565           0.1628     0.2572             0.06637  \n",
       "566           0.1418     0.2218              0.0782  \n",
       "567            0.265     0.4087               0.124  \n",
       "568                0     0.2871             0.07039  \n",
       "\n",
       "[569 rows x 32 columns]"
      ]
     },
     "metadata": {},
     "output_type": "display_data"
    }
   ],
   "source": [
    "df_wdbc = pd.DataFrame(columns = col_name_wdbc)\n",
    "\n",
    "with open('../data/wdbc.data', 'rb') as f:\n",
    "    temp_file = f.read().decode('utf-8')\n",
    "    temp_file = temp_file.split('\\n')\n",
    "    for line in temp_file:\n",
    "        if line == '':\n",
    "            continue\n",
    "        temp_vals = line.split(',')\n",
    "        df_wdbc.loc[len(df_wdbc), :] = temp_vals\n",
    "        \n",
    "display(df_wdbc)"
   ]
  },
  {
   "cell_type": "code",
   "execution_count": 4,
   "id": "1efe44db",
   "metadata": {},
   "outputs": [],
   "source": [
    "# split X and y\n",
    "df_wdbc_X = df_wdbc.iloc[:, 2:]\n",
    "df_wdbc_y = df_wdbc.loc[:, 'class'].replace({'B' : 0, 'M' : 1})"
   ]
  },
  {
   "cell_type": "markdown",
   "id": "f324d8ac",
   "metadata": {},
   "source": [
    "### 1-(b). Monte-Carlo Simulation: Repeat the following procedures for supervised, un- supervised, and semi-supervised learning M = 30 times, and use randomly se- lected train and test data (make sure you use 20% of both the positve and nega- tive classes as the test set). Then compare the average scores (accuracy, precision, recall, F1-score, and AUC) that you obtain from each algorithm."
   ]
  },
  {
   "cell_type": "markdown",
   "id": "33359954",
   "metadata": {},
   "source": [
    "#### 1-(b)-i. Supervised Learning: Train an L1-penalized SVM to classify the data. Use 5 fold cross validation to choose the penalty parameter. Use normalized data. Report the average accuracy, precision, recall, F1-score, and AUC, for both training and test sets over your M runs. Plot the ROC and report the confusion matrix for training and testing in one of the runs."
   ]
  },
  {
   "cell_type": "code",
   "execution_count": 5,
   "id": "7f88bd72",
   "metadata": {},
   "outputs": [],
   "source": [
    "df_result_sup = pd.DataFrame(dtype = float, \\\n",
    "                             columns = ['iteration', 'train_test', 'accuracy', 'precision', 'recall', 'f1', 'auc'])\n"
   ]
  },
  {
   "cell_type": "code",
   "execution_count": 6,
   "id": "d8f88611",
   "metadata": {},
   "outputs": [
    {
     "name": "stdout",
     "output_type": "stream",
     "text": [
      "iteration: 5\n",
      "iteration: 10\n",
      "iteration: 15\n",
      "iteration: 20\n",
      "iteration: 25\n",
      "iteration: 30\n"
     ]
    }
   ],
   "source": [
    "# train L1-penalized SVM 30 times\n",
    "for i in range(1, 31):\n",
    "    \n",
    "    # check progress\n",
    "    if i % 5 == 0:\n",
    "        print('iteration:', i)\n",
    "    \n",
    "    # split train/test - test size = 20% stratified\n",
    "    df_wdbc_X_train, df_wdbc_X_test, df_wdbc_y_train, df_wdbc_y_test = train_test_split(df_wdbc_X, df_wdbc_y, \\\n",
    "                                                        test_size = 0.2, random_state = i, stratify = df_wdbc_y)\n",
    "    \n",
    "    # standardize features\n",
    "    scaler = StandardScaler()\n",
    "    df_wdbc_X_train_std = scaler.fit_transform(df_wdbc_X_train)\n",
    "    df_wdbc_X_test_std = scaler.transform(df_wdbc_X_test)\n",
    "    \n",
    "    # train SVM - L1 penalty - using 5 fold CV\n",
    "    params = {'C': [1e-4, 1e-2, 1, 1e2, 1e4]}\n",
    "    cls_svm = LinearSVC(penalty = 'l1',  random_state = 0, dual = False, max_iter = 1e5)\n",
    "    cls_svm_cv = GridSearchCV(cls_svm, params, cv = 5, scoring = 'accuracy')\n",
    "    cls_svm_cv.fit(df_wdbc_X_train_std, df_wdbc_y_train)\n",
    "    \n",
    "    # best SVM from CV\n",
    "    cls_svm_best = CalibratedClassifierCV(cls_svm_cv.best_estimator_).fit(df_wdbc_X_train_std, df_wdbc_y_train)\n",
    "    \n",
    "    # calculate scores - training set\n",
    "    train_acc = cls_svm_best.score(df_wdbc_X_train_std, df_wdbc_y_train)\n",
    "    train_prec = precision_score(df_wdbc_y_train, cls_svm_best.predict(df_wdbc_X_train_std))\n",
    "    train_rec = recall_score(df_wdbc_y_train, cls_svm_best.predict(df_wdbc_X_train_std))\n",
    "    train_f1 = f1_score(df_wdbc_y_train, cls_svm_best.predict(df_wdbc_X_train_std))\n",
    "    train_auc = roc_auc_score(df_wdbc_y_train, cls_svm_best.predict_proba(df_wdbc_X_train_std)[:, 1])\n",
    "    \n",
    "    # calculate scores - testing set\n",
    "    test_acc = cls_svm_best.score(df_wdbc_X_test_std, df_wdbc_y_test)\n",
    "    test_prec = precision_score(df_wdbc_y_test, cls_svm_best.predict(df_wdbc_X_test_std))\n",
    "    test_rec = recall_score(df_wdbc_y_test, cls_svm_best.predict(df_wdbc_X_test_std))\n",
    "    test_f1 = f1_score(df_wdbc_y_test, cls_svm_best.predict(df_wdbc_X_test_std))\n",
    "    test_auc = roc_auc_score(df_wdbc_y_test, cls_svm_best.predict_proba(df_wdbc_X_test_std)[:, 1])\n",
    "    \n",
    "    # appending train/test scores\n",
    "    df_result_sup.loc[len(df_result_sup), :] = [i, 'train', train_acc, train_prec, train_rec, train_f1, train_auc]\n",
    "    df_result_sup.loc[len(df_result_sup), :] = [i, 'test', test_acc, test_prec, test_rec, test_f1, test_auc]\n",
    "    "
   ]
  },
  {
   "cell_type": "code",
   "execution_count": 7,
   "id": "6f36feac",
   "metadata": {},
   "outputs": [
    {
     "data": {
      "text/html": [
       "<div>\n",
       "<style scoped>\n",
       "    .dataframe tbody tr th:only-of-type {\n",
       "        vertical-align: middle;\n",
       "    }\n",
       "\n",
       "    .dataframe tbody tr th {\n",
       "        vertical-align: top;\n",
       "    }\n",
       "\n",
       "    .dataframe thead th {\n",
       "        text-align: right;\n",
       "    }\n",
       "</style>\n",
       "<table border=\"1\" class=\"dataframe\">\n",
       "  <thead>\n",
       "    <tr style=\"text-align: right;\">\n",
       "      <th></th>\n",
       "      <th>accuracy</th>\n",
       "      <th>precision</th>\n",
       "      <th>recall</th>\n",
       "      <th>f1</th>\n",
       "      <th>auc</th>\n",
       "    </tr>\n",
       "    <tr>\n",
       "      <th>train_test</th>\n",
       "      <th></th>\n",
       "      <th></th>\n",
       "      <th></th>\n",
       "      <th></th>\n",
       "      <th></th>\n",
       "    </tr>\n",
       "  </thead>\n",
       "  <tbody>\n",
       "    <tr>\n",
       "      <th>test</th>\n",
       "      <td>0.961696</td>\n",
       "      <td>0.990928</td>\n",
       "      <td>0.904762</td>\n",
       "      <td>0.945293</td>\n",
       "      <td>0.993188</td>\n",
       "    </tr>\n",
       "    <tr>\n",
       "      <th>train</th>\n",
       "      <td>0.975311</td>\n",
       "      <td>0.996862</td>\n",
       "      <td>0.936863</td>\n",
       "      <td>0.965874</td>\n",
       "      <td>0.997662</td>\n",
       "    </tr>\n",
       "  </tbody>\n",
       "</table>\n",
       "</div>"
      ],
      "text/plain": [
       "            accuracy  precision    recall        f1       auc\n",
       "train_test                                                   \n",
       "test        0.961696   0.990928  0.904762  0.945293  0.993188\n",
       "train       0.975311   0.996862  0.936863  0.965874  0.997662"
      ]
     },
     "execution_count": 7,
     "metadata": {},
     "output_type": "execute_result"
    }
   ],
   "source": [
    "# average performance metrics over 30 runs\n",
    "df_result_sup.groupby('train_test')[['accuracy', 'precision', 'recall', 'f1', 'auc']].mean()"
   ]
  },
  {
   "cell_type": "code",
   "execution_count": 8,
   "id": "1ab56948",
   "metadata": {},
   "outputs": [],
   "source": [
    "# function to plot roc curve\n",
    "def plot_roc_curve(cls, X, y, title_name = 'ROC Curve'):\n",
    "    fpr, tpr, thresholds = roc_curve(y, cls.predict_proba(X)[:, 1])\n",
    "    plt.plot(fpr, tpr)\n",
    "    plt.xlabel('False positive rate')\n",
    "    plt.ylabel('True positive rate')\n",
    "    plt.title(title_name)\n",
    "    plt.show()   "
   ]
  },
  {
   "cell_type": "code",
   "execution_count": 9,
   "id": "f0b345c5",
   "metadata": {},
   "outputs": [
    {
     "name": "stdout",
     "output_type": "stream",
     "text": [
      "ROC curve\n"
     ]
    },
    {
     "data": {
      "image/png": "[encoded data removed]",
      "text/plain": [
       "<Figure size 432x288 with 1 Axes>"
      ]
     },
     "metadata": {
      "needs_background": "light"
     },
     "output_type": "display_data"
    },
    {
     "data": {
      "image/png": "[encoded data removed]",
      "text/plain": [
       "<Figure size 432x288 with 1 Axes>"
      ]
     },
     "metadata": {
      "needs_background": "light"
     },
     "output_type": "display_data"
    },
    {
     "name": "stdout",
     "output_type": "stream",
     "text": [
      "Confusion Matrix\n",
      "Train set: [[285   0]\n",
      " [ 13 157]]\n",
      "Test set: [[71  1]\n",
      " [ 3 39]]\n"
     ]
    }
   ],
   "source": [
    "# ROC curve and confusion matrix for the last run\n",
    "print('ROC curve')\n",
    "plot_roc_curve(cls_svm_best, df_wdbc_X_train_std, df_wdbc_y_train, title_name = 'ROC Curve - Train set')\n",
    "plot_roc_curve(cls_svm_best, df_wdbc_X_test_std, df_wdbc_y_test, title_name = 'ROC Curve - Test set')\n",
    "print('Confusion Matrix')\n",
    "print('Train set:', confusion_matrix(df_wdbc_y_train, cls_svm_best.predict(df_wdbc_X_train_std)))\n",
    "print('Test set:', confusion_matrix(df_wdbc_y_test, cls_svm_best.predict(df_wdbc_X_test_std)))"
   ]
  },
  {
   "cell_type": "markdown",
   "id": "df32289b",
   "metadata": {},
   "source": [
    "#### 1-(b)-ii. Semi-Supervised Learning/ Self-training: select 50% of the positive class along with 50% of the negative class in the training set as labeled data and the rest as unlabelled data. You can select them randomly.\n",
    "> - A. Train an L1-penalized SVM to classify the labeled data Use normalized data. Choose the penalty parameter using 5 fold cross validation.\n",
    "> - B. Find the unlabeled data point that is the farthest to the decision boundary of the SVM. Let the SVM label it (ignore its true label), and add it to the labeled data, and retrain the SVM. Continue this process until all unlabeled data are used. Test the final SVM on the test data andthe average accuracy, precision, recall, F1-score, and AUC, for both training and test sets over your M runs. Plot the ROC and report the confusion matrix for training and testing in one of the runs."
   ]
  },
  {
   "cell_type": "code",
   "execution_count": 10,
   "id": "b14ba150",
   "metadata": {},
   "outputs": [],
   "source": [
    "df_result_semisup = pd.DataFrame(dtype = float, \\\n",
    "                             columns = ['iteration', 'train_test', 'accuracy', 'precision', 'recall', 'f1', 'auc'])\n"
   ]
  },
  {
   "cell_type": "code",
   "execution_count": 11,
   "id": "69ac6da8",
   "metadata": {},
   "outputs": [
    {
     "name": "stdout",
     "output_type": "stream",
     "text": [
      "iteration: 5\n",
      "iteration: 10\n",
      "iteration: 15\n",
      "iteration: 20\n",
      "iteration: 25\n",
      "iteration: 30\n"
     ]
    }
   ],
   "source": [
    "# train Semi-supervised L1-penalized SVM 30 times\n",
    "for i in range(1, 31):\n",
    "    \n",
    "    # check progress\n",
    "    if i % 5 == 0:\n",
    "        print('iteration:', i)\n",
    "    \n",
    "    # split train/test - test size = 20% stratified\n",
    "    df_wdbc_X_train, df_wdbc_X_test, df_wdbc_y_train, df_wdbc_y_test = train_test_split(df_wdbc_X, df_wdbc_y, \\\n",
    "                                                        test_size = 0.2, random_state = i, stratify = df_wdbc_y)\n",
    "    \n",
    "    # split labeled and unlabeled data from the training set\n",
    "    df_wdbc_X_train_label, df_wdbc_X_train_unlabel, df_wdbc_y_train_label, df_wdbc_y_train_unlabel = \\\n",
    "                    train_test_split(df_wdbc_X_train, df_wdbc_y_train, \\\n",
    "                    test_size = 0.5, random_state = i, stratify = df_wdbc_y_train)\n",
    "    \n",
    "    while len(df_wdbc_X_train_unlabel) > 0:\n",
    "\n",
    "        # standardize features\n",
    "        scaler = StandardScaler()\n",
    "        df_wdbc_X_train_std_label = scaler.fit_transform(df_wdbc_X_train_label)\n",
    "        df_wdbc_X_train_std_unlabel = scaler.transform(df_wdbc_X_train_unlabel)\n",
    "\n",
    "        # train SVM - L1 penalty - using 5 fold CV\n",
    "        params = {'C': [1e-4, 1e-2, 1, 1e2, 1e4]}\n",
    "        cls_svm_semi = LinearSVC(penalty = 'l1',  random_state = 0, dual = False, max_iter = 1e5)\n",
    "        cls_svm_semi_cv = GridSearchCV(cls_svm_semi, params, cv = 5, scoring = 'accuracy')\n",
    "        cls_svm_semi_cv.fit(df_wdbc_X_train_std_label, df_wdbc_y_train_label)\n",
    "\n",
    "        # best SVM from CV\n",
    "        cls_svm_semi_best = cls_svm_semi_cv.best_estimator_\n",
    "\n",
    "        # distances to hyperplane of unlabeled data\n",
    "        df_distance = pd.DataFrame({'dist': cls_svm_semi_best.decision_function(df_wdbc_X_train_std_unlabel)}, index = df_wdbc_X_train_unlabel.index)\n",
    "        df_distance.loc[:, 'abs_dist'] = df_distance.loc[:, 'dist'].abs()\n",
    "        df_distance.loc[:, 'class'] = df_distance.loc[:, 'dist'].apply(lambda x: 1 if x > 0 else 0)\n",
    "\n",
    "        # rank distances\n",
    "        df_distance.sort_values('abs_dist', ascending = False, inplace = True)\n",
    "\n",
    "        # select unlabeled data with farthest distance from hyperplane - batch of 6\n",
    "        conf_ind = df_distance[:6].index\n",
    "\n",
    "        # add farthest unlabeled data to labeled data\n",
    "        to_add_X = df_wdbc_X_train_unlabel.loc[conf_ind, :]\n",
    "        to_add_y = df_distance.loc[:, 'class'][:6]\n",
    "        df_wdbc_X_train_label = df_wdbc_X_train_label.append(to_add_X)\n",
    "        df_wdbc_y_train_label = df_wdbc_y_train_label.append(to_add_y)\n",
    "\n",
    "        # drop farthest unlabeled data\n",
    "        df_wdbc_X_train_unlabel= df_wdbc_X_train_unlabel.drop(conf_ind)\n",
    "        \n",
    "        \n",
    "    # train L1-penalized SVM again when all unlabeled data was labeled using SSL\n",
    "    # standardize features\n",
    "    scaler = StandardScaler()\n",
    "    df_wdbc_X_train_std_label = scaler.fit_transform(df_wdbc_X_train_label)\n",
    "    df_wdbc_X_test_std = scaler.transform(df_wdbc_X_test)\n",
    "\n",
    "    # train SVM - L1 penalty - using 5 fold CV\n",
    "    params = {'C': [1e-4, 1e-2, 1, 1e2, 1e4]}\n",
    "    cls_svm_semi = LinearSVC(penalty = 'l1',  random_state = 0, dual = False, max_iter = 1e5)\n",
    "    cls_svm_semi_cv = GridSearchCV(cls_svm_semi, params, cv = 5, scoring = 'accuracy')\n",
    "    cls_svm_semi_cv.fit(df_wdbc_X_train_std_label, df_wdbc_y_train_label)\n",
    "    \n",
    "    \n",
    "    # best SVM from CV\n",
    "    cls_svm_semi_best = CalibratedClassifierCV(cls_svm_semi_cv.best_estimator_).fit(df_wdbc_X_train_std_label, df_wdbc_y_train_label)\n",
    "    \n",
    "    # calculate scores - training set\n",
    "    train_acc = cls_svm_semi_best.score(df_wdbc_X_train_std_label, df_wdbc_y_train_label)\n",
    "    train_prec = precision_score(df_wdbc_y_train_label, cls_svm_semi_best.predict(df_wdbc_X_train_std_label))\n",
    "    train_rec = recall_score(df_wdbc_y_train_label, cls_svm_semi_best.predict(df_wdbc_X_train_std_label))\n",
    "    train_f1 = f1_score(df_wdbc_y_train_label, cls_svm_semi_best.predict(df_wdbc_X_train_std_label))\n",
    "    train_auc = roc_auc_score(df_wdbc_y_train_label, cls_svm_semi_best.predict_proba(df_wdbc_X_train_std_label)[:, 1])\n",
    "    \n",
    "    # calculate scores - testing set\n",
    "    test_acc = cls_svm_semi_best.score(df_wdbc_X_test_std, df_wdbc_y_test)\n",
    "    test_prec = precision_score(df_wdbc_y_test, cls_svm_semi_best.predict(df_wdbc_X_test_std))\n",
    "    test_rec = recall_score(df_wdbc_y_test, cls_svm_semi_best.predict(df_wdbc_X_test_std))\n",
    "    test_f1 = f1_score(df_wdbc_y_test, cls_svm_semi_best.predict(df_wdbc_X_test_std))\n",
    "    test_auc = roc_auc_score(df_wdbc_y_test, cls_svm_semi_best.predict_proba(df_wdbc_X_test_std)[:, 1])\n",
    "    \n",
    "    # appending train/test scores\n",
    "    df_result_semisup.loc[len(df_result_semisup), :] = [i, 'train', train_acc, train_prec, train_rec, train_f1, train_auc]\n",
    "    df_result_semisup.loc[len(df_result_semisup), :] = [i, 'test', test_acc, test_prec, test_rec, test_f1, test_auc]\n",
    "    "
   ]
  },
  {
   "cell_type": "code",
   "execution_count": 12,
   "id": "de6e4fc4",
   "metadata": {},
   "outputs": [
    {
     "data": {
      "text/html": [
       "<div>\n",
       "<style scoped>\n",
       "    .dataframe tbody tr th:only-of-type {\n",
       "        vertical-align: middle;\n",
       "    }\n",
       "\n",
       "    .dataframe tbody tr th {\n",
       "        vertical-align: top;\n",
       "    }\n",
       "\n",
       "    .dataframe thead th {\n",
       "        text-align: right;\n",
       "    }\n",
       "</style>\n",
       "<table border=\"1\" class=\"dataframe\">\n",
       "  <thead>\n",
       "    <tr style=\"text-align: right;\">\n",
       "      <th></th>\n",
       "      <th>accuracy</th>\n",
       "      <th>precision</th>\n",
       "      <th>recall</th>\n",
       "      <th>f1</th>\n",
       "      <th>auc</th>\n",
       "    </tr>\n",
       "    <tr>\n",
       "      <th>train_test</th>\n",
       "      <th></th>\n",
       "      <th></th>\n",
       "      <th></th>\n",
       "      <th></th>\n",
       "      <th></th>\n",
       "    </tr>\n",
       "  </thead>\n",
       "  <tbody>\n",
       "    <tr>\n",
       "      <th>test</th>\n",
       "      <td>0.955556</td>\n",
       "      <td>0.980865</td>\n",
       "      <td>0.897619</td>\n",
       "      <td>0.936591</td>\n",
       "      <td>0.990245</td>\n",
       "    </tr>\n",
       "    <tr>\n",
       "      <th>train</th>\n",
       "      <td>0.984322</td>\n",
       "      <td>0.999148</td>\n",
       "      <td>0.958551</td>\n",
       "      <td>0.978328</td>\n",
       "      <td>0.999465</td>\n",
       "    </tr>\n",
       "  </tbody>\n",
       "</table>\n",
       "</div>"
      ],
      "text/plain": [
       "            accuracy  precision    recall        f1       auc\n",
       "train_test                                                   \n",
       "test        0.955556   0.980865  0.897619  0.936591  0.990245\n",
       "train       0.984322   0.999148  0.958551  0.978328  0.999465"
      ]
     },
     "execution_count": 12,
     "metadata": {},
     "output_type": "execute_result"
    }
   ],
   "source": [
    "# average performance metrics over 30 runs\n",
    "df_result_semisup.groupby('train_test')[['accuracy', 'precision', 'recall', 'f1', 'auc']].mean()"
   ]
  },
  {
   "cell_type": "code",
   "execution_count": 13,
   "id": "72f02a97",
   "metadata": {},
   "outputs": [
    {
     "name": "stdout",
     "output_type": "stream",
     "text": [
      "ROC curve\n"
     ]
    },
    {
     "data": {
      "image/png": "[encoded data removed]",
      "text/plain": [
       "<Figure size 432x288 with 1 Axes>"
      ]
     },
     "metadata": {
      "needs_background": "light"
     },
     "output_type": "display_data"
    },
    {
     "data": {
      "image/png": "[encoded data removed]",
      "text/plain": [
       "<Figure size 432x288 with 1 Axes>"
      ]
     },
     "metadata": {
      "needs_background": "light"
     },
     "output_type": "display_data"
    },
    {
     "name": "stdout",
     "output_type": "stream",
     "text": [
      "Confusion Matrix\n",
      "Train set: [[286   2]\n",
      " [ 12 155]]\n",
      "Test set: [[71  1]\n",
      " [ 3 39]]\n"
     ]
    }
   ],
   "source": [
    "# ROC curve and confusion matrix for the last run\n",
    "print('ROC curve')\n",
    "plot_roc_curve(cls_svm_semi_best, df_wdbc_X_train_std_label, df_wdbc_y_train_label, title_name = 'ROC Curve - Train set')\n",
    "plot_roc_curve(cls_svm_semi_best, df_wdbc_X_test_std, df_wdbc_y_test, title_name = 'ROC Curve - Test set')\n",
    "print('Confusion Matrix')\n",
    "print('Train set:', confusion_matrix(df_wdbc_y_train_label, cls_svm_best.predict(df_wdbc_X_train_std_label)))\n",
    "print('Test set:', confusion_matrix(df_wdbc_y_test, cls_svm_best.predict(df_wdbc_X_test_std)))\n"
   ]
  },
  {
   "cell_type": "markdown",
   "id": "03f33005",
   "metadata": {},
   "source": [
    "#### 1-(b)-iii. Unsupervised Learning: Run k-means algorithm on the whole training set. Ignore the labels of the data, and assume k = 2.\n",
    "> - A. Run the k-means algorithm multiple times. Make sure that you initialize the algoritm randomly. How do you make sure that the algorithm was not trapped in a local minimum?\n",
    "> - B. Compute the centers of the two clusters and find the closest 30 data points to each center. Read the true labels of those 30 data points and take a majority poll within them. The majority poll becomes the label predicted by k-means for the members of each cluster. Then compare the labels provided by k-means with the true labels of the training data and report the average accuracy, precision, recall, F1-score, and AUC over M runs, and ROC and the confusion matrix for one of the runs.\n",
    "> - C. Classify test data based on their proximity to the centers of the clusters. Report the average accuracy, precision, recall, F1-score, and AUC over M runs, and ROC and the confusion matrix for one of the runs for the test data"
   ]
  },
  {
   "cell_type": "code",
   "execution_count": 14,
   "id": "5bc9cd49",
   "metadata": {},
   "outputs": [],
   "source": [
    "df_result_unsup = pd.DataFrame(dtype = float, \\\n",
    "                             columns = ['iteration', 'train_test', 'accuracy', 'precision', 'recall', 'f1', 'auc'])\n"
   ]
  },
  {
   "cell_type": "markdown",
   "id": "93bce6f4",
   "metadata": {},
   "source": [
    "> To avoid the algorithm trapped in a local minimum, we'll run K-means 25 times with different initializations "
   ]
  },
  {
   "cell_type": "code",
   "execution_count": 15,
   "id": "c6ec1eed",
   "metadata": {},
   "outputs": [],
   "source": [
    "# train Unsupervised K-means 30 times\n",
    "for i in range(1, 2):\n",
    "    \n",
    "    # check progress\n",
    "    if i % 5 == 0:\n",
    "        print('iteration:', i)\n",
    "    \n",
    "    # split train/test - test size = 20% stratified\n",
    "    df_wdbc_X_train, df_wdbc_X_test, df_wdbc_y_train, df_wdbc_y_test = train_test_split(df_wdbc_X, df_wdbc_y, \\\n",
    "                                                        test_size = 0.2, random_state = i, stratify = df_wdbc_y)\n",
    "    \n",
    "    # standardize features\n",
    "    scaler = StandardScaler()\n",
    "    df_wdbc_X_train_std = scaler.fit_transform(df_wdbc_X_train)\n",
    "    df_wdbc_X_test_std = scaler.transform(df_wdbc_X_test)\n",
    "    \n",
    "    # train K-means multiple times to avoid local minimum\n",
    "    best_km = None\n",
    "    best_ch_score = 0\n",
    "    for j in range(1, 26):\n",
    "        # make random_state different each iteration\n",
    "        km = KMeans(n_clusters = 2, init = 'random', random_state = j)\n",
    "        km.fit(df_wdbc_X_train_std)\n",
    "        ch_score = calinski_harabasz_score(df_wdbc_X_train_std, km.labels_)\n",
    "        \n",
    "        if ch_score > best_ch_score:\n",
    "            best_km = km\n",
    "            best_ch_score = ch_score\n",
    "            \n",
    "    # get distances to each data point's cluster\n",
    "    df_km_result = pd.DataFrame(index = df_wdbc_X_train.index)\n",
    "    df_km_result.loc[:, 'cluster_no'] = best_km.predict(df_wdbc_X_train_std)\n",
    "    df_km_result.loc[:, 'distance'] = list(pd.DataFrame(best_km.transform(df_wdbc_X_train_std)).min(axis = 1))\n",
    "        \n",
    "    # select 30 data points closest to each cluster\n",
    "    data_closest_cluster_30 = df_km_result.sort_values('distance',ascending = False).groupby('cluster_no').head(30).sort_values('cluster_no')\n",
    "    \n",
    "    # check labels - majority polling > to be used as label prediction for K-means\n",
    "    data_closest_cluster_30.loc[:, 'label'] = df_wdbc_y_train\n",
    "    predicted_label = data_closest_cluster_30.groupby('cluster_no')['label'].agg(pd.Series.mode)\n",
    "    \n",
    "    # get assigned cluster for train and test data\n",
    "    assigned_train = best_km.predict(df_wdbc_X_train_std)\n",
    "    assigned_test = best_km.predict(df_wdbc_X_test_std)\n",
    "    \n",
    "    # get prediction for train and test set\n",
    "    y_pred_train = pd.Series(assigned_train).map(predicted_label)\n",
    "    y_pred_test = pd.Series(assigned_test).map(predicted_label)\n",
    "    \n",
    "    # get prediction probability to be in each cluster (using 1 - softmax from distance from cluster's center)\n",
    "    prob_in_cluster_train = 1 - softmax(best_km.transform(df_wdbc_X_train_std), axis = 1)\n",
    "    prob_in_cluster_test = 1 - softmax(best_km.transform(df_wdbc_X_test_std), axis = 1)\n",
    "    \n",
    "    # get probability of being in class 1\n",
    "    y_pred_proba_train = pd.DataFrame(prob_in_cluster_train).iloc[:, [cluster_no for cluster_no, label in predicted_label.iteritems() if label == 1]].sum(axis = 1)\n",
    "    y_pred_proba_test = pd.DataFrame(prob_in_cluster_test).iloc[:, [cluster_no for cluster_no, label in predicted_label.iteritems() if label == 1]].sum(axis = 1)\n",
    "    \n",
    "    # calculate scores - training set\n",
    "    train_acc = accuracy_score(df_wdbc_y_train, y_pred_train)\n",
    "    train_prec = precision_score(df_wdbc_y_train, y_pred_train)\n",
    "    train_rec = recall_score(df_wdbc_y_train, y_pred_train)\n",
    "    train_f1 = f1_score(df_wdbc_y_train, y_pred_train)\n",
    "    train_auc = roc_auc_score(df_wdbc_y_train, y_pred_proba_train)\n",
    "    \n",
    "    # calculate scores - testing set\n",
    "    test_acc = accuracy_score(df_wdbc_y_test, y_pred_test)\n",
    "    test_prec = precision_score(df_wdbc_y_test, y_pred_test)\n",
    "    test_rec = recall_score(df_wdbc_y_test, y_pred_test)\n",
    "    test_f1 = f1_score(df_wdbc_y_test, y_pred_test)\n",
    "    test_auc = roc_auc_score(df_wdbc_y_test, y_pred_proba_test)\n",
    "    \n",
    "    # appending train/test scores\n",
    "    df_result_unsup.loc[len(df_result_unsup), :] = [i, 'train', train_acc, train_prec, train_rec, train_f1, train_auc]\n",
    "    df_result_unsup.loc[len(df_result_unsup), :] = [i, 'test', test_acc, test_prec, test_rec, test_f1, test_auc]\n",
    "    \n",
    "    \n",
    "    "
   ]
  },
  {
   "cell_type": "code",
   "execution_count": 16,
   "id": "192a21f2",
   "metadata": {},
   "outputs": [
    {
     "data": {
      "text/html": [
       "<div>\n",
       "<style scoped>\n",
       "    .dataframe tbody tr th:only-of-type {\n",
       "        vertical-align: middle;\n",
       "    }\n",
       "\n",
       "    .dataframe tbody tr th {\n",
       "        vertical-align: top;\n",
       "    }\n",
       "\n",
       "    .dataframe thead th {\n",
       "        text-align: right;\n",
       "    }\n",
       "</style>\n",
       "<table border=\"1\" class=\"dataframe\">\n",
       "  <thead>\n",
       "    <tr style=\"text-align: right;\">\n",
       "      <th></th>\n",
       "      <th>accuracy</th>\n",
       "      <th>precision</th>\n",
       "      <th>recall</th>\n",
       "      <th>f1</th>\n",
       "      <th>auc</th>\n",
       "    </tr>\n",
       "    <tr>\n",
       "      <th>train_test</th>\n",
       "      <th></th>\n",
       "      <th></th>\n",
       "      <th></th>\n",
       "      <th></th>\n",
       "      <th></th>\n",
       "    </tr>\n",
       "  </thead>\n",
       "  <tbody>\n",
       "    <tr>\n",
       "      <th>test</th>\n",
       "      <td>0.921053</td>\n",
       "      <td>0.945946</td>\n",
       "      <td>0.833333</td>\n",
       "      <td>0.886076</td>\n",
       "      <td>0.975529</td>\n",
       "    </tr>\n",
       "    <tr>\n",
       "      <th>train</th>\n",
       "      <td>0.903297</td>\n",
       "      <td>0.914474</td>\n",
       "      <td>0.817647</td>\n",
       "      <td>0.863354</td>\n",
       "      <td>0.972590</td>\n",
       "    </tr>\n",
       "  </tbody>\n",
       "</table>\n",
       "</div>"
      ],
      "text/plain": [
       "            accuracy  precision    recall        f1       auc\n",
       "train_test                                                   \n",
       "test        0.921053   0.945946  0.833333  0.886076  0.975529\n",
       "train       0.903297   0.914474  0.817647  0.863354  0.972590"
      ]
     },
     "execution_count": 16,
     "metadata": {},
     "output_type": "execute_result"
    }
   ],
   "source": [
    "# average performance metrics over 30 runs\n",
    "df_result_unsup.groupby('train_test')[['accuracy', 'precision', 'recall', 'f1', 'auc']].mean()"
   ]
  },
  {
   "cell_type": "code",
   "execution_count": 17,
   "id": "a7e99b3b",
   "metadata": {},
   "outputs": [
    {
     "name": "stdout",
     "output_type": "stream",
     "text": [
      "ROC curve\n"
     ]
    },
    {
     "data": {
      "image/png": "[encoded data removed]",
      "text/plain": [
       "<Figure size 432x288 with 1 Axes>"
      ]
     },
     "metadata": {
      "needs_background": "light"
     },
     "output_type": "display_data"
    },
    {
     "data": {
      "image/png": "[encoded data removed]",
      "text/plain": [
       "<Figure size 432x288 with 1 Axes>"
      ]
     },
     "metadata": {
      "needs_background": "light"
     },
     "output_type": "display_data"
    },
    {
     "name": "stdout",
     "output_type": "stream",
     "text": [
      "Confusion Matrix\n",
      "Train set: [[272  13]\n",
      " [ 31 139]]\n",
      "Test set: [[70  2]\n",
      " [ 7 35]]\n"
     ]
    }
   ],
   "source": [
    "# ROC curve and confusion matrix for the last run\n",
    "print('ROC curve')\n",
    "# roc curve for train set\n",
    "fpr, tpr, thresholds = roc_curve(df_wdbc_y_train, y_pred_proba_train)\n",
    "plt.plot(fpr, tpr)\n",
    "plt.xlabel('False positive rate')\n",
    "plt.ylabel('True positive rate')\n",
    "plt.title('ROC Curve - Train set')\n",
    "plt.show()   \n",
    "\n",
    "# roc curve for test set\n",
    "fpr, tpr, thresholds = roc_curve(df_wdbc_y_test, y_pred_proba_test)\n",
    "plt.plot(fpr, tpr)\n",
    "plt.xlabel('False positive rate')\n",
    "plt.ylabel('True positive rate')\n",
    "plt.title('ROC Curve - Test set')\n",
    "plt.show() \n",
    "\n",
    "print('Confusion Matrix')\n",
    "print('Train set:', confusion_matrix(df_wdbc_y_train, y_pred_train))\n",
    "print('Test set:', confusion_matrix(df_wdbc_y_test, y_pred_test))\n"
   ]
  },
  {
   "cell_type": "markdown",
   "id": "f7fc7d34",
   "metadata": {},
   "source": [
    "#### 1-(b)-iv. Spectral Clustering: Repeat 1(b)iii using spectral clustering, which is clus- tering based on kernels.3 Research what spectral clustering is. Use RBF kernel with gamma=1 or find a gamma for which the two clutsres have the same balance as the one in original data set (if the positive class has p and the negative class has n samples, the two clusters must have p and n members). Do not label data based on their proximity to cluster center, because spectral clustering may give you non-convex clusters . Instead, use fit − predict method."
   ]
  },
  {
   "cell_type": "code",
   "execution_count": 41,
   "id": "53912e2f",
   "metadata": {},
   "outputs": [],
   "source": [
    "# functions for Spectral Clustering - prediction for new instances using K-nearest neighbors\n",
    "def spectral_predict(df_X, df_predicted_label, df_new_instances, n = 30):\n",
    "    knn = KNeighborsClassifier(n_neighbors = n)\n",
    "    knn.fit(df_X, df_predicted_label)\n",
    "    return knn.predict(df_new_instances)\n",
    "\n",
    "def spectral_predict_proba(df_X, df_predicted_label, df_new_instances, n = 30):\n",
    "    knn = KNeighborsClassifier(n_neighbors = n)\n",
    "    knn.fit(df_X, df_predicted_label)\n",
    "    return knn.predict_proba(df_new_instances)[:, 1]"
   ]
  },
  {
   "cell_type": "code",
   "execution_count": 42,
   "id": "66b7c7bf",
   "metadata": {},
   "outputs": [],
   "source": [
    "df_result_spectral = pd.DataFrame(dtype = float, \\\n",
    "                             columns = ['iteration', 'train_test', 'accuracy', 'precision', 'recall', 'f1', 'auc'])\n"
   ]
  },
  {
   "cell_type": "code",
   "execution_count": 43,
   "id": "5bafb281",
   "metadata": {},
   "outputs": [
    {
     "name": "stdout",
     "output_type": "stream",
     "text": [
      "iteration: 5\n",
      "iteration: 10\n",
      "iteration: 15\n",
      "iteration: 20\n",
      "iteration: 25\n",
      "iteration: 30\n"
     ]
    }
   ],
   "source": [
    "# train Spectral Clustering 30 times\n",
    "for i in range(1, 31):\n",
    "    \n",
    "    # check progress\n",
    "    if i % 5 == 0:\n",
    "        print('iteration:', i)\n",
    "    \n",
    "    # split train/test - test size = 20% stratified\n",
    "    df_wdbc_X_train, df_wdbc_X_test, df_wdbc_y_train, df_wdbc_y_test = train_test_split(df_wdbc_X, df_wdbc_y, \\\n",
    "                                                        test_size = 0.2, random_state = 0, stratify = df_wdbc_y)\n",
    "    \n",
    "    # standardize features\n",
    "    scaler = StandardScaler()\n",
    "    df_wdbc_X_train_std = scaler.fit_transform(df_wdbc_X_train)\n",
    "    df_wdbc_X_test_std = scaler.transform(df_wdbc_X_test)\n",
    "    \n",
    "    # train Spectral Clustering - initializing multiple times using n_init - use gamma = 0.01 to have similar division of samples as labeled data\n",
    "    sp = SpectralClustering(n_clusters = 2, gamma = 0.01, affinity = 'rbf', assign_labels = 'discretize', random_state = i, n_init = 10)\n",
    "    sp.fit_predict(df_wdbc_X_train_std)\n",
    "            \n",
    "    # get predicted label from majority polling within each cluster\n",
    "    df_spectral = pd.DataFrame(df_wdbc_y_train.copy().values, columns = ['label'])\n",
    "    df_spectral['cluster_no'] = sp.labels_\n",
    "    predicted_label = df_spectral.groupby('cluster_no')['label'].agg(pd.Series.mode)\n",
    "    \n",
    "    df_predicted_label = df_wdbc_y_train.map(predicted_label)\n",
    "    \n",
    "    # get prediction for train and test set\n",
    "    y_pred_train = spectral_predict(df_wdbc_X_train_std, df_predicted_label, df_wdbc_X_train_std, n = 10)\n",
    "    y_pred_test = spectral_predict(df_wdbc_X_train_std, df_predicted_label, df_wdbc_X_test_std, n = 10)\n",
    "    \n",
    "    # get probability of being in class 1\n",
    "    y_pred_proba_train = spectral_predict_proba(df_wdbc_X_train_std, df_predicted_label, df_wdbc_X_train_std, n = 10)\n",
    "    y_pred_proba_test = spectral_predict_proba(df_wdbc_X_train_std, df_predicted_label, df_wdbc_X_test_std, n = 10)\n",
    "    \n",
    "    # calculate scores - training set\n",
    "    train_acc = accuracy_score(df_wdbc_y_train, y_pred_train)\n",
    "    train_prec = precision_score(df_wdbc_y_train, y_pred_train)\n",
    "    train_rec = recall_score(df_wdbc_y_train, y_pred_train)\n",
    "    train_f1 = f1_score(df_wdbc_y_train, y_pred_train)\n",
    "    train_auc = roc_auc_score(df_wdbc_y_train, y_pred_proba_train)\n",
    "    \n",
    "    # calculate scores - testing set\n",
    "    test_acc = accuracy_score(df_wdbc_y_test, y_pred_test)\n",
    "    test_prec = precision_score(df_wdbc_y_test, y_pred_test)\n",
    "    test_rec = recall_score(df_wdbc_y_test, y_pred_test)\n",
    "    test_f1 = f1_score(df_wdbc_y_test, y_pred_test)\n",
    "    test_auc = roc_auc_score(df_wdbc_y_test, y_pred_proba_test)\n",
    "    \n",
    "    # appending train/test scores\n",
    "    df_result_spectral.loc[len(df_result_spectral), :] = [i, 'train', train_acc, train_prec, train_rec, train_f1, train_auc]\n",
    "    df_result_spectral.loc[len(df_result_spectral), :] = [i, 'test', test_acc, test_prec, test_rec, test_f1, test_auc]\n",
    "    \n",
    "    \n",
    "    "
   ]
  },
  {
   "cell_type": "code",
   "execution_count": 44,
   "id": "292f5c7b",
   "metadata": {},
   "outputs": [
    {
     "data": {
      "text/html": [
       "<div>\n",
       "<style scoped>\n",
       "    .dataframe tbody tr th:only-of-type {\n",
       "        vertical-align: middle;\n",
       "    }\n",
       "\n",
       "    .dataframe tbody tr th {\n",
       "        vertical-align: top;\n",
       "    }\n",
       "\n",
       "    .dataframe thead th {\n",
       "        text-align: right;\n",
       "    }\n",
       "</style>\n",
       "<table border=\"1\" class=\"dataframe\">\n",
       "  <thead>\n",
       "    <tr style=\"text-align: right;\">\n",
       "      <th></th>\n",
       "      <th>accuracy</th>\n",
       "      <th>precision</th>\n",
       "      <th>recall</th>\n",
       "      <th>f1</th>\n",
       "      <th>auc</th>\n",
       "    </tr>\n",
       "    <tr>\n",
       "      <th>train_test</th>\n",
       "      <th></th>\n",
       "      <th></th>\n",
       "      <th></th>\n",
       "      <th></th>\n",
       "      <th></th>\n",
       "    </tr>\n",
       "  </thead>\n",
       "  <tbody>\n",
       "    <tr>\n",
       "      <th>test</th>\n",
       "      <td>0.717544</td>\n",
       "      <td>0.689900</td>\n",
       "      <td>0.711111</td>\n",
       "      <td>0.699806</td>\n",
       "      <td>0.728549</td>\n",
       "    </tr>\n",
       "    <tr>\n",
       "      <th>train</th>\n",
       "      <td>0.717802</td>\n",
       "      <td>0.743277</td>\n",
       "      <td>0.690196</td>\n",
       "      <td>0.714457</td>\n",
       "      <td>0.731831</td>\n",
       "    </tr>\n",
       "  </tbody>\n",
       "</table>\n",
       "</div>"
      ],
      "text/plain": [
       "            accuracy  precision    recall        f1       auc\n",
       "train_test                                                   \n",
       "test        0.717544   0.689900  0.711111  0.699806  0.728549\n",
       "train       0.717802   0.743277  0.690196  0.714457  0.731831"
      ]
     },
     "execution_count": 44,
     "metadata": {},
     "output_type": "execute_result"
    }
   ],
   "source": [
    "# average performance metrics over 30 runs\n",
    "df_result_spectral.groupby('train_test')[['accuracy', 'precision', 'recall', 'f1', 'auc']].mean()"
   ]
  },
  {
   "cell_type": "code",
   "execution_count": 45,
   "id": "60cefbd1",
   "metadata": {},
   "outputs": [
    {
     "name": "stdout",
     "output_type": "stream",
     "text": [
      "ROC curve\n"
     ]
    },
    {
     "data": {
      "image/png": "[encoded data removed]",
      "text/plain": [
       "<Figure size 432x288 with 1 Axes>"
      ]
     },
     "metadata": {
      "needs_background": "light"
     },
     "output_type": "display_data"
    },
    {
     "data": {
      "image/png": "[encoded data removed]",
      "text/plain": [
       "<Figure size 432x288 with 1 Axes>"
      ]
     },
     "metadata": {
      "needs_background": "light"
     },
     "output_type": "display_data"
    },
    {
     "name": "stdout",
     "output_type": "stream",
     "text": [
      "Confusion Matrix\n",
      "Train set: [[285   0]\n",
      " [ 14 156]]\n",
      "Test set: [[69  3]\n",
      " [ 2 40]]\n"
     ]
    }
   ],
   "source": [
    "# ROC curve and confusion matrix for the last run\n",
    "print('ROC curve')\n",
    "# roc curve for train set\n",
    "fpr, tpr, thresholds = roc_curve(df_wdbc_y_train, y_pred_proba_train)\n",
    "plt.plot(fpr, tpr)\n",
    "plt.xlabel('False positive rate')\n",
    "plt.ylabel('True positive rate')\n",
    "plt.title('ROC Curve - Train set')\n",
    "plt.show()   \n",
    "\n",
    "# roc curve for test set\n",
    "fpr, tpr, thresholds = roc_curve(df_wdbc_y_test, y_pred_proba_test)\n",
    "plt.plot(fpr, tpr)\n",
    "plt.xlabel('False positive rate')\n",
    "plt.ylabel('True positive rate')\n",
    "plt.title('ROC Curve - Test set')\n",
    "plt.show() \n",
    "\n",
    "print('Confusion Matrix')\n",
    "print('Train set:', confusion_matrix(df_wdbc_y_train, y_pred_train))\n",
    "print('Test set:', confusion_matrix(df_wdbc_y_test, y_pred_test))\n"
   ]
  },
  {
   "cell_type": "markdown",
   "id": "1fbf992b",
   "metadata": {},
   "source": [
    "> - It turns out that using Spectral Clustering gives significantly worse results than K-means.\n",
    "> - Investigated and found out that some of the iterations have the predicted labels (calculated from the mode of the data within clusters) differently, and these iterations result in very poor test accuracy ~ 5%. For the majority of the iterations that (seems to) have the correct predicted labels, the test accuracy is as high as ~90+%."
   ]
  },
  {
   "cell_type": "markdown",
   "id": "0ad34b8b",
   "metadata": {},
   "source": [
    "#### 1-(b)-v. One can expect that supervised learning on the full data set works better than semi-supervised learning with half of the data set labeled.One can expect that unsupervised learning underperforms in such situations. Compare the results you obtained by those methods."
   ]
  },
  {
   "cell_type": "code",
   "execution_count": 23,
   "id": "56884adf",
   "metadata": {},
   "outputs": [
    {
     "name": "stdout",
     "output_type": "stream",
     "text": [
      "----- Results from Supervised Learning -----\n"
     ]
    },
    {
     "data": {
      "text/html": [
       "<div>\n",
       "<style scoped>\n",
       "    .dataframe tbody tr th:only-of-type {\n",
       "        vertical-align: middle;\n",
       "    }\n",
       "\n",
       "    .dataframe tbody tr th {\n",
       "        vertical-align: top;\n",
       "    }\n",
       "\n",
       "    .dataframe thead th {\n",
       "        text-align: right;\n",
       "    }\n",
       "</style>\n",
       "<table border=\"1\" class=\"dataframe\">\n",
       "  <thead>\n",
       "    <tr style=\"text-align: right;\">\n",
       "      <th></th>\n",
       "      <th>accuracy</th>\n",
       "      <th>precision</th>\n",
       "      <th>recall</th>\n",
       "      <th>f1</th>\n",
       "      <th>auc</th>\n",
       "    </tr>\n",
       "    <tr>\n",
       "      <th>train_test</th>\n",
       "      <th></th>\n",
       "      <th></th>\n",
       "      <th></th>\n",
       "      <th></th>\n",
       "      <th></th>\n",
       "    </tr>\n",
       "  </thead>\n",
       "  <tbody>\n",
       "    <tr>\n",
       "      <th>test</th>\n",
       "      <td>0.961696</td>\n",
       "      <td>0.990928</td>\n",
       "      <td>0.904762</td>\n",
       "      <td>0.945293</td>\n",
       "      <td>0.993188</td>\n",
       "    </tr>\n",
       "    <tr>\n",
       "      <th>train</th>\n",
       "      <td>0.975311</td>\n",
       "      <td>0.996862</td>\n",
       "      <td>0.936863</td>\n",
       "      <td>0.965874</td>\n",
       "      <td>0.997662</td>\n",
       "    </tr>\n",
       "  </tbody>\n",
       "</table>\n",
       "</div>"
      ],
      "text/plain": [
       "            accuracy  precision    recall        f1       auc\n",
       "train_test                                                   \n",
       "test        0.961696   0.990928  0.904762  0.945293  0.993188\n",
       "train       0.975311   0.996862  0.936863  0.965874  0.997662"
      ]
     },
     "metadata": {},
     "output_type": "display_data"
    },
    {
     "name": "stdout",
     "output_type": "stream",
     "text": [
      "----- Results from Semi-Supervised Learning -----\n"
     ]
    },
    {
     "data": {
      "text/html": [
       "<div>\n",
       "<style scoped>\n",
       "    .dataframe tbody tr th:only-of-type {\n",
       "        vertical-align: middle;\n",
       "    }\n",
       "\n",
       "    .dataframe tbody tr th {\n",
       "        vertical-align: top;\n",
       "    }\n",
       "\n",
       "    .dataframe thead th {\n",
       "        text-align: right;\n",
       "    }\n",
       "</style>\n",
       "<table border=\"1\" class=\"dataframe\">\n",
       "  <thead>\n",
       "    <tr style=\"text-align: right;\">\n",
       "      <th></th>\n",
       "      <th>accuracy</th>\n",
       "      <th>precision</th>\n",
       "      <th>recall</th>\n",
       "      <th>f1</th>\n",
       "      <th>auc</th>\n",
       "    </tr>\n",
       "    <tr>\n",
       "      <th>train_test</th>\n",
       "      <th></th>\n",
       "      <th></th>\n",
       "      <th></th>\n",
       "      <th></th>\n",
       "      <th></th>\n",
       "    </tr>\n",
       "  </thead>\n",
       "  <tbody>\n",
       "    <tr>\n",
       "      <th>test</th>\n",
       "      <td>0.955556</td>\n",
       "      <td>0.980865</td>\n",
       "      <td>0.897619</td>\n",
       "      <td>0.936591</td>\n",
       "      <td>0.990245</td>\n",
       "    </tr>\n",
       "    <tr>\n",
       "      <th>train</th>\n",
       "      <td>0.984322</td>\n",
       "      <td>0.999148</td>\n",
       "      <td>0.958551</td>\n",
       "      <td>0.978328</td>\n",
       "      <td>0.999465</td>\n",
       "    </tr>\n",
       "  </tbody>\n",
       "</table>\n",
       "</div>"
      ],
      "text/plain": [
       "            accuracy  precision    recall        f1       auc\n",
       "train_test                                                   \n",
       "test        0.955556   0.980865  0.897619  0.936591  0.990245\n",
       "train       0.984322   0.999148  0.958551  0.978328  0.999465"
      ]
     },
     "metadata": {},
     "output_type": "display_data"
    },
    {
     "name": "stdout",
     "output_type": "stream",
     "text": [
      "----- Results from Unsupervised Learning -----\n"
     ]
    },
    {
     "data": {
      "text/html": [
       "<div>\n",
       "<style scoped>\n",
       "    .dataframe tbody tr th:only-of-type {\n",
       "        vertical-align: middle;\n",
       "    }\n",
       "\n",
       "    .dataframe tbody tr th {\n",
       "        vertical-align: top;\n",
       "    }\n",
       "\n",
       "    .dataframe thead th {\n",
       "        text-align: right;\n",
       "    }\n",
       "</style>\n",
       "<table border=\"1\" class=\"dataframe\">\n",
       "  <thead>\n",
       "    <tr style=\"text-align: right;\">\n",
       "      <th></th>\n",
       "      <th>accuracy</th>\n",
       "      <th>precision</th>\n",
       "      <th>recall</th>\n",
       "      <th>f1</th>\n",
       "      <th>auc</th>\n",
       "    </tr>\n",
       "    <tr>\n",
       "      <th>train_test</th>\n",
       "      <th></th>\n",
       "      <th></th>\n",
       "      <th></th>\n",
       "      <th></th>\n",
       "      <th></th>\n",
       "    </tr>\n",
       "  </thead>\n",
       "  <tbody>\n",
       "    <tr>\n",
       "      <th>test</th>\n",
       "      <td>0.921053</td>\n",
       "      <td>0.945946</td>\n",
       "      <td>0.833333</td>\n",
       "      <td>0.886076</td>\n",
       "      <td>0.975529</td>\n",
       "    </tr>\n",
       "    <tr>\n",
       "      <th>train</th>\n",
       "      <td>0.903297</td>\n",
       "      <td>0.914474</td>\n",
       "      <td>0.817647</td>\n",
       "      <td>0.863354</td>\n",
       "      <td>0.972590</td>\n",
       "    </tr>\n",
       "  </tbody>\n",
       "</table>\n",
       "</div>"
      ],
      "text/plain": [
       "            accuracy  precision    recall        f1       auc\n",
       "train_test                                                   \n",
       "test        0.921053   0.945946  0.833333  0.886076  0.975529\n",
       "train       0.903297   0.914474  0.817647  0.863354  0.972590"
      ]
     },
     "metadata": {},
     "output_type": "display_data"
    }
   ],
   "source": [
    "print('----- Results from Supervised Learning -----')\n",
    "display(df_result_sup.groupby('train_test')[['accuracy', 'precision', 'recall', 'f1', 'auc']].mean())\n",
    "print('----- Results from Semi-Supervised Learning -----')\n",
    "display(df_result_semisup.groupby('train_test')[['accuracy', 'precision', 'recall', 'f1', 'auc']].mean())\n",
    "print('----- Results from Unsupervised Learning -----')\n",
    "display(df_result_unsup.groupby('train_test')[['accuracy', 'precision', 'recall', 'f1', 'auc']].mean())"
   ]
  },
  {
   "cell_type": "markdown",
   "id": "94e2bae9",
   "metadata": {},
   "source": [
    "> As expected, the performance of supervised learning is the best, followed by the semi-supervised learning where it only performs slightly worse than supervised learning, and the unsupervised learning performs the worst."
   ]
  },
  {
   "cell_type": "markdown",
   "id": "bb94b388",
   "metadata": {},
   "source": [
    "# 2. Active Learning Using Support Vector Machines"
   ]
  },
  {
   "cell_type": "markdown",
   "id": "de742b6b",
   "metadata": {},
   "source": [
    "#### 2-(a). Download the banknote authentication Data Set from: https://archive.ics.uci.edu/ml/datasets/banknote+authentication. Choose 472 data points ran- domly as the test set, and the remaining 900 points as the training set. This is a binary classification problem."
   ]
  },
  {
   "cell_type": "code",
   "execution_count": 24,
   "id": "ff713321",
   "metadata": {},
   "outputs": [
    {
     "data": {
      "text/html": [
       "<div>\n",
       "<style scoped>\n",
       "    .dataframe tbody tr th:only-of-type {\n",
       "        vertical-align: middle;\n",
       "    }\n",
       "\n",
       "    .dataframe tbody tr th {\n",
       "        vertical-align: top;\n",
       "    }\n",
       "\n",
       "    .dataframe thead th {\n",
       "        text-align: right;\n",
       "    }\n",
       "</style>\n",
       "<table border=\"1\" class=\"dataframe\">\n",
       "  <thead>\n",
       "    <tr style=\"text-align: right;\">\n",
       "      <th></th>\n",
       "      <th>variance</th>\n",
       "      <th>skewness</th>\n",
       "      <th>curtosis</th>\n",
       "      <th>entropy</th>\n",
       "      <th>label</th>\n",
       "    </tr>\n",
       "  </thead>\n",
       "  <tbody>\n",
       "    <tr>\n",
       "      <th>0</th>\n",
       "      <td>3.62160</td>\n",
       "      <td>8.6661</td>\n",
       "      <td>-2.8073</td>\n",
       "      <td>-0.44699</td>\n",
       "      <td>0</td>\n",
       "    </tr>\n",
       "    <tr>\n",
       "      <th>1</th>\n",
       "      <td>4.54590</td>\n",
       "      <td>8.1674</td>\n",
       "      <td>-2.4586</td>\n",
       "      <td>-1.46210</td>\n",
       "      <td>0</td>\n",
       "    </tr>\n",
       "    <tr>\n",
       "      <th>2</th>\n",
       "      <td>3.86600</td>\n",
       "      <td>-2.6383</td>\n",
       "      <td>1.9242</td>\n",
       "      <td>0.10645</td>\n",
       "      <td>0</td>\n",
       "    </tr>\n",
       "    <tr>\n",
       "      <th>3</th>\n",
       "      <td>3.45660</td>\n",
       "      <td>9.5228</td>\n",
       "      <td>-4.0112</td>\n",
       "      <td>-3.59440</td>\n",
       "      <td>0</td>\n",
       "    </tr>\n",
       "    <tr>\n",
       "      <th>4</th>\n",
       "      <td>0.32924</td>\n",
       "      <td>-4.4552</td>\n",
       "      <td>4.5718</td>\n",
       "      <td>-0.98880</td>\n",
       "      <td>0</td>\n",
       "    </tr>\n",
       "  </tbody>\n",
       "</table>\n",
       "</div>"
      ],
      "text/plain": [
       "   variance  skewness  curtosis  entropy  label\n",
       "0   3.62160    8.6661   -2.8073 -0.44699      0\n",
       "1   4.54590    8.1674   -2.4586 -1.46210      0\n",
       "2   3.86600   -2.6383    1.9242  0.10645      0\n",
       "3   3.45660    9.5228   -4.0112 -3.59440      0\n",
       "4   0.32924   -4.4552    4.5718 -0.98880      0"
      ]
     },
     "metadata": {},
     "output_type": "display_data"
    }
   ],
   "source": [
    "# read data from file\n",
    "df_bn = pd.read_csv('../data/data_banknote_authentication.txt', names = ['variance', 'skewness', 'curtosis', 'entropy', 'label'])\n",
    "display(df_bn.head())"
   ]
  },
  {
   "cell_type": "code",
   "execution_count": 25,
   "id": "14f33b57",
   "metadata": {},
   "outputs": [],
   "source": [
    "# define X and y\n",
    "df_bn_X = df_bn.loc[:, df_bn.columns != 'label']\n",
    "df_bn_y = df_bn.loc[:, 'label']"
   ]
  },
  {
   "cell_type": "code",
   "execution_count": 26,
   "id": "e425e3ea",
   "metadata": {},
   "outputs": [],
   "source": [
    "# ignore warnings when number of samples are low (warning from GridSearchCV with cv = 5)\n",
    "warnings.filterwarnings('ignore', category = UserWarning)\n",
    "warnings.filterwarnings('ignore', category = FitFailedWarning)"
   ]
  },
  {
   "cell_type": "markdown",
   "id": "3a3c81e1",
   "metadata": {},
   "source": [
    "### 2-(b). Repeat each of the following two procedures 50 times. You will have 50 errors for 90 SVMs per each procedure."
   ]
  },
  {
   "cell_type": "markdown",
   "id": "2085ea71",
   "metadata": {},
   "source": [
    "#### 2-(b)-i. Train a SVM with a pool of 10 randomly selected data points from the training set using linear kernel and L1 penalty. Select the penalty parameter using 5-fold cross validation.4 Repeat this process by adding 10 other randomly selected data points to the pool, until you use all the 900 points. Do NOT replace the samples back into the training set at each step. Calculate the test error for each SVM. You will have 90 SVMs that were trained using 10, 20, 30, ... , 900 data points and their 90 test errors. You have implemented passive learning."
   ]
  },
  {
   "cell_type": "code",
   "execution_count": 27,
   "id": "1f3ec509",
   "metadata": {},
   "outputs": [],
   "source": [
    "df_result_passive = pd.DataFrame(columns = ['iteration', 'num_samples', 'training_err', 'testing_err'], dtype = float)\n"
   ]
  },
  {
   "cell_type": "code",
   "execution_count": 28,
   "id": "22d3a52b",
   "metadata": {},
   "outputs": [
    {
     "name": "stdout",
     "output_type": "stream",
     "text": [
      "iteration: 5\n",
      "iteration: 10\n",
      "iteration: 15\n",
      "iteration: 20\n",
      "iteration: 25\n",
      "iteration: 30\n",
      "iteration: 35\n",
      "iteration: 40\n",
      "iteration: 45\n",
      "iteration: 50\n"
     ]
    }
   ],
   "source": [
    "# 50 iterations of passive learning\n",
    "for i in range(1, 51):\n",
    "    \n",
    "    # check progress\n",
    "    if i % 5 == 0:\n",
    "        print('iteration:', i)\n",
    "        \n",
    "    # split train / test\n",
    "    df_bn_X_train, df_bn_X_test, df_bn_y_train, df_bn_y_test = train_test_split(df_bn_X, df_bn_y, \\\n",
    "                                                        test_size = 472, random_state = i, stratify = df_bn_y)\n",
    "    \n",
    "    ### passive learning 90 times - increasing num samples\n",
    "    \n",
    "    # define initial traning set that is selected or not\n",
    "    df_bn_X_train_selected = pd.DataFrame(columns = df_bn_X_train.columns)\n",
    "    df_bn_y_train_selected = pd.Series(dtype = int)\n",
    "    df_bn_X_train_not_selected = df_bn_X_train.copy()\n",
    "    df_bn_y_train_not_selected = df_bn_y_train.copy()\n",
    "    \n",
    "    \n",
    "    ## start PASSIVE LEARNING by adding randomly select 10 samples (90 iterations)\n",
    "    for j in range(1, 91):\n",
    "    \n",
    "        # randomly select 10 data points\n",
    "        rand_data = df_bn_X_train_not_selected.sample(n = 10, random_state = 0)\n",
    "    \n",
    "        # append randomly selected data to training set and remove from non-selected df\n",
    "        df_bn_X_train_selected = df_bn_X_train_selected.append(rand_data)\n",
    "        df_bn_y_train_selected = df_bn_y_train_selected.append(df_bn_y_train_not_selected[rand_data.index])\n",
    "\n",
    "        df_bn_X_train_not_selected = df_bn_X_train_not_selected.drop(index = rand_data.index)\n",
    "        df_bn_y_train_not_selected = df_bn_y_train_not_selected.drop(index = rand_data.index)\n",
    "        \n",
    "        # skip if selected samples are from only one class\n",
    "        if len(df_bn_y_train_selected.drop_duplicates()) == 1:\n",
    "            continue\n",
    "        \n",
    "        # standardize data\n",
    "        scaler = StandardScaler()\n",
    "        df_bn_X_train_selected_std = scaler.fit_transform(df_bn_X_train_selected)\n",
    "        df_bn_X_test_std = scaler.transform(df_bn_X_test)\n",
    "        \n",
    "        # train with 5-fold CV\n",
    "        params = {'C': [1e-4, 1e-2, 1, 1e2, 1e4]}\n",
    "        cls_svm = LinearSVC(penalty = 'l1',  random_state = 0, dual = False, max_iter = 1e5)\n",
    "        cls_svm_cv = GridSearchCV(cls_svm, params, cv = 5, scoring = 'accuracy')\n",
    "        x_sort = pd.DataFrame(df_bn_X_train_selected_std, index = df_bn_X_train_selected.index).sort_index()\n",
    "        y_sort = pd.DataFrame(df_bn_y_train_selected).sort_index()\n",
    "        cls_svm_cv.fit(x_sort, y_sort)\n",
    "        \n",
    "        # best SVM from CV\n",
    "        cls_svm_best = cls_svm_cv.best_estimator_\n",
    "    \n",
    "        # find errors\n",
    "        train_err = 1 - cls_svm_best.score(df_bn_X_train_selected_std, df_bn_y_train_selected)\n",
    "        test_err = 1 - cls_svm_best.score(df_bn_X_test_std, df_bn_y_test)\n",
    "\n",
    "        # append results of first run to df\n",
    "        df_result_passive.loc[len(df_result_passive), :] = [i, j * 10, train_err, test_err]\n",
    "\n",
    "    "
   ]
  },
  {
   "cell_type": "code",
   "execution_count": 29,
   "id": "4139ffa3",
   "metadata": {},
   "outputs": [],
   "source": [
    "df_result_passive_grouped = df_result_passive.groupby('num_samples')[['training_err', 'testing_err']].mean()"
   ]
  },
  {
   "cell_type": "markdown",
   "id": "ba434273",
   "metadata": {},
   "source": [
    "#### 2-(b)-ii. Train a SVM with a pool of 10 randomly selected data points from the training set5 using linear kernel and L1 penalty. Select the parameters of the SVM with 5-fold cross validation. Choose the 10 closest data points in the training set to the hyperplane of the SVM6 and add them to the pool. Do not replace the samples back into the training set. Train a new SVM using the pool. Repeat this process until all training data is used. You will have 90 SVMs that were trained using 10, 20, 30,..., 900 data points and their 90 test errors. You have implemented active learning."
   ]
  },
  {
   "cell_type": "code",
   "execution_count": 30,
   "id": "fb514de1",
   "metadata": {},
   "outputs": [],
   "source": [
    "df_result_active = pd.DataFrame(columns = ['iteration', 'num_samples', 'training_err', 'testing_err'], dtype = float)\n"
   ]
  },
  {
   "cell_type": "code",
   "execution_count": 31,
   "id": "15de3ce7",
   "metadata": {},
   "outputs": [
    {
     "name": "stdout",
     "output_type": "stream",
     "text": [
      "iteration: 5\n",
      "iteration: 10\n",
      "iteration: 15\n",
      "iteration: 20\n",
      "iteration: 25\n",
      "iteration: 30\n",
      "iteration: 35\n",
      "iteration: 40\n",
      "iteration: 45\n",
      "iteration: 50\n"
     ]
    }
   ],
   "source": [
    "# 50 iterations of active learning\n",
    "for i in range(1, 51):\n",
    "    \n",
    "    # check progress\n",
    "    if i % 5 == 0:\n",
    "        print('iteration:', i)\n",
    "    \n",
    "    # split train / test\n",
    "    df_bn_X_train, df_bn_X_test, df_bn_y_train, df_bn_y_test = train_test_split(df_bn_X, df_bn_y, \\\n",
    "                                                        test_size = 472, random_state = i, stratify = df_bn_y)\n",
    "    \n",
    "    ### active learning 90 times - increasing num samples\n",
    "    \n",
    "    # define initial training set that is selected or not\n",
    "    df_bn_X_train_selected = pd.DataFrame(columns = df_bn_X_train.columns)\n",
    "    df_bn_y_train_selected = pd.Series(dtype = int)\n",
    "    df_bn_X_train_not_selected = df_bn_X_train.copy()\n",
    "    df_bn_y_train_not_selected = df_bn_y_train.copy()\n",
    "    \n",
    "    cls_svm_best = None\n",
    "    \n",
    "    ## start ACTIVE LEARNING by adding data points closest to hyperplanes (90 iterations)\n",
    "    for j in range(1, 91):\n",
    "        \n",
    "        # select 10 samples either randomly or those closest to hyperplane\n",
    "        if len(df_bn_X_train_selected) == 0 or cls_svm_best is None:\n",
    "            # randomly select 10 data points for the first run\n",
    "            rand_data = df_bn_X_train_not_selected.sample(n = 10, random_state = 0)\n",
    "\n",
    "            # append randomly selected data to training set and remove from non-selected df\n",
    "            df_bn_X_train_selected = df_bn_X_train_selected.append(rand_data)\n",
    "            df_bn_y_train_selected = df_bn_y_train_selected.append(df_bn_y_train_not_selected[rand_data.index])\n",
    "\n",
    "            df_bn_X_train_not_selected = df_bn_X_train_not_selected.drop(rand_data.index)\n",
    "            df_bn_y_train_not_selected = df_bn_y_train_not_selected.drop(rand_data.index)\n",
    "        \n",
    "        else:\n",
    "            \n",
    "            # find distances of unselected data points\n",
    "            df_distance = pd.DataFrame({'dist': cls_svm_best.decision_function(df_bn_X_train_not_selected)}, index = df_bn_X_train_not_selected.index)\n",
    "            df_distance.loc[:, 'abs_dist'] = df_distance.loc[:, 'dist'].abs()\n",
    "\n",
    "            # select 10 data points closest to the hyperplane\n",
    "            closest_data_points = df_distance.nsmallest(columns = 'abs_dist', n = 10)\n",
    "\n",
    "            # add the selected data points to training set and remove from unselected list\n",
    "            df_bn_X_train_selected = df_bn_X_train_selected.append(df_bn_X_train_not_selected.loc[closest_data_points.index, :])\n",
    "            df_bn_y_train_selected = df_bn_y_train_selected.append(df_bn_y_train_not_selected[closest_data_points.index])\n",
    "\n",
    "            df_bn_X_train_not_selected = df_bn_X_train_not_selected.drop(index = closest_data_points.index)\n",
    "            df_bn_y_train_not_selected = df_bn_y_train_not_selected.drop(index = closest_data_points.index)\n",
    "        \n",
    "        # skip if selected samples are from only one class\n",
    "        if len(df_bn_y_train_selected.drop_duplicates()) == 1:\n",
    "            continue\n",
    "        \n",
    "        # standardize data\n",
    "        scaler = StandardScaler()\n",
    "        df_bn_X_train_selected_std = scaler.fit_transform(df_bn_X_train_selected)\n",
    "        df_bn_X_test_std = scaler.transform(df_bn_X_test)\n",
    "        \n",
    "        # train the model with 5-fold CV\n",
    "        params = {'C': [1e-4, 1e-2, 1, 1e2, 1e4]}\n",
    "        cls_svm = LinearSVC(penalty = 'l1',  random_state = 0, dual = False, max_iter = 1e5)\n",
    "        cls_svm_cv = GridSearchCV(cls_svm, params, cv = 5, scoring = 'accuracy')\n",
    "        x_sort = pd.DataFrame(df_bn_X_train_selected_std, index = df_bn_X_train_selected.index).sort_index()\n",
    "        y_sort = pd.DataFrame(df_bn_y_train_selected).sort_index()\n",
    "        cls_svm_cv.fit(x_sort, y_sort)\n",
    "        \n",
    "        # best SVM from CV\n",
    "        cls_svm_best = cls_svm_cv.best_estimator_\n",
    "\n",
    "        # find errors\n",
    "        train_err = 1 - cls_svm_best.score(df_bn_X_train_selected_std, df_bn_y_train_selected)\n",
    "        test_err = 1 - cls_svm_best.score(df_bn_X_test_std, df_bn_y_test)\n",
    "\n",
    "        # append results to df\n",
    "        df_result_active.loc[len(df_result_active), :] = [i, j * 10, train_err, test_err]\n",
    "        \n",
    "        "
   ]
  },
  {
   "cell_type": "code",
   "execution_count": 32,
   "id": "40bc3818",
   "metadata": {},
   "outputs": [],
   "source": [
    "df_result_active_grouped = df_result_active.groupby('num_samples')[['training_err', 'testing_err']].mean()"
   ]
  },
  {
   "cell_type": "markdown",
   "id": "381da9bf",
   "metadata": {},
   "source": [
    "### 2-(c). Average the 50 test errors for each of the incrementally trained 90 SVMs in 2(b)i and 2(b)ii. By doing so, you are performing a Monte Carlo simulation. Plot average test error versus number of training instances for both active and passive learners on the same figure and report your conclusions. Here, you are actually obtaining a learning curve by Monte-Carlo simulation."
   ]
  },
  {
   "cell_type": "code",
   "execution_count": 33,
   "id": "baa7fd99",
   "metadata": {},
   "outputs": [
    {
     "data": {
      "image/png": "[encoded data removed]",
      "text/plain": [
       "<Figure size 432x288 with 1 Axes>"
      ]
     },
     "metadata": {
      "needs_background": "light"
     },
     "output_type": "display_data"
    }
   ],
   "source": [
    "# plot average test errors vs number of traning instances for both active and passive learnings\n",
    "plt.plot(df_result_passive_grouped.index, df_result_passive_grouped['testing_err'], c = 'r', label = 'active learning')\n",
    "plt.plot(df_result_active_grouped.index, df_result_active_grouped['testing_err'], c = 'b', label = 'passive learning')\n",
    "plt.xlabel('number of samples')\n",
    "plt.ylabel('testing error')\n",
    "plt.legend()\n",
    "plt.show()\n"
   ]
  },
  {
   "cell_type": "markdown",
   "id": "b69d4d29",
   "metadata": {},
   "source": [
    "> We see that at the same number of samples used to train the model, active learner is able to achieve lower testing error compared to passive learner"
   ]
  }
 ],
 "metadata": {
  "kernelspec": {
   "display_name": "Python 3",
   "language": "python",
   "name": "python3"
  },
  "language_info": {
   "codemirror_mode": {
    "name": "ipython",
    "version": 3
   },
   "file_extension": ".py",
   "mimetype": "text/x-python",
   "name": "python",
   "nbconvert_exporter": "python",
   "pygments_lexer": "ipython3",
   "version": "3.8.8"
  }
 },
 "nbformat": 4,
 "nbformat_minor": 5
}
